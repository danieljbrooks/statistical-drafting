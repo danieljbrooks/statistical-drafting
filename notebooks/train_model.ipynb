{
 "cells": [
  {
   "cell_type": "markdown",
   "metadata": {},
   "source": [
    "# Training"
   ]
  },
  {
   "cell_type": "markdown",
   "metadata": {},
   "source": [
    "This notebook trains drafting models based on 17lands data"
   ]
  },
  {
   "cell_type": "code",
   "execution_count": null,
   "metadata": {},
   "outputs": [],
   "source": [
    "# If import fails, run the following command in project root. \n",
    "# pip install -e .\n",
    "# Reinstall package. \n",
    "%pip install .. -q\n",
    "\n",
    "import os\n",
    "import pandas as pd\n",
    "import torch\n",
    "from torch.utils.data import DataLoader, Dataset\n",
    "\n",
    "import statisticaldrafting as sd"
   ]
  },
  {
   "cell_type": "code",
   "execution_count": 2,
   "metadata": {},
   "outputs": [],
   "source": [
    "# List all available sets for training. \n",
    "set_abbreviations, draft_modes = [], []\n",
    "for fn in os.listdir(\"../data/17lands/\"):\n",
    "    if len(fn) > 20:\n",
    "        set_abbreviations.append(fn.split(\".\")[1])\n",
    "        draft_modes.append(fn.split(\".\")[2][:-5])"
   ]
  },
  {
   "cell_type": "code",
   "execution_count": null,
   "metadata": {},
   "outputs": [
    {
     "name": "stdout",
     "output_type": "stream",
     "text": [
      "Starting training for STX, Trad\n",
      "Using input file ../data/17lands/draft_data_public.STX.TradDraft.csv.gz\n",
      "Completed initialization.\n",
      "Winrate data not available for this set. Using all data. \n",
      "Loaded 0 picks, t= 2.2 s\n",
      "Winrate data not available for this set. Using all data. \n",
      "Winrate data not available for this set. Using all data. \n",
      "Winrate data not available for this set. Using all data. \n",
      "Winrate data not available for this set. Using all data. \n",
      "Winrate data not available for this set. Using all data. \n",
      "Winrate data not available for this set. Using all data. \n",
      "Winrate data not available for this set. Using all data. \n",
      "Winrate data not available for this set. Using all data. \n",
      "Loaded all draft data.\n",
      "Saved training set to ../data/training_sets/STX_Trad_diamond_train.pth\n",
      "Saved validation set to ../data/training_sets/STX_Trad_diamond_val.pth\n",
      "Created new cardname file for STX, ../data/cards/STX.csv\n",
      "Starting to train model\n"
     ]
    }
   ],
   "source": [
    "# Train all models.\n",
    "for set_abbreviation, draft_mode in zip(set_abbreviations, draft_modes):\n",
    "        print(f\"Starting training for {set_abbreviation}, {draft_mode}\")\n",
    "        sd.default_training_pipeline(set_abbreviation, draft_mode, overwrite_dataset=True)"
   ]
  },
  {
   "cell_type": "code",
   "execution_count": null,
   "metadata": {},
   "outputs": [],
   "source": [
    "for chunk in pd.read_csv(\"../data/17lands/draft_data_public.STX.TradDraft.csv.gz\", chunksize=10000, compression=\"gzip\"):\n",
    "    break"
   ]
  },
  {
   "cell_type": "code",
   "execution_count": null,
   "metadata": {},
   "outputs": [],
   "source": [
    "# Customizable training flow. \n",
    "\n",
    "# # Create dataset. \n",
    "# train_path, val_path = sd.create_dataset(set_abbreviation=set_abbreviation, \n",
    "#                 draft_mode=draft_mode, \n",
    "#                 overwrite=True)\n",
    "\n",
    "# dataset_folder = \"../data/training_sets/\"\n",
    "\n",
    "# train_dataset = torch.load(train_path)\n",
    "# train_dataloader = DataLoader(train_dataset, batch_size=10000, shuffle=True)\n",
    "\n",
    "# val_dataset = torch.load(val_path) \n",
    "# val_dataloader = DataLoader(val_dataset, batch_size=1, shuffle=False)\n",
    "\n",
    "# # Train network. \n",
    "# network = sd.DraftMLP(cardnames=train_dataset.cardnames)\n",
    "\n",
    "# sd.train_model(train_dataloader,\n",
    "#                 val_dataloader,\n",
    "#                 network,\n",
    "#                 epochs=20,\n",
    "#                 learning_rate=0.001,\n",
    "#                 experiment_name=f\"{set_abbreviation}_{draft_mode}\")"
   ]
  }
 ],
 "metadata": {
  "kernelspec": {
   "display_name": "3.11.1",
   "language": "python",
   "name": "python3"
  },
  "language_info": {
   "codemirror_mode": {
    "name": "ipython",
    "version": 3
   },
   "file_extension": ".py",
   "mimetype": "text/x-python",
   "name": "python",
   "nbconvert_exporter": "python",
   "pygments_lexer": "ipython3",
   "version": "3.11.1"
  }
 },
 "nbformat": 4,
 "nbformat_minor": 2
}

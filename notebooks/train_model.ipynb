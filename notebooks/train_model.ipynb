{
 "cells": [
  {
   "cell_type": "markdown",
   "metadata": {},
   "source": [
    "# Training"
   ]
  },
  {
   "cell_type": "markdown",
   "metadata": {},
   "source": [
    "This notebook trains drafting models based on 17lands data"
   ]
  },
  {
   "cell_type": "markdown",
   "metadata": {},
   "source": [
    "### Steps\n",
    "First download data from 17lands:\n",
    "1. Create a folder statistical-drafting/data/17lands/ \n",
    "2. Download draft data from [17lands](https://www.17lands.com/public_datasets) into the above folder\n",
    "3. Download an updated statistical-drafting/data/cards.csv file from [17lands](https://www.17lands.com/public_datasets) to support new sets\n",
    "4. Run the rest of this notebook to perform model training"
   ]
  },
  {
   "cell_type": "code",
   "execution_count": null,
   "metadata": {},
   "outputs": [],
   "source": [
    "# Create data folder if it doesn't exist yet. \n",
    "!mkdir -p ../data/17lands/"
   ]
  },
  {
   "cell_type": "code",
   "execution_count": null,
   "metadata": {},
   "outputs": [],
   "source": [
    "# Install package\n",
    "%pip install .. -q\n",
    "\n",
    "import os\n",
    "import pandas as pd\n",
    "import torch\n",
    "from torch.utils.data import DataLoader, Dataset\n",
    "\n",
    "import statisticaldrafting as sd"
   ]
  },
  {
   "cell_type": "code",
   "execution_count": null,
   "metadata": {},
   "outputs": [],
   "source": [
    "# Get all available sets for training. \n",
    "set_abbreviations, draft_modes = [], []\n",
    "for fn in os.listdir(\"../data/17lands/\"):\n",
    "    if len(fn) > 20:\n",
    "        sa, dm = fn.split(\".\")[1], fn.split(\".\")[2][:-5]\n",
    "        set_abbreviations.append(sa)\n",
    "        draft_modes.append(dm)"
   ]
  },
  {
   "cell_type": "code",
   "execution_count": null,
   "metadata": {},
   "outputs": [],
   "source": [
    "# Train models. \n",
    "# for set_abbreviation, draft_mode in zip([\"FDN\"], [\"Premier\"]): # Single set. \n",
    "for set_abbreviation, draft_mode in zip(set_abbreviations, draft_modes): # All models. \n",
    "        try:\n",
    "                print(f\"Starting training for {set_abbreviation}, {draft_mode}\")\n",
    "                sd.default_training_pipeline(set_abbreviation, draft_mode, overwrite_dataset=False)\n",
    "        except:\n",
    "                print(f\"Error for: {set_abbreviation}, {draft_mode}\")"
   ]
  }
 ],
 "metadata": {
  "kernelspec": {
   "display_name": "3.11.1",
   "language": "python",
   "name": "python3"
  },
  "language_info": {
   "codemirror_mode": {
    "name": "ipython",
    "version": 3
   },
   "file_extension": ".py",
   "mimetype": "text/x-python",
   "name": "python",
   "nbconvert_exporter": "python",
   "pygments_lexer": "ipython3",
   "version": "3.11.1"
  }
 },
 "nbformat": 4,
 "nbformat_minor": 2
}

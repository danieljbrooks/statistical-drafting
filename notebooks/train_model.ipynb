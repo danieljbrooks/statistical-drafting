{
 "cells": [
  {
   "cell_type": "markdown",
   "metadata": {},
   "source": [
    "# Training"
   ]
  },
  {
   "cell_type": "markdown",
   "metadata": {},
   "source": [
    "This notebook trains drafting models based on 17lands data"
   ]
  },
  {
   "cell_type": "code",
   "execution_count": 7,
   "metadata": {},
   "outputs": [],
   "source": [
    "# If import fails, run the following command in project root. \n",
    "# pip install -e . \n",
    "import statisticaldrafting as sd"
   ]
  },
  {
   "cell_type": "code",
   "execution_count": null,
   "metadata": {},
   "outputs": [
    {
     "name": "stdout",
     "output_type": "stream",
     "text": [
      "Training and validation sets already exist. Skipping. Set overwrite=True to reprocess.\n",
      "Starting to train model\n",
      "Validation set pick accuracy = 19.3%\n",
      "\n",
      "Starting epoch 0\n",
      "Training loss: 3.3115\n",
      "\n",
      "Starting epoch 1\n",
      "Training loss: 1.3316\n",
      "\n",
      "Starting epoch 2\n",
      "Training loss: 1.0358\n",
      "Validation set pick accuracy = 66.5%\n",
      "Saving model weights to ../data/models/test.pt\n",
      "\n",
      "Starting epoch 3\n",
      "Training loss: 0.9376\n",
      "\n",
      "Starting epoch 4\n",
      "Training loss: 0.8998\n",
      "Validation set pick accuracy = 68.4%\n",
      "Saving model weights to ../data/models/test.pt\n",
      "\n",
      "Starting epoch 5\n",
      "Training loss: 0.8749\n",
      "\n",
      "Starting epoch 6\n",
      "Training loss: 0.8583\n",
      "Validation set pick accuracy = 68.9%\n",
      "Saving model weights to ../data/models/test.pt\n",
      "\n",
      "Starting epoch 7\n",
      "Training loss: 0.8477\n",
      "\n",
      "Starting epoch 8\n",
      "Training loss: 0.8392\n",
      "Validation set pick accuracy = 69.2%\n",
      "Saving model weights to ../data/models/test.pt\n",
      "\n",
      "Starting epoch 9\n",
      "Training loss: 0.8307\n",
      "\n",
      "Starting epoch 10\n",
      "Training loss: 0.8221\n",
      "Validation set pick accuracy = 69.4%\n",
      "Saving model weights to ../data/models/test.pt\n",
      "\n",
      "Starting epoch 11\n",
      "Training loss: 0.8174\n",
      "\n",
      "Starting epoch 12\n",
      "Training loss: 0.81\n",
      "Validation set pick accuracy = 69.5%\n",
      "Saving model weights to ../data/models/test.pt\n",
      "\n",
      "Starting epoch 13\n",
      "Training loss: 0.8057\n",
      "\n",
      "Starting epoch 14\n",
      "Training loss: 0.8004\n",
      "Validation set pick accuracy = 69.6%\n",
      "Saving model weights to ../data/models/test.pt\n",
      "\n",
      "Starting epoch 15\n",
      "Training loss: 0.7957\n",
      "\n",
      "Starting epoch 16\n",
      "Training loss: 0.7928\n",
      "Validation set pick accuracy = 69.6%\n",
      "\n",
      "Starting epoch 17\n",
      "Training loss: 0.7886\n",
      "\n",
      "Starting epoch 18\n",
      "Training loss: 0.7854\n",
      "Validation set pick accuracy = 69.8%\n",
      "Saving model weights to ../data/models/test.pt\n",
      "\n",
      "Starting epoch 19\n",
      "Training loss: 0.7826\n"
     ]
    },
    {
     "data": {
      "text/plain": [
       "DraftMLP(\n",
       "  (input_layer): Linear(in_features=281, out_features=200, bias=True)\n",
       "  (hidden_layers): ModuleList(\n",
       "    (0): Linear(in_features=200, out_features=200, bias=True)\n",
       "  )\n",
       "  (projections): ModuleList(\n",
       "    (0): Identity()\n",
       "  )\n",
       "  (output_layer): Linear(in_features=200, out_features=281, bias=True)\n",
       "  (norms): ModuleList(\n",
       "    (0-1): 2 x LayerNorm((200,), eps=1e-05, elementwise_affine=True)\n",
       "  )\n",
       "  (dropout): Dropout(p=0.5, inplace=False)\n",
       ")"
      ]
     },
     "execution_count": 16,
     "metadata": {},
     "output_type": "execute_result"
    }
   ],
   "source": [
    "set_abbreviation = \"FDN\"\n",
    "draft_mode = \"Premier\"\n",
    "minimum_league = \"diamond\"\n",
    "\n",
    "# Create dataset. \n",
    "train_path, val_path = sd.create_dataset(set_abbreviation=set_abbreviation, \n",
    "                  draft_mode=draft_mode, \n",
    "                  overwrite=False,\n",
    "                  omit_first_days=7,\n",
    "                  minimum_league=minimum_league)\n",
    "\n",
    "import torch\n",
    "from torch.utils.data import DataLoader, Dataset\n",
    "\n",
    "dataset_folder = \"../data/training_sets/\"\n",
    "\n",
    "train_dataset = torch.load(train_path)\n",
    "train_dataloader = DataLoader(train_dataset, batch_size=10000, shuffle=True)\n",
    "\n",
    "val_dataset = torch.load(val_path) \n",
    "val_dataloader = DataLoader(val_dataset, batch_size=1, shuffle=False)\n",
    "\n",
    "ss = next(iter(train_dataloader))[0].shape[1] # set size\n",
    "\n",
    "network = sd.DraftMLP(input_dim=ss, hidden_dims=[200, 200], output_dim=ss, dropout=0.5)\n",
    "\n",
    "sd.train_model(train_dataloader,\n",
    "                val_dataloader,\n",
    "                network,\n",
    "                epochs=20,\n",
    "                learning_rate=0.003,\n",
    "                experiment_name=\"test\")"
   ]
  }
 ],
 "metadata": {
  "kernelspec": {
   "display_name": "3.11.1",
   "language": "python",
   "name": "python3"
  },
  "language_info": {
   "codemirror_mode": {
    "name": "ipython",
    "version": 3
   },
   "file_extension": ".py",
   "mimetype": "text/x-python",
   "name": "python",
   "nbconvert_exporter": "python",
   "pygments_lexer": "ipython3",
   "version": "3.11.1"
  }
 },
 "nbformat": 4,
 "nbformat_minor": 2
}

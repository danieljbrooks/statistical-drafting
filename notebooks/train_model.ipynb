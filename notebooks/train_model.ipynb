{
 "cells": [
  {
   "cell_type": "markdown",
   "metadata": {},
   "source": [
    "# Training"
   ]
  },
  {
   "cell_type": "markdown",
   "metadata": {},
   "source": [
    "This notebook trains drafting models based on 17lands data"
   ]
  },
  {
   "cell_type": "code",
   "execution_count": 5,
   "metadata": {},
   "outputs": [],
   "source": [
    "# If import fails, run the following command in project root. \n",
    "# pip install -e . \n",
    "import torch\n",
    "from torch.utils.data import DataLoader, Dataset\n",
    "\n",
    "import statisticaldrafting as sd"
   ]
  },
  {
   "cell_type": "code",
   "execution_count": 6,
   "metadata": {},
   "outputs": [
    {
     "name": "stdout",
     "output_type": "stream",
     "text": [
      "Training and validation sets already exist. Skipping.\n"
     ]
    }
   ],
   "source": [
    "set_abbreviation = \"FDN\"\n",
    "draft_mode = \"Premier\"\n",
    "minimum_league = \"diamond\"\n",
    "\n",
    "# Create dataset. \n",
    "train_path, val_path = sd.create_dataset(set_abbreviation=set_abbreviation, \n",
    "                  draft_mode=draft_mode, \n",
    "                  overwrite=False,\n",
    "                  omit_first_days=5,\n",
    "                  minimum_league=minimum_league)\n",
    "\n",
    "dataset_folder = \"../data/training_sets/\"\n",
    "\n",
    "train_dataset = torch.load(train_path)\n",
    "train_dataloader = DataLoader(train_dataset, batch_size=10000, shuffle=True)\n",
    "\n",
    "val_dataset = torch.load(val_path) \n",
    "val_dataloader = DataLoader(val_dataset, batch_size=1, shuffle=False)\n"
   ]
  },
  {
   "cell_type": "code",
   "execution_count": null,
   "metadata": {},
   "outputs": [],
   "source": [
    "network = sd.DraftMLP(cardnames=train_dataset.cardnames, hidden_dims=[300, 300, 300], dropout=0.5)\n",
    "\n",
    "sd.train_model(train_dataloader,\n",
    "                val_dataloader,\n",
    "                network,\n",
    "                epochs=40,\n",
    "                learning_rate=0.001,\n",
    "                experiment_name=\"FDN\")"
   ]
  },
  {
   "cell_type": "code",
   "execution_count": 4,
   "metadata": {},
   "outputs": [],
   "source": [
    "# Force creation of new card set. \n",
    "# sd.create_card_csv(set_abbreviation, cardnames=train_dataset.cardnames, reprocess=True)"
   ]
  }
 ],
 "metadata": {
  "kernelspec": {
   "display_name": "3.11.1",
   "language": "python",
   "name": "python3"
  },
  "language_info": {
   "codemirror_mode": {
    "name": "ipython",
    "version": 3
   },
   "file_extension": ".py",
   "mimetype": "text/x-python",
   "name": "python",
   "nbconvert_exporter": "python",
   "pygments_lexer": "ipython3",
   "version": "3.11.1"
  }
 },
 "nbformat": 4,
 "nbformat_minor": 2
}

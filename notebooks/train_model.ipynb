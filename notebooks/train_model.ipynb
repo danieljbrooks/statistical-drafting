{
 "cells": [
  {
   "cell_type": "markdown",
   "metadata": {},
   "source": [
    "# Training"
   ]
  },
  {
   "cell_type": "markdown",
   "metadata": {},
   "source": [
    "This notebook trains drafting models based on 17lands data"
   ]
  },
  {
   "cell_type": "code",
   "execution_count": null,
   "metadata": {},
   "outputs": [
    {
     "name": "stdout",
     "output_type": "stream",
     "text": [
      "Using input file ../data/17lands/draft_data_public.FDN.PremierDraft.csv.gz\n",
      "Completed initialization.\n",
      "Loaded 0 picks from draft, t= 1.6 s\n",
      "Loaded 1000000 picks from draft, t= 18.7 s\n",
      "Loaded 2000000 picks from draft, t= 36.3 s\n",
      "Loaded 3000000 picks from draft, t= 53.9 s\n",
      "Done loaded draft data.\n",
      "Saved training set to ../data/training_sets/FDN_Premier_diamond_train.pth\n",
      "Saved validation set to ../data/training_sets/FDN_Premier_diamond_train.pth\n"
     ]
    }
   ],
   "source": [
    "# If import fails, run the following command in project root. \n",
    "# pip install -e . \n",
    "import statisticaldrafting as sd\n",
    "\n",
    "# Create dataset. \n",
    "sd.create_dataset(set_abbreviation=\"FDN\", \n",
    "                  draft_mode=\"Premier\", \n",
    "                  overwrite=True,\n",
    "                  omit_first_days=7,\n",
    "                  minimum_league=\"diamond\")"
   ]
  },
  {
   "cell_type": "code",
   "execution_count": null,
   "metadata": {},
   "outputs": [],
   "source": [
    "# TODO: Train model"
   ]
  }
 ],
 "metadata": {
  "kernelspec": {
   "display_name": "3.11.1",
   "language": "python",
   "name": "python3"
  },
  "language_info": {
   "codemirror_mode": {
    "name": "ipython",
    "version": 3
   },
   "file_extension": ".py",
   "mimetype": "text/x-python",
   "name": "python",
   "nbconvert_exporter": "python",
   "pygments_lexer": "ipython3",
   "version": "3.11.1"
  }
 },
 "nbformat": 4,
 "nbformat_minor": 2
}

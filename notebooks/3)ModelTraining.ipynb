{
 "cells": [
  {
   "cell_type": "markdown",
   "id": "3ca70900",
   "metadata": {},
   "source": [
    "# Train MLP Neural Network. \n",
    "\n",
    "TODO: set up git repository (in vscode)"
   ]
  },
  {
   "cell_type": "code",
   "execution_count": 166,
   "id": "ec1d37f4",
   "metadata": {},
   "outputs": [],
   "source": [
    "from collections import Counter\n",
    "import numpy as np\n",
    "import functools\n",
    "import time\n",
    "import torch\n",
    "import torch.optim as optim\n",
    "import torch.nn as nn\n",
    "import torch.nn.functional as F\n",
    "from torch.utils.data import DataLoader, Dataset\n",
    "import warnings\n",
    "\n",
    "warnings.filterwarnings(\"ignore\")"
   ]
  },
  {
   "cell_type": "code",
   "execution_count": 167,
   "id": "2e870c23",
   "metadata": {},
   "outputs": [],
   "source": [
    "# Data loader for validation. \n",
    "class PickDataset(Dataset):\n",
    "    def __init__(self, pools, packs, pick_vectors, cardnames):\n",
    "        # Input is numpy arrays\n",
    "        self.pools = pools\n",
    "        self.packs = packs\n",
    "        self.pick_vectors = pick_vectors\n",
    "        self.cardnames = cardnames\n",
    "                            \n",
    "    def __len__(self):\n",
    "        return len(self.packs)\n",
    "\n",
    "    def __getitem__(self,index):\n",
    "        return torch.from_numpy(self.pools[index]), torch.from_numpy(self.packs[index]), torch.from_numpy(self.pick_vectors[index])"
   ]
  },
  {
   "cell_type": "code",
   "execution_count": 168,
   "id": "b2477878",
   "metadata": {},
   "outputs": [],
   "source": [
    "# Load datasets. \n",
    "dataset_folder = \"/Users/danielbrooks/Desktop/Code/statistical-drafting/datasets/BLB/\"\n",
    "\n",
    "train_dataset = torch.load(dataset_folder + \"pick_train_dataset_test.pth\")\n",
    "train_dataloader = DataLoader(train_dataset, batch_size=2500, shuffle=True)\n",
    "\n",
    "val_dataset = torch.load(dataset_folder + \"pick_val_dataset_test.pth\") \n",
    "val_dataloader = DataLoader(val_dataset, batch_size=1, shuffle=False)"
   ]
  },
  {
   "cell_type": "code",
   "execution_count": 169,
   "id": "f7ed4ae6",
   "metadata": {},
   "outputs": [],
   "source": [
    "# class Siamese(nn.Module):\n",
    "#     def __init__(self, input_size, output_dim):\n",
    "#         super(Siamese,self).__init__()\n",
    "#         self.input_size = input_size\n",
    "        \n",
    "#         self.hidden_1 = nn.Sequential(\n",
    "#             nn.Linear(input_size, 400),\n",
    "#             # nn.BatchNorm1d(400),  # Add BatchNorm after Linear\n",
    "#             nn.Dropout(0.5),\n",
    "#             nn.ELU()\n",
    "#         )\n",
    "# #         self.hidden_2 = nn.Sequential(\n",
    "# #             nn.Linear(64, 32),\n",
    "# #             nn.Dropout(0.5),\n",
    "# #             nn.ELU()\n",
    "# #         )\n",
    "#         self.out = nn.Sequential(\n",
    "#             nn.Linear(400, output_dim),\n",
    "#             nn.Tanh()\n",
    "#         )\n",
    "\n",
    "#     def forward(self,x):\n",
    "#         x = self.hidden_1(x)\n",
    "#         # x = self.hidden_2(x)\n",
    "#         x = self.out(x)\n",
    "#         return x\n",
    "\n",
    "# def get_distance(positive,negative):\n",
    "#     return torch.sum(torch.pow(positive-negative,2),dim=1)"
   ]
  },
  {
   "cell_type": "code",
   "execution_count": 170,
   "id": "cc5b0e6a",
   "metadata": {},
   "outputs": [],
   "source": [
    "def get_card_embeddings(network, set_size=271):\n",
    "    \"\"\"\n",
    "    Returns card embeddings from the network. \n",
    "    \n",
    "    Can be cached after network training. \n",
    "    \"\"\"\n",
    "    network.eval()\n",
    "    with torch.no_grad(): \n",
    "        card_embeddings = network(torch.eye(set_size))\n",
    "    return card_embeddings\n",
    "\n",
    "def make_pick(network, pool, pack, card_embeddings):\n",
    "    \"\"\"\n",
    "    Makes a pick from a pack given a trained network. \n",
    "    \n",
    "    pool: Tensor (1 x set_size)\n",
    "    pack: Tensor (1 x set_size)\n",
    "    card_embeddings: (set_size x output_dim)\n",
    "    network: torch.nn\n",
    "    \n",
    "    returns: Tensor (1 x set_size) - recommended pick\n",
    "    \"\"\"\n",
    "    # Make sure no gradients are saved\n",
    "    network.eval()\n",
    "    with torch.no_grad():\n",
    "        \n",
    "        # Get embedding of card pool. \n",
    "        pick_embedding = network(pool.float())\n",
    "    \n",
    "    # Compare to pack\n",
    "    cards_in_pack = torch.nonzero(pack)[:, 1]\n",
    "    pack_card_embeddings = card_embeddings[cards_in_pack, :]\n",
    "    pack_distances = get_distance(pack_card_embeddings, pick_embedding)\n",
    "\n",
    "    # Make pick\n",
    "    pick_distance, pack_index = torch.min(pack_distances, dim=0) # torch type. \n",
    "    pick_index = cards_in_pack[pack_index.item()].item()\n",
    "    \n",
    "    # Return number and one hot vector\n",
    "    pick_vector = torch.zeros([1, 271], dtype=torch.int64)\n",
    "    pick_vector[0, pick_index] = 1\n",
    "    return pick_index, pick_vector\n",
    "\n",
    "def evaluate_model(val_dataloader, network):\n",
    "    # Load data.\n",
    "    t0 = time.time()\n",
    "    \n",
    "    # Refresh card embeddings. \n",
    "    card_embeddings = get_card_embeddings(network)\n",
    "\n",
    "    # Count number correct picks. \n",
    "    num_correct, num_incorrect = 0, 0\n",
    "    for pool, pack, human_pick in val_dataloader: # Assumes batch size of 1.      \n",
    "        bot_pick_index, bot_pick_vector = make_pick(network, pool, pack, card_embeddings)\n",
    "\n",
    "        # Print results\n",
    "        if torch.equal(human_pick, bot_pick_vector):\n",
    "            num_correct += 1\n",
    "        else:\n",
    "            num_incorrect += 1\n",
    "\n",
    "    # Untrained, random picks. \n",
    "    # print(f\"total picks = {num_correct + num_incorrect}\")\n",
    "    print(f\"correct = {round(100 * num_correct / (num_correct + num_incorrect), 1)}%\")\n",
    "    # print(f\"evaluation runtime = {round(time.time() - t0, 2)}s\")"
   ]
  },
  {
   "cell_type": "code",
   "execution_count": 171,
   "id": "1a0a511e",
   "metadata": {},
   "outputs": [],
   "source": [
    "# def train_siamese(train_dataloader, val_dataloader, epochs, network, experiment_name):    \n",
    "#     loss_fn = torch.nn.TripletMarginLoss()\n",
    "#     # optimizer = optim.Adam(network.parameters(), lr = 1e-4)\n",
    "#     optimizer = optim.Adam(network.parameters(), lr = 0.001) # try this with batchnorm. \n",
    "\n",
    "#     # Initial evaluation. \n",
    "#     print(\"Starting to train model\")\n",
    "#     evaluate_model(val_dataloader, network)\n",
    "    \n",
    "#     num_picks = 0\n",
    "    \n",
    "#     t0 = time.time()    \n",
    "#     # Training loop. \n",
    "#     for epoch in range(epochs):\n",
    "#         network.train()\n",
    "#         epoch_training_loss = list()\n",
    "\n",
    "#         print(f\"\\nStarting epoch {epoch}\")\n",
    "        \n",
    "#         # Train model. \n",
    "#         for i, (anchor, positive, negative) in enumerate(train_dataloader):\n",
    "#             optimizer.zero_grad()\n",
    "#             out1 = network(anchor.float()) # Cast types as float to facilitate running. \n",
    "#             out2 = network(positive.float())\n",
    "#             out3 = network(negative.float())\n",
    "#             loss = loss_fn(out1, out2, out3)\n",
    "#             loss.backward()\n",
    "#             optimizer.step()\n",
    "#             epoch_training_loss.append(loss.item())\n",
    "            \n",
    "#             # Note 1.6 million picks in training set. \n",
    "#             examples_processed = (i + 1) * anchor.shape[0]\n",
    "#             if examples_processed % 250000 == 0:\n",
    "#                 print(f\"training complete on {examples_processed} examples, time={round(time.time() - t0, 1)}\")\n",
    "            \n",
    "#         # Evaluation. \n",
    "#         network = network.eval()\n",
    "#         print(f\"Training loss: {round(np.mean(epoch_training_loss), 4)}\")\n",
    "#         evaluate_model(val_dataloader, network)\n",
    "        \n",
    "#         # Save network weights\n",
    "#         weights_path = f'./model_weights/{experiment_name}.pt'\n",
    "#         print(f\"Saving model weights to {weights_path}\")\n",
    "#         torch.save(network.state_dict(), weights_path)\n",
    "            \n",
    "#     return network"
   ]
  },
  {
   "cell_type": "code",
   "execution_count": 172,
   "id": "2756e80b",
   "metadata": {},
   "outputs": [],
   "source": [
    "# TODO: build training infra (model serialization, metric logging (mlflow?), using model as a pick recommender)"
   ]
  },
  {
   "cell_type": "code",
   "execution_count": 173,
   "id": "6e89c828",
   "metadata": {
    "scrolled": false
   },
   "outputs": [],
   "source": [
    "# # Sample evaluation flow - verified that this works. \n",
    "# # network = Siamese(271, 400)\n",
    "\n",
    "# EXPERIMENT_NAME = \"exp27_5weeks_400_400\"\n",
    "# network = train_siamese(train_dataloader,\n",
    "#                         val_dataloader,\n",
    "#                         epochs=2000,\n",
    "#                         network=network,\n",
    "#                         experiment_name=EXPERIMENT_NAME)"
   ]
  },
  {
   "cell_type": "code",
   "execution_count": 174,
   "id": "d5e228fa",
   "metadata": {},
   "outputs": [],
   "source": [
    "# Experiment #2 (d=256 output layer) -> appeared to overfit during first 5 epochs. Reduce output dimension to 32\n",
    "# Experiment #3 (d=32 output layer) -> convered to 67.5% test accuracy after 65 epochs\n",
    "# Experiment #4 (d=32 output, include plat, ~x5 dataset size, currently at 66.8% after 29 epochs) (no network)\n",
    "# Experiment #5 (d=256 output, include plat, ~x5 dataset size, at at 57.4% after 23 epochs) (results in exp 4, oops)\n",
    "# Experiment #6 (d=64 output, include plat, ~x5 dataset size, 67.2% on epoch 18) \"exp6_platinum_64outputneuron\"\n",
    "# Experiment #7 (d=64 output, only last 3 days w/ plat, 66.4% after 25 epochs (train loss ~0.2587)\n",
    "#               (66.9%, loss down to 0.2388 with LR=0.001))\n",
    "#               (extending with dropout off, loss to 0.2300)\n",
    "#               (Finish with accuracy of 66.9%, loss of 0.2252)\n",
    "# Experiment #8 (128, 64, 64) no dropout -> 67.4% / 0.2242 in just 10 epochs\n",
    "# Experiment #9 (64, 32, 32) -> 67.3% / 0.22 (Eventually train loss = 0.2014, correct% = 66.2)\n",
    "# Experiment #10 (128, 128) -> 67.4% / 0.2400 (in 9 epochs), peaked at 67.5%\n",
    "# Experiment #11 (16, 16) - seems to underfit (correct 60.5, loss = 0.4028)\n",
    "# Experiment #13 (4096, 4096) - a bit slow (10 minutes/epoch), 66.0%/0.2245 after epoch 2, 66.9 after a few\n",
    "# Experiment #14 (64, 16) Training loss: 0.2843 correct = 63.7%  ?? not sure on dimension\n",
    "# Experiment #15 (64, 16) confirmed 14 (63.7%)\n",
    "# Experiment #16 (16, 64) slower convergence (~62.1% early on)\n",
    "# Experiment #17 (16, 16) Training loss: 0.4143 correct = 58.6%\n",
    "# Experiment #18 (64, 64) epoch 12 Training loss: 0.2608 correct = 66.3%\n",
    "# Experiment #19 (276, 276) Training loss: 0.2259, correct = 67.6% (epoch 7), LR = 0.003 (58s/epoch)\n",
    "             # Continue with batch_size=10k (speeds up training by ~20%?), correct -> 67.8%\n",
    "             # Trying batch_size = 100k now (no speed up now), similar perf\n",
    "             # Trying without dropout\n",
    "# Experiment #20 (512, 512) LR 0.01 initially, Training loss: 0.2014, correct = 68.2% (peak)\n",
    "# Experiment #21 (1024, 1024) LR 0.1 initially (3 minutes/epoch)\n",
    "            # Training loss: 0.2287, correct = 66.6%\n",
    "# Experiment #22 (400, 400) 68.3% peak, (~40 epochs), then overfit\n",
    "\n",
    "# MOST RELIABLE\n",
    "# Experiment #23 (400, 400) small batch (25) - good & steady perf -  (~6 mins/epic) Training loss: 0.216, correct = 68.3% after eopch 20\n",
    "# Experiment #24 (400, 400) batchnorm, no dropout (lr=0.01, batchsize=2500), (time_per_epoch=~1.3 minutes)\n",
    "            # Network overfits immediately with batchnorm... (time per epoch no batchnorm 72 seconds)\n",
    "            # No batchnorm, no dropout: Training loss: 0.2295, correct = 66.8% (after epoch 1)\n",
    "            #                           Similar perf after epoch 6 (maybe need dropout?)\n",
    "\n",
    "# FASTEST CONVERGENCE TO ~1% OF OPTIMAL            \n",
    "# Experiment #25 (400, 400) dropout 0.2, batchsize=2500, learningrato=0.01\n",
    "            # Time per epic ~80 seconds\n",
    "            # Training loss: 0.2305, correct = 67.0% (after epic 1 - 2 minutes of training)\n",
    "            # 67.3 after 15 epoch, switch to LR = 0.001\n",
    "            # 67.7 after another 10 epochs with low LR (Training loss: 0.1869)\n",
    "            # Increase dropout to 0.4 ...\n",
    "            # Now trying dropout=0.5, LR=0.001 (best)\n",
    "            # After 16 epoch: Training loss: 0.2193 correct = 68.1%\n",
    "\n",
    "# Experiment #26 (400, 400) Try MLP Model\n",
    "# Experiment #27 full 5 weeks of data (400, 400) "
   ]
  },
  {
   "cell_type": "markdown",
   "id": "6d33d0ed",
   "metadata": {},
   "source": [
    "## Train MLP (experiment)"
   ]
  },
  {
   "cell_type": "code",
   "execution_count": 175,
   "id": "52ceba44",
   "metadata": {},
   "outputs": [],
   "source": [
    "# class MLP(nn.Module):\n",
    "#     def __init__(self, input_size):\n",
    "#         super(MLP,self).__init__()\n",
    "#         self.input_size = input_size\n",
    "  \n",
    "#         self.MODEL_WIDTH = 100\n",
    "        \n",
    "#         self.hidden_1 = nn.Sequential(\n",
    "#             nn.Linear(input_size, self.MODEL_WIDTH),\n",
    "#             nn.BatchNorm1d(self.MODEL_WIDTH),  # Add BatchNorm after Linear\n",
    "#             nn.Dropout(0.5),\n",
    "#             nn.ELU()\n",
    "#         )\n",
    "#         self.hidden_2 = nn.Sequential(\n",
    "#             nn.Linear(self.MODEL_WIDTH, self.MODEL_WIDTH),\n",
    "#             nn.BatchNorm1d(self.MODEL_WIDTH),  # Add BatchNorm after Linear\n",
    "#             nn.Dropout(0.5),\n",
    "#             nn.ELU()\n",
    "#         )\n",
    "#         self.out = nn.Sequential(\n",
    "#             nn.Linear(self.MODEL_WIDTH, input_size),\n",
    "# #             nn.Tanh()\n",
    "#         )\n",
    "\n",
    "#     def forward(self,x, pack):\n",
    "#         x = self.hidden_1(x)\n",
    "# #         x = self.hidden_2(x)\n",
    "#         x = self.out(x)\n",
    "#   #       print(\"before pack\", x.shape)\n",
    "#         x = x * pack\n",
    "#   #      print(\"after pack\", x.shape)\n",
    "#         return x"
   ]
  },
  {
   "cell_type": "code",
   "execution_count": 176,
   "id": "5e7756e6",
   "metadata": {},
   "outputs": [],
   "source": [
    "class ModernMLP(nn.Module):\n",
    "    def __init__(self, input_dim, hidden_dims, output_dim, dropout=0.1):\n",
    "        \"\"\"\n",
    "        Args:\n",
    "            input_dim (int): Size of the input features.\n",
    "            hidden_dims (list): List of integers specifying hidden layer sizes.\n",
    "            output_dim (int): Size of the output features.\n",
    "            dropout (float): Dropout rate for regularization.\n",
    "        \"\"\"\n",
    "        super(ModernMLP, self).__init__()\n",
    "        \n",
    "        # Input layer\n",
    "        self.input_layer = nn.Linear(input_dim, hidden_dims[0])\n",
    "        \n",
    "        # Hidden layers\n",
    "        self.hidden_layers = nn.ModuleList(\n",
    "            nn.Linear(hidden_dims[i], hidden_dims[i+1]) for i in range(len(hidden_dims) - 1)\n",
    "        )\n",
    "        \n",
    "        # Projection layers for residuals if dimensions mismatch\n",
    "        self.projections = nn.ModuleList(\n",
    "            nn.Linear(hidden_dims[i], hidden_dims[i+1]) if hidden_dims[i] != hidden_dims[i+1] else nn.Identity()\n",
    "            for i in range(len(hidden_dims) - 1)\n",
    "        )\n",
    "        \n",
    "        # Output layer\n",
    "        self.output_layer = nn.Linear(hidden_dims[-1], output_dim)\n",
    "        \n",
    "        # Normalization and regularization\n",
    "        self.norms = nn.ModuleList(nn.LayerNorm(dim) for dim in hidden_dims)\n",
    "        self.dropout = nn.Dropout(dropout)\n",
    "        \n",
    "    def forward(self, x, pack):\n",
    "        # Input layer\n",
    "        x = self.input_layer(x)\n",
    "        x = F.gelu(x)  # Activation function\n",
    "        x = self.dropout(x)\n",
    "        \n",
    "        # Hidden layers with residual connections\n",
    "        for layer, norm, proj in zip(self.hidden_layers, self.norms, self.projections):\n",
    "            residual = x\n",
    "            x = layer(x)\n",
    "            x = F.gelu(x)\n",
    "            x = self.dropout(x)\n",
    "            x = norm(x + proj(residual))  # Residual connection + LayerNorm\n",
    "            \n",
    "        # Output layer\n",
    "        x = self.output_layer(x)\n",
    "        x = x * pack\n",
    "        return x"
   ]
  },
  {
   "cell_type": "code",
   "execution_count": 177,
   "id": "c32a7b9f",
   "metadata": {},
   "outputs": [],
   "source": [
    "def evaluate_mlp(val_dataloader, mlp_network):\n",
    "    # Load data.\n",
    "    t0 = time.time()\n",
    "\n",
    "    # Count number correct picks. \n",
    "    num_correct, num_incorrect = 0, 0\n",
    "    for pool, pack, human_pick_vector in val_dataloader: # Assumes batch size of 1. \n",
    "        \n",
    "        human_pick_index = torch.argmax(human_pick_vector.int(), 1)\n",
    "        mlp_network.eval()\n",
    "        with torch.no_grad():\n",
    "            bot_pick_vector = mlp_network(pool.float(), pack.float())\n",
    "            bot_picks_index = torch.argmax(bot_pick_vector, 1)\n",
    "\n",
    "        # print(human_pick_vector, bot_pick_vector)\n",
    "        # print(human_pick_index, bot_picks_index, torch.equal(human_pick_index, bot_picks_index))\n",
    "        \n",
    "        # Print results\n",
    "        if torch.equal(human_pick_index, bot_picks_index):\n",
    "            num_correct += 1\n",
    "        else:\n",
    "            num_incorrect += 1\n",
    "\n",
    "    # Untrained, random picks. \n",
    "    # print(f\"total picks = {num_correct + num_incorrect}\")\n",
    "    correct_percent = 100 * num_correct / (num_correct + num_incorrect)\n",
    "    print(f\"correct = {round(correct_percent, 1)}%\")\n",
    "    return correct_percent"
   ]
  },
  {
   "cell_type": "code",
   "execution_count": 178,
   "id": "12fd3f13",
   "metadata": {},
   "outputs": [],
   "source": [
    "def train_mlp(train_dataloader, val_dataloader, epochs, network, experiment_name):    \n",
    "    # loss_fn = torch.nn.TripletMarginLoss()\n",
    "    loss_fn = torch.nn.CrossEntropyLoss()\n",
    "    # optimizer = optim.Adam(network.parameters(), lr = 1e-4)\n",
    "    optimizer = optim.Adam(network.parameters(), lr = 0.01) # try this with batchnorm. \n",
    "\n",
    "    # Initial evaluation. \n",
    "    print(\"Starting to train MLP model\")\n",
    "    best_percent_correct = evaluate_mlp(val_dataloader, network)\n",
    "    # evaluate_model(val_dataloader, network)\n",
    "    \n",
    "    num_picks = 0\n",
    "    t0 = time.time()    \n",
    "    # Training loop. \n",
    "    for epoch in range(epochs):\n",
    "        network.train()\n",
    "        epoch_training_loss = list()\n",
    "\n",
    "        print(f\"\\nStarting epoch {epoch}\")\n",
    "        # Train model. \n",
    "        for i, (pool, pack, pick_vector) in enumerate(train_dataloader):\n",
    "            optimizer.zero_grad()\n",
    "            predicted_pick = network(pool.float(), pack.float())\n",
    "            loss = loss_fn(predicted_pick, pick_vector.float())\n",
    "            loss.backward()\n",
    "            optimizer.step()\n",
    "            epoch_training_loss.append(loss.item())\n",
    "            \n",
    "            # Note 1.6 million picks in training set. \n",
    "            examples_processed = (i + 1) * pool.shape[0]\n",
    "            if examples_processed % 100000 == 0:\n",
    "                print(f\"training complete on {examples_processed} examples, time={round(time.time() - t0, 1)}\")\n",
    "        \n",
    "        print(f\"Training loss: {round(np.mean(epoch_training_loss), 4)}\")\n",
    "\n",
    "        \n",
    "        if epoch % 3 == 0 and epoch > 0:\n",
    "            # Evaluation. \n",
    "            network = network.eval()\n",
    "            percent_correct = evaluate_mlp(val_dataloader, network)\n",
    "\n",
    "            # Save best model. \n",
    "            if percent_correct > best_percent_correct:\n",
    "                best_percent_correct = percent_correct\n",
    "                weights_path = f'./model_weights/{experiment_name}.pt'\n",
    "                print(f\"Saving model weights to {weights_path}\")\n",
    "                torch.save(network.state_dict(), weights_path)                \n",
    "            \n",
    "    return network"
   ]
  },
  {
   "cell_type": "code",
   "execution_count": 179,
   "id": "511dc3e5",
   "metadata": {},
   "outputs": [],
   "source": [
    "# Load datasets. \n",
    "dataset_folder = \"/Users/danielbrooks/Desktop/Code/statistical-drafting/datasets/BLB/\"\n",
    "\n",
    "mlp_train_dataset = torch.load(dataset_folder + \"pick_train_dataset_test.pth\")\n",
    "mlp_train_dataloader = DataLoader(train_dataset, batch_size=10000, shuffle=True)\n",
    "\n",
    "val_dataset = torch.load(dataset_folder + \"pick_val_dataset_test.pth\") \n",
    "val_dataloader = DataLoader(val_dataset, batch_size=1, shuffle=False)"
   ]
  },
  {
   "cell_type": "code",
   "execution_count": 180,
   "id": "5cdc01e3",
   "metadata": {
    "scrolled": false
   },
   "outputs": [
    {
     "name": "stdout",
     "output_type": "stream",
     "text": [
      "Starting to train MLP model\n",
      "correct = 19.4%\n",
      "\n",
      "Starting epoch 0\n",
      "training complete on 100000 examples, time=3.2\n",
      "training complete on 200000 examples, time=4.5\n",
      "training complete on 300000 examples, time=5.8\n",
      "training complete on 400000 examples, time=7.9\n",
      "training complete on 500000 examples, time=9.3\n",
      "training complete on 600000 examples, time=10.7\n",
      "training complete on 700000 examples, time=12.3\n",
      "Training loss: 1.0562\n",
      "\n",
      "Starting epoch 1\n",
      "training complete on 100000 examples, time=15.5\n",
      "training complete on 200000 examples, time=16.8\n",
      "training complete on 300000 examples, time=19.0\n",
      "training complete on 400000 examples, time=20.6\n",
      "training complete on 500000 examples, time=21.9\n",
      "training complete on 600000 examples, time=23.1\n",
      "training complete on 700000 examples, time=25.2\n",
      "Training loss: 0.8121\n",
      "\n",
      "Starting epoch 2\n",
      "training complete on 100000 examples, time=27.6\n",
      "training complete on 200000 examples, time=29.0\n",
      "training complete on 300000 examples, time=31.1\n",
      "training complete on 400000 examples, time=32.4\n",
      "training complete on 500000 examples, time=33.8\n",
      "training complete on 600000 examples, time=35.8\n",
      "training complete on 700000 examples, time=37.2\n",
      "Training loss: 0.794\n",
      "\n",
      "Starting epoch 3\n",
      "training complete on 100000 examples, time=39.6\n",
      "training complete on 200000 examples, time=41.7\n",
      "training complete on 300000 examples, time=43.0\n",
      "training complete on 400000 examples, time=44.4\n",
      "training complete on 500000 examples, time=46.4\n",
      "training complete on 600000 examples, time=47.8\n",
      "training complete on 700000 examples, time=49.1\n",
      "Training loss: 0.7824\n",
      "correct = 70.4%\n",
      "Saving model weights to ./model_weights/exp33_ModernMLP_nobasics_diamond_weeks25_400_400.pt\n",
      "\n",
      "Starting epoch 4\n",
      "training complete on 100000 examples, time=72.3\n",
      "training complete on 200000 examples, time=73.6\n",
      "training complete on 300000 examples, time=74.9\n",
      "training complete on 400000 examples, time=76.9\n",
      "training complete on 500000 examples, time=78.2\n",
      "training complete on 600000 examples, time=79.5\n",
      "training complete on 700000 examples, time=80.8\n",
      "Training loss: 0.7747\n",
      "\n",
      "Starting epoch 5\n",
      "training complete on 100000 examples, time=84.0\n",
      "training complete on 200000 examples, time=85.4\n",
      "training complete on 300000 examples, time=86.8\n",
      "training complete on 400000 examples, time=88.9\n",
      "training complete on 500000 examples, time=90.2\n",
      "training complete on 600000 examples, time=91.6\n",
      "training complete on 700000 examples, time=93.6\n",
      "Training loss: 0.7685\n",
      "\n",
      "Starting epoch 6\n",
      "training complete on 100000 examples, time=96.2\n",
      "training complete on 200000 examples, time=97.5\n",
      "training complete on 300000 examples, time=99.6\n",
      "training complete on 400000 examples, time=100.9\n",
      "training complete on 500000 examples, time=102.3\n",
      "training complete on 600000 examples, time=104.4\n",
      "training complete on 700000 examples, time=105.7\n",
      "Training loss: 0.7619\n",
      "correct = 70.8%\n",
      "Saving model weights to ./model_weights/exp33_ModernMLP_nobasics_diamond_weeks25_400_400.pt\n",
      "\n",
      "Starting epoch 7\n",
      "training complete on 100000 examples, time=128.0\n",
      "training complete on 200000 examples, time=130.0\n",
      "training complete on 300000 examples, time=131.4\n",
      "training complete on 400000 examples, time=132.7\n",
      "training complete on 500000 examples, time=134.8\n",
      "training complete on 600000 examples, time=136.1\n",
      "training complete on 700000 examples, time=137.4\n",
      "Training loss: 0.7566\n",
      "\n",
      "Starting epoch 8\n",
      "training complete on 100000 examples, time=140.7\n",
      "training complete on 200000 examples, time=142.0\n",
      "training complete on 300000 examples, time=143.3\n",
      "training complete on 400000 examples, time=145.4\n",
      "training complete on 500000 examples, time=146.7\n",
      "training complete on 600000 examples, time=148.0\n",
      "training complete on 700000 examples, time=149.4\n",
      "Training loss: 0.7524\n",
      "\n",
      "Starting epoch 9\n",
      "training complete on 100000 examples, time=152.7\n",
      "training complete on 200000 examples, time=154.0\n",
      "training complete on 300000 examples, time=155.3\n",
      "training complete on 400000 examples, time=157.4\n",
      "training complete on 500000 examples, time=158.8\n",
      "training complete on 600000 examples, time=160.2\n",
      "training complete on 700000 examples, time=162.2\n",
      "Training loss: 0.7491\n",
      "correct = 70.7%\n",
      "Saving model weights to ./model_weights/exp33_ModernMLP_nobasics_diamond_weeks25_400_400.pt\n",
      "\n",
      "Starting epoch 10\n",
      "training complete on 100000 examples, time=184.5\n",
      "training complete on 200000 examples, time=185.8\n",
      "training complete on 300000 examples, time=187.9\n",
      "training complete on 400000 examples, time=189.2\n",
      "training complete on 500000 examples, time=190.6\n",
      "training complete on 600000 examples, time=192.6\n",
      "training complete on 700000 examples, time=193.9\n",
      "Training loss: 0.7436\n",
      "\n",
      "Starting epoch 11\n",
      "training complete on 100000 examples, time=196.4\n",
      "training complete on 200000 examples, time=198.5\n",
      "training complete on 300000 examples, time=199.7\n",
      "training complete on 400000 examples, time=201.1\n",
      "training complete on 500000 examples, time=203.1\n",
      "training complete on 600000 examples, time=204.5\n",
      "training complete on 700000 examples, time=205.8\n",
      "Training loss: 0.742\n",
      "\n",
      "Starting epoch 12\n",
      "training complete on 100000 examples, time=209.1\n",
      "training complete on 200000 examples, time=210.4\n"
     ]
    },
    {
     "ename": "KeyboardInterrupt",
     "evalue": "",
     "output_type": "error",
     "traceback": [
      "\u001b[0;31m---------------------------------------------------------------------------\u001b[0m",
      "\u001b[0;31mKeyboardInterrupt\u001b[0m                         Traceback (most recent call last)",
      "Cell \u001b[0;32mIn[180], line 4\u001b[0m\n\u001b[1;32m      2\u001b[0m mlp_network \u001b[38;5;241m=\u001b[39m ModernMLP(input_dim\u001b[38;5;241m=\u001b[39m\u001b[38;5;241m271\u001b[39m, hidden_dims\u001b[38;5;241m=\u001b[39m[\u001b[38;5;241m400\u001b[39m, \u001b[38;5;241m400\u001b[39m], output_dim\u001b[38;5;241m=\u001b[39m\u001b[38;5;241m271\u001b[39m, dropout\u001b[38;5;241m=\u001b[39m\u001b[38;5;241m0.5\u001b[39m)\n\u001b[1;32m      3\u001b[0m EXPERIMENT_NAME \u001b[38;5;241m=\u001b[39m \u001b[38;5;124m\"\u001b[39m\u001b[38;5;124mexp33_ModernMLP_nobasics_diamond_weeks25_400_400\u001b[39m\u001b[38;5;124m\"\u001b[39m\n\u001b[0;32m----> 4\u001b[0m network \u001b[38;5;241m=\u001b[39m \u001b[43mtrain_mlp\u001b[49m\u001b[43m(\u001b[49m\u001b[43mmlp_train_dataloader\u001b[49m\u001b[43m,\u001b[49m\n\u001b[1;32m      5\u001b[0m \u001b[43m                        \u001b[49m\u001b[43mval_dataloader\u001b[49m\u001b[43m,\u001b[49m\n\u001b[1;32m      6\u001b[0m \u001b[43m                        \u001b[49m\u001b[43mepochs\u001b[49m\u001b[38;5;241;43m=\u001b[39;49m\u001b[38;5;241;43m2000\u001b[39;49m\u001b[43m,\u001b[49m\n\u001b[1;32m      7\u001b[0m \u001b[43m                        \u001b[49m\u001b[43mnetwork\u001b[49m\u001b[38;5;241;43m=\u001b[39;49m\u001b[43mmlp_network\u001b[49m\u001b[43m,\u001b[49m\n\u001b[1;32m      8\u001b[0m \u001b[43m                        \u001b[49m\u001b[43mexperiment_name\u001b[49m\u001b[38;5;241;43m=\u001b[39;49m\u001b[43mEXPERIMENT_NAME\u001b[49m\u001b[43m)\u001b[49m\n\u001b[1;32m     10\u001b[0m \u001b[38;5;66;03m# Exp 26 - result 66.7% for simple MLP 2 layer - 500, large batch size helps. \u001b[39;00m\n\u001b[1;32m     11\u001b[0m \u001b[38;5;66;03m# Exp 27 - result 65.6% for various experiments. \u001b[39;00m\n\u001b[1;32m     12\u001b[0m \u001b[38;5;66;03m# Exp 28 - modern MLP architecture from chatgpt\u001b[39;00m\n\u001b[0;32m   (...)\u001b[0m\n\u001b[1;32m     22\u001b[0m \u001b[38;5;66;03m# Exp 31 - full dataset - 66.8%, converges very quickly\u001b[39;00m\n\u001b[1;32m     23\u001b[0m \u001b[38;5;66;03m# Exp 32 - exp32_ModernMLP_diamond_weeks25_400_400\u001b[39;00m\n",
      "Cell \u001b[0;32mIn[178], line 23\u001b[0m, in \u001b[0;36mtrain_mlp\u001b[0;34m(train_dataloader, val_dataloader, epochs, network, experiment_name)\u001b[0m\n\u001b[1;32m     21\u001b[0m \u001b[38;5;28;01mfor\u001b[39;00m i, (pool, pack, pick_vector) \u001b[38;5;129;01min\u001b[39;00m \u001b[38;5;28menumerate\u001b[39m(train_dataloader):\n\u001b[1;32m     22\u001b[0m     optimizer\u001b[38;5;241m.\u001b[39mzero_grad()\n\u001b[0;32m---> 23\u001b[0m     predicted_pick \u001b[38;5;241m=\u001b[39m \u001b[43mnetwork\u001b[49m\u001b[43m(\u001b[49m\u001b[43mpool\u001b[49m\u001b[38;5;241;43m.\u001b[39;49m\u001b[43mfloat\u001b[49m\u001b[43m(\u001b[49m\u001b[43m)\u001b[49m\u001b[43m,\u001b[49m\u001b[43m \u001b[49m\u001b[43mpack\u001b[49m\u001b[38;5;241;43m.\u001b[39;49m\u001b[43mfloat\u001b[49m\u001b[43m(\u001b[49m\u001b[43m)\u001b[49m\u001b[43m)\u001b[49m\n\u001b[1;32m     24\u001b[0m     loss \u001b[38;5;241m=\u001b[39m loss_fn(predicted_pick, pick_vector\u001b[38;5;241m.\u001b[39mfloat())\n\u001b[1;32m     25\u001b[0m     loss\u001b[38;5;241m.\u001b[39mbackward()\n",
      "File \u001b[0;32m~/.pyenv/versions/3.11.1/lib/python3.11/site-packages/torch/nn/modules/module.py:1553\u001b[0m, in \u001b[0;36mModule._wrapped_call_impl\u001b[0;34m(self, *args, **kwargs)\u001b[0m\n\u001b[1;32m   1551\u001b[0m     \u001b[38;5;28;01mreturn\u001b[39;00m \u001b[38;5;28mself\u001b[39m\u001b[38;5;241m.\u001b[39m_compiled_call_impl(\u001b[38;5;241m*\u001b[39margs, \u001b[38;5;241m*\u001b[39m\u001b[38;5;241m*\u001b[39mkwargs)  \u001b[38;5;66;03m# type: ignore[misc]\u001b[39;00m\n\u001b[1;32m   1552\u001b[0m \u001b[38;5;28;01melse\u001b[39;00m:\n\u001b[0;32m-> 1553\u001b[0m     \u001b[38;5;28;01mreturn\u001b[39;00m \u001b[38;5;28;43mself\u001b[39;49m\u001b[38;5;241;43m.\u001b[39;49m\u001b[43m_call_impl\u001b[49m\u001b[43m(\u001b[49m\u001b[38;5;241;43m*\u001b[39;49m\u001b[43margs\u001b[49m\u001b[43m,\u001b[49m\u001b[43m \u001b[49m\u001b[38;5;241;43m*\u001b[39;49m\u001b[38;5;241;43m*\u001b[39;49m\u001b[43mkwargs\u001b[49m\u001b[43m)\u001b[49m\n",
      "File \u001b[0;32m~/.pyenv/versions/3.11.1/lib/python3.11/site-packages/torch/nn/modules/module.py:1562\u001b[0m, in \u001b[0;36mModule._call_impl\u001b[0;34m(self, *args, **kwargs)\u001b[0m\n\u001b[1;32m   1557\u001b[0m \u001b[38;5;66;03m# If we don't have any hooks, we want to skip the rest of the logic in\u001b[39;00m\n\u001b[1;32m   1558\u001b[0m \u001b[38;5;66;03m# this function, and just call forward.\u001b[39;00m\n\u001b[1;32m   1559\u001b[0m \u001b[38;5;28;01mif\u001b[39;00m \u001b[38;5;129;01mnot\u001b[39;00m (\u001b[38;5;28mself\u001b[39m\u001b[38;5;241m.\u001b[39m_backward_hooks \u001b[38;5;129;01mor\u001b[39;00m \u001b[38;5;28mself\u001b[39m\u001b[38;5;241m.\u001b[39m_backward_pre_hooks \u001b[38;5;129;01mor\u001b[39;00m \u001b[38;5;28mself\u001b[39m\u001b[38;5;241m.\u001b[39m_forward_hooks \u001b[38;5;129;01mor\u001b[39;00m \u001b[38;5;28mself\u001b[39m\u001b[38;5;241m.\u001b[39m_forward_pre_hooks\n\u001b[1;32m   1560\u001b[0m         \u001b[38;5;129;01mor\u001b[39;00m _global_backward_pre_hooks \u001b[38;5;129;01mor\u001b[39;00m _global_backward_hooks\n\u001b[1;32m   1561\u001b[0m         \u001b[38;5;129;01mor\u001b[39;00m _global_forward_hooks \u001b[38;5;129;01mor\u001b[39;00m _global_forward_pre_hooks):\n\u001b[0;32m-> 1562\u001b[0m     \u001b[38;5;28;01mreturn\u001b[39;00m \u001b[43mforward_call\u001b[49m\u001b[43m(\u001b[49m\u001b[38;5;241;43m*\u001b[39;49m\u001b[43margs\u001b[49m\u001b[43m,\u001b[49m\u001b[43m \u001b[49m\u001b[38;5;241;43m*\u001b[39;49m\u001b[38;5;241;43m*\u001b[39;49m\u001b[43mkwargs\u001b[49m\u001b[43m)\u001b[49m\n\u001b[1;32m   1564\u001b[0m \u001b[38;5;28;01mtry\u001b[39;00m:\n\u001b[1;32m   1565\u001b[0m     result \u001b[38;5;241m=\u001b[39m \u001b[38;5;28;01mNone\u001b[39;00m\n",
      "Cell \u001b[0;32mIn[176], line 44\u001b[0m, in \u001b[0;36mModernMLP.forward\u001b[0;34m(self, x, pack)\u001b[0m\n\u001b[1;32m     42\u001b[0m     x \u001b[38;5;241m=\u001b[39m layer(x)\n\u001b[1;32m     43\u001b[0m     x \u001b[38;5;241m=\u001b[39m F\u001b[38;5;241m.\u001b[39mgelu(x)\n\u001b[0;32m---> 44\u001b[0m     x \u001b[38;5;241m=\u001b[39m \u001b[38;5;28;43mself\u001b[39;49m\u001b[38;5;241;43m.\u001b[39;49m\u001b[43mdropout\u001b[49m\u001b[43m(\u001b[49m\u001b[43mx\u001b[49m\u001b[43m)\u001b[49m\n\u001b[1;32m     45\u001b[0m     x \u001b[38;5;241m=\u001b[39m norm(x \u001b[38;5;241m+\u001b[39m proj(residual))  \u001b[38;5;66;03m# Residual connection + LayerNorm\u001b[39;00m\n\u001b[1;32m     47\u001b[0m \u001b[38;5;66;03m# Output layer\u001b[39;00m\n",
      "File \u001b[0;32m~/.pyenv/versions/3.11.1/lib/python3.11/site-packages/torch/nn/modules/module.py:1553\u001b[0m, in \u001b[0;36mModule._wrapped_call_impl\u001b[0;34m(self, *args, **kwargs)\u001b[0m\n\u001b[1;32m   1551\u001b[0m     \u001b[38;5;28;01mreturn\u001b[39;00m \u001b[38;5;28mself\u001b[39m\u001b[38;5;241m.\u001b[39m_compiled_call_impl(\u001b[38;5;241m*\u001b[39margs, \u001b[38;5;241m*\u001b[39m\u001b[38;5;241m*\u001b[39mkwargs)  \u001b[38;5;66;03m# type: ignore[misc]\u001b[39;00m\n\u001b[1;32m   1552\u001b[0m \u001b[38;5;28;01melse\u001b[39;00m:\n\u001b[0;32m-> 1553\u001b[0m     \u001b[38;5;28;01mreturn\u001b[39;00m \u001b[38;5;28;43mself\u001b[39;49m\u001b[38;5;241;43m.\u001b[39;49m\u001b[43m_call_impl\u001b[49m\u001b[43m(\u001b[49m\u001b[38;5;241;43m*\u001b[39;49m\u001b[43margs\u001b[49m\u001b[43m,\u001b[49m\u001b[43m \u001b[49m\u001b[38;5;241;43m*\u001b[39;49m\u001b[38;5;241;43m*\u001b[39;49m\u001b[43mkwargs\u001b[49m\u001b[43m)\u001b[49m\n",
      "File \u001b[0;32m~/.pyenv/versions/3.11.1/lib/python3.11/site-packages/torch/nn/modules/module.py:1562\u001b[0m, in \u001b[0;36mModule._call_impl\u001b[0;34m(self, *args, **kwargs)\u001b[0m\n\u001b[1;32m   1557\u001b[0m \u001b[38;5;66;03m# If we don't have any hooks, we want to skip the rest of the logic in\u001b[39;00m\n\u001b[1;32m   1558\u001b[0m \u001b[38;5;66;03m# this function, and just call forward.\u001b[39;00m\n\u001b[1;32m   1559\u001b[0m \u001b[38;5;28;01mif\u001b[39;00m \u001b[38;5;129;01mnot\u001b[39;00m (\u001b[38;5;28mself\u001b[39m\u001b[38;5;241m.\u001b[39m_backward_hooks \u001b[38;5;129;01mor\u001b[39;00m \u001b[38;5;28mself\u001b[39m\u001b[38;5;241m.\u001b[39m_backward_pre_hooks \u001b[38;5;129;01mor\u001b[39;00m \u001b[38;5;28mself\u001b[39m\u001b[38;5;241m.\u001b[39m_forward_hooks \u001b[38;5;129;01mor\u001b[39;00m \u001b[38;5;28mself\u001b[39m\u001b[38;5;241m.\u001b[39m_forward_pre_hooks\n\u001b[1;32m   1560\u001b[0m         \u001b[38;5;129;01mor\u001b[39;00m _global_backward_pre_hooks \u001b[38;5;129;01mor\u001b[39;00m _global_backward_hooks\n\u001b[1;32m   1561\u001b[0m         \u001b[38;5;129;01mor\u001b[39;00m _global_forward_hooks \u001b[38;5;129;01mor\u001b[39;00m _global_forward_pre_hooks):\n\u001b[0;32m-> 1562\u001b[0m     \u001b[38;5;28;01mreturn\u001b[39;00m \u001b[43mforward_call\u001b[49m\u001b[43m(\u001b[49m\u001b[38;5;241;43m*\u001b[39;49m\u001b[43margs\u001b[49m\u001b[43m,\u001b[49m\u001b[43m \u001b[49m\u001b[38;5;241;43m*\u001b[39;49m\u001b[38;5;241;43m*\u001b[39;49m\u001b[43mkwargs\u001b[49m\u001b[43m)\u001b[49m\n\u001b[1;32m   1564\u001b[0m \u001b[38;5;28;01mtry\u001b[39;00m:\n\u001b[1;32m   1565\u001b[0m     result \u001b[38;5;241m=\u001b[39m \u001b[38;5;28;01mNone\u001b[39;00m\n",
      "File \u001b[0;32m~/.pyenv/versions/3.11.1/lib/python3.11/site-packages/torch/nn/modules/dropout.py:59\u001b[0m, in \u001b[0;36mDropout.forward\u001b[0;34m(self, input)\u001b[0m\n\u001b[1;32m     58\u001b[0m \u001b[38;5;28;01mdef\u001b[39;00m \u001b[38;5;21mforward\u001b[39m(\u001b[38;5;28mself\u001b[39m, \u001b[38;5;28minput\u001b[39m: Tensor) \u001b[38;5;241m-\u001b[39m\u001b[38;5;241m>\u001b[39m Tensor:\n\u001b[0;32m---> 59\u001b[0m     \u001b[38;5;28;01mreturn\u001b[39;00m \u001b[43mF\u001b[49m\u001b[38;5;241;43m.\u001b[39;49m\u001b[43mdropout\u001b[49m\u001b[43m(\u001b[49m\u001b[38;5;28;43minput\u001b[39;49m\u001b[43m,\u001b[49m\u001b[43m \u001b[49m\u001b[38;5;28;43mself\u001b[39;49m\u001b[38;5;241;43m.\u001b[39;49m\u001b[43mp\u001b[49m\u001b[43m,\u001b[49m\u001b[43m \u001b[49m\u001b[38;5;28;43mself\u001b[39;49m\u001b[38;5;241;43m.\u001b[39;49m\u001b[43mtraining\u001b[49m\u001b[43m,\u001b[49m\u001b[43m \u001b[49m\u001b[38;5;28;43mself\u001b[39;49m\u001b[38;5;241;43m.\u001b[39;49m\u001b[43minplace\u001b[49m\u001b[43m)\u001b[49m\n",
      "File \u001b[0;32m~/.pyenv/versions/3.11.1/lib/python3.11/site-packages/torch/nn/functional.py:1295\u001b[0m, in \u001b[0;36mdropout\u001b[0;34m(input, p, training, inplace)\u001b[0m\n\u001b[1;32m   1293\u001b[0m \u001b[38;5;28;01mif\u001b[39;00m p \u001b[38;5;241m<\u001b[39m \u001b[38;5;241m0.0\u001b[39m \u001b[38;5;129;01mor\u001b[39;00m p \u001b[38;5;241m>\u001b[39m \u001b[38;5;241m1.0\u001b[39m:\n\u001b[1;32m   1294\u001b[0m     \u001b[38;5;28;01mraise\u001b[39;00m \u001b[38;5;167;01mValueError\u001b[39;00m(\u001b[38;5;124mf\u001b[39m\u001b[38;5;124m\"\u001b[39m\u001b[38;5;124mdropout probability has to be between 0 and 1, but got \u001b[39m\u001b[38;5;132;01m{\u001b[39;00mp\u001b[38;5;132;01m}\u001b[39;00m\u001b[38;5;124m\"\u001b[39m)\n\u001b[0;32m-> 1295\u001b[0m \u001b[38;5;28;01mreturn\u001b[39;00m _VF\u001b[38;5;241m.\u001b[39mdropout_(\u001b[38;5;28minput\u001b[39m, p, training) \u001b[38;5;28;01mif\u001b[39;00m inplace \u001b[38;5;28;01melse\u001b[39;00m \u001b[43m_VF\u001b[49m\u001b[38;5;241;43m.\u001b[39;49m\u001b[43mdropout\u001b[49m\u001b[43m(\u001b[49m\u001b[38;5;28;43minput\u001b[39;49m\u001b[43m,\u001b[49m\u001b[43m \u001b[49m\u001b[43mp\u001b[49m\u001b[43m,\u001b[49m\u001b[43m \u001b[49m\u001b[43mtraining\u001b[49m\u001b[43m)\u001b[49m\n",
      "\u001b[0;31mKeyboardInterrupt\u001b[0m: "
     ]
    }
   ],
   "source": [
    "# Sample evaluation flow - verified that this works. \n",
    "mlp_network = ModernMLP(input_dim=271, hidden_dims=[400, 400], output_dim=271, dropout=0.5)\n",
    "EXPERIMENT_NAME = \"exp33_ModernMLP_nobasics_diamond_weeks25_400_400\"\n",
    "network = train_mlp(mlp_train_dataloader,\n",
    "                        val_dataloader,\n",
    "                        epochs=2000,\n",
    "                        network=mlp_network,\n",
    "                        experiment_name=EXPERIMENT_NAME)\n",
    "\n",
    "# Exp 26 - result 66.7% for simple MLP 2 layer - 500, large batch size helps. \n",
    "# Exp 27 - result 65.6% for various experiments. \n",
    "# Exp 28 - modern MLP architecture from chatgpt\n",
    "           # 20 epoch 67.7% - 0.91 \n",
    "           # 25 epoch 67.9% - 0.8982\n",
    "           # 30 epoch 68.0% -  0.882\n",
    "           # 35 epoch 67.9% - 0.8627\n",
    "           # ... overfit\n",
    "# Exp 29 - low batch size & learning rate, dropout=0.5\n",
    "           # Stable performance, peaking at 67.6%\n",
    "           # peaks at ~67.9 for 5 hidden layer\n",
    "# Exp 30 - large batch size / learning rate \n",
    "# Exp 31 - full dataset - 66.8%, converges very quickly\n",
    "# Exp 32 - exp32_ModernMLP_diamond_weeks25_400_400 70.8%\n",
    "# Exp 33 - exp33_ModernMLP_nobasics_diamond_weeks25_400_400 70.8%"
   ]
  },
  {
   "cell_type": "code",
   "execution_count": 181,
   "id": "a13e6563",
   "metadata": {},
   "outputs": [],
   "source": [
    "# Conclusion - can actually build with MLP network. "
   ]
  },
  {
   "cell_type": "code",
   "execution_count": 182,
   "id": "e5b3b46b",
   "metadata": {},
   "outputs": [],
   "source": [
    "# Things to do:\n",
    "\n",
    "# Dataloader:\n",
    "# 1. Download data from 5 week chunk (instead of just 2 week chunk)\n",
    "# 2. Add indicator variable for \"is_collection\"\n",
    "# 3. Save data in multiple files to avoid out of memory errors"
   ]
  },
  {
   "cell_type": "markdown",
   "id": "16cec4ad",
   "metadata": {},
   "source": [
    "## Draft Visualizer"
   ]
  },
  {
   "cell_type": "code",
   "execution_count": 215,
   "id": "7def3fb2",
   "metadata": {},
   "outputs": [],
   "source": [
    "def get_card_distances(collection_list, cur_network, is_siamese=True):\n",
    "    \"\"\" Get card distances for current network. Used for visualization \"\"\"\n",
    "    \n",
    "    # Cardnames - for validation. \n",
    "    cardnames = val_dataloader.dataset.cardnames\n",
    "    \n",
    "    # Get collection vector\n",
    "    collection_vector = torch.zeros([1, 271])\n",
    "    cnt = Counter(collection_list)\n",
    "    for card in cnt:\n",
    "        \n",
    "        # Validate cardname. \n",
    "        if card not in cardnames:\n",
    "            raise Exception(f\"{card} not in set. Please correct cardname.\")\n",
    "\n",
    "        # Add to collection vector. \n",
    "        card_index = cardnames.index(card)\n",
    "        collection_vector[0, card_index] = cnt[card]\n",
    "        \n",
    "    # Get card and collection embeddings (support siamese & MLP)\n",
    "    cur_network.eval()\n",
    "    with torch.no_grad():\n",
    "        if is_siamese:\n",
    "            collection_embedding = cur_network(collection_vector)    \n",
    "        else:\n",
    "            # MLP equivalent. \n",
    "            card_distances = cur_network(collection_vector , torch.ones(271))\n",
    "    if is_siamese:        \n",
    "        card_embeddings = get_card_embeddings(cur_network)\n",
    "        card_distances = get_distance(card_embeddings, collection_embedding)\n",
    "    return card_distances\n",
    "\n",
    "def get_percentile(card_distances, is_siamese=False, top_score=150):\n",
    "    # TODO: omit basic lands. \n",
    "    card_distances = card_distances.reshape(-1) # Ensure correct shape. \n",
    "    min_distance = min(card_distances).item()\n",
    "    max_distance = max(card_distances).item()\n",
    "    if is_siamese:\n",
    "        percentiles = [top_score * (max_distance - cd) / max_distance for cd in card_distances.tolist()]\n",
    "    else:\n",
    "        percentiles = [top_score * (cd - min_distance) / (max_distance - min_distance) for cd in card_distances.tolist()]\n",
    "    return [round(p, 1) for p in percentiles]\n",
    "\n",
    "# Example. \n",
    "# x = get_card_distances([c for c in collection[\"name\"]], cur_network, is_siamese=True)\n",
    "x = get_card_distances([c for c in collection[\"name\"]], mlp_network, is_siamese=False)\n",
    "p = get_percentile(x)\n",
    "\n",
    "# pd.Series(p).describe()"
   ]
  },
  {
   "cell_type": "code",
   "execution_count": 216,
   "id": "162de38d",
   "metadata": {},
   "outputs": [],
   "source": [
    "# UI elements. \n",
    "import pandas as pd\n",
    "from IPython.display import display, clear_output\n",
    "import ipywidgets as widgets\n",
    "\n",
    "# State variables for filters\n",
    "rarity_options = [\"All\", \"common\", \"uncommon\", \"common+uncommon\", \"rare\", \"mythic\"]\n",
    "color_options = [\"All\", \"W\", \"G\", \"U\", \"R\", \"B\", \"Multicolor\", \"Colorless\"]\n",
    "\n",
    "rarity_filter = widgets.Dropdown(\n",
    "    options=rarity_options,\n",
    "    value=\"All\",\n",
    "    description=\"Rarity:\",\n",
    ")\n",
    "\n",
    "color_filter = widgets.Dropdown(\n",
    "    options=color_options,\n",
    "    value=\"All\",\n",
    "    description=\"Color:\",\n",
    ")\n",
    "\n",
    "def update_table():\n",
    "    \"\"\"Re-render the pick table and collection.\"\"\"\n",
    "    clear_output(wait=True)\n",
    "    display_tables()\n",
    "\n",
    "def make_pick(card):\n",
    "    \"\"\"Add card to the collection and update tables.\"\"\"\n",
    "    global collection\n",
    "    collection = pd.concat([collection, pd.DataFrame([card])], ignore_index=True)\n",
    "    update_table()\n",
    "\n",
    "def remove_card(index):\n",
    "    \"\"\"Remove a card from the collection by index and update tables.\"\"\"\n",
    "    global collection\n",
    "    collection = collection.drop(index).reset_index(drop=True)\n",
    "    update_table()\n",
    "    \n",
    "# Function to reset the collection\n",
    "def reset_collection(change=None):\n",
    "    \"\"\"Reset the collection (clear all cards).\"\"\"\n",
    "    global collection\n",
    "    collection = pd.DataFrame(columns=pick_table.columns)  # Empty collection\n",
    "    update_table()\n",
    "\n",
    "def display_tables():\n",
    "    \"\"\"Display pick table and collection with interactive buttons.\"\"\"\n",
    "    global pick_table\n",
    "\n",
    "    # Update distances pick table.  \n",
    "    collection_list = [n for n in collection[\"name\"]]\n",
    "    # cur_distances = get_card_distances(collection_list, cur_network) # Siamese\n",
    "    # percentiles = get_percentile(cur_distances) Siamese\n",
    "    cur_distances = get_card_distances(collection_list, mlp_network, is_siamese=False) # MLP\n",
    "    percentiles = get_percentile(cur_distances, is_siamese=False) # MLP\n",
    "    pick_table[\"distance\"] = percentiles # Use percentiles for now. \n",
    "    \n",
    "    if \"p1p1_distance\" not in pick_table.columns:\n",
    "        p1p1_distances = get_card_distances([], mlp_network, is_siamese=False)\n",
    "        p1p1_percentiles = get_percentile(p1p1_distances, is_siamese=False)\n",
    "        pick_table[\"p1p1_distance\"] = p1p1_percentiles\n",
    "        \n",
    "    pick_table[\"synergy\"] = (pick_table[\"distance\"] - pick_table[\"p1p1_distance\"]).round(1)\n",
    "        \n",
    "    \n",
    "    # Hide distances in collection table. \n",
    "    collection[\"distance\"] = [\"\"] * len(collection)\n",
    "    \n",
    "    # Apply filters to the pick table\n",
    "    filtered_table = pick_table.copy()\n",
    "\n",
    "    # If the rarity filter is \"All\", exclude cards with \"Basic\" rarity\n",
    "    if rarity_filter.value == \"All\":\n",
    "        filtered_table = filtered_table[filtered_table['rarity'] != \"basic\"]\n",
    "    elif rarity_filter.value == \"common+uncommon\":\n",
    "        filtered_table = filtered_table[filtered_table['rarity'].isin([\"common\", \"uncommon\"])]\n",
    "    else:\n",
    "        filtered_table = filtered_table[filtered_table['rarity'] == rarity_filter.value]\n",
    "    \n",
    "    if color_filter.value != \"All\":\n",
    "        filtered_table = filtered_table[filtered_table['color_identity'] == color_filter.value]\n",
    "\n",
    "    # Sort the filtered pick table by distance (ascending order)\n",
    "    filtered_table = filtered_table.sort_values(by=\"distance\", ascending=False)\n",
    "    \n",
    "    # Add the \"New Draft\" button to reset the collection\n",
    "    new_draft_button = widgets.Button(description=\"New Draft\", button_style=\"warning\")\n",
    "    new_draft_button.on_click(reset_collection)\n",
    "    display(new_draft_button)\n",
    "    \n",
    "    # Display the filters\n",
    "    filter_box = widgets.HBox([rarity_filter, color_filter])\n",
    "    display(filter_box)\n",
    "\n",
    "    # Get the maximum length of card names to align them\n",
    "    max_name_length = filtered_table['name'].apply(len).max()\n",
    "    max_name_length = max(max_name_length, 12)  # Minimum width for the name column is 12\n",
    "\n",
    "    # Formatting function to align columns and display as text\n",
    "    def format_row(row):\n",
    "        return f\"{row['name']:<{max_name_length}} | {row['rarity']:<9} | {row['color_identity']:<12} | {row['synergy']:>+7}| {row['distance']:>6}\"\n",
    "\n",
    "    # Display the filtered pick table with buttons\n",
    "    print(f'{\" Card Name\":<{max_name_length}} | {\"Rarity\":<9} | {\"Color\":<12} | {\"Synergy\":>7}| {\"Rating\":>6}')\n",
    "    for _, row in filtered_table.iterrows():\n",
    "        row_widget = widgets.Output()\n",
    "        with row_widget:\n",
    "            print(format_row(row))\n",
    "\n",
    "        pick_button = widgets.Button(description=f\"Pick: {row['name']}\", button_style=\"success\")\n",
    "        pick_button.on_click(lambda btn, card=row: make_pick(card.to_dict()))\n",
    "\n",
    "        display(widgets.HBox([row_widget, pick_button]))\n",
    "\n",
    "    # Display the collection with remove buttons (same format as pick table)\n",
    "    print(\"\\nCollection:\")\n",
    "    if not collection.empty:\n",
    "        collection_widget = widgets.Output()\n",
    "        with collection_widget:\n",
    "            # Use the same format_row for collection as for pick table\n",
    "            for _, row in collection.iterrows():\n",
    "                print(format_row(row))\n",
    "\n",
    "        remove_buttons = []\n",
    "        for idx, row in collection.iterrows():\n",
    "            remove_button = widgets.Button(description=f\"Remove: {row['name']}\", button_style=\"danger\")\n",
    "            remove_button.on_click(lambda btn, index=idx: remove_card(index))\n",
    "\n",
    "            # Align text and remove button together in the same layout\n",
    "            row_widget = widgets.Output()\n",
    "            with row_widget:\n",
    "                print(format_row(row))\n",
    "            \n",
    "            remove_buttons.append(widgets.HBox([row_widget, remove_button]))\n",
    "\n",
    "        remove_buttons_box = widgets.VBox(remove_buttons)\n",
    "        display(remove_buttons_box)\n",
    "    else:\n",
    "        print(\"Collection is empty.\")\n",
    "\n",
    "# Add observers to filters to trigger table updates\n",
    "rarity_filter.observe(lambda change: update_table(), names='value')\n",
    "color_filter.observe(lambda change: update_table(), names='value')\n",
    "\n",
    "# Initial display\n",
    "# display_tables()"
   ]
  },
  {
   "cell_type": "code",
   "execution_count": 217,
   "id": "9fc72b6a",
   "metadata": {},
   "outputs": [],
   "source": [
    "# Get card data for visualization. \n",
    "pick_table = pd.read_csv(\"../data/BLB/cards.csv\")\n",
    "pick_table = pick_table[pick_table[\"expansion\"].isin([\"BLB\", \"SPG\"])]\n",
    "pick_table = pick_table[pick_table[\"name\"].isin(val_dataloader.dataset.cardnames)]\n",
    "pick_table = pick_table.groupby('name').first()\n",
    "pick_table = pick_table.sort_values(by=[\"name\"]).reset_index()\n",
    "pick_table = pick_table[[\"name\", \"rarity\", \"color_identity\"]]\n",
    "\n",
    "# Fix color identity\n",
    "pick_table[\"color_identity\"] = pick_table[\"color_identity\"].fillna(\"Colorless\")\n",
    "pick_table[\"color_identity\"] = pick_table[\"color_identity\"].apply(lambda x: \"Multicolor\" if (len(x) > 1 and x!=\"Colorless\") else x)\n",
    "\n",
    "# Dummy distance. \n",
    "pick_table[\"distance\"] = [1] * len(pick_table)\n",
    "\n",
    "# Initialize an empty collection DataFrame\n",
    "collection = pd.DataFrame(columns=pick_table.columns)"
   ]
  },
  {
   "cell_type": "code",
   "execution_count": 218,
   "id": "902d9cdb",
   "metadata": {
    "scrolled": false
   },
   "outputs": [
    {
     "data": {
      "application/vnd.jupyter.widget-view+json": {
       "model_id": "9c56344466b74414a9aec3643393e029",
       "version_major": 2,
       "version_minor": 0
      },
      "text/plain": [
       "Button(button_style='warning', description='New Draft', style=ButtonStyle())"
      ]
     },
     "metadata": {},
     "output_type": "display_data"
    },
    {
     "data": {
      "application/vnd.jupyter.widget-view+json": {
       "model_id": "7908cde30a0d44e986c2aa8b4ee26e8c",
       "version_major": 2,
       "version_minor": 0
      },
      "text/plain": [
       "HBox(children=(Dropdown(description='Rarity:', options=('All', 'common', 'uncommon', 'common+uncommon', 'rare'…"
      ]
     },
     "metadata": {},
     "output_type": "display_data"
    },
    {
     "name": "stdout",
     "output_type": "stream",
     "text": [
      " Card Name                 | Rarity    | Color        | Synergy| Rating\n"
     ]
    },
    {
     "data": {
      "application/vnd.jupyter.widget-view+json": {
       "model_id": "ca1814b95a4e489c8ac1e2d9a1416abc",
       "version_major": 2,
       "version_minor": 0
      },
      "text/plain": [
       "HBox(children=(Output(), Button(button_style='success', description='Pick: Maha, Its Feathers Night', style=Bu…"
      ]
     },
     "metadata": {},
     "output_type": "display_data"
    },
    {
     "data": {
      "application/vnd.jupyter.widget-view+json": {
       "model_id": "01a56064fce94eee94a2794861b6e2e0",
       "version_major": 2,
       "version_minor": 0
      },
      "text/plain": [
       "HBox(children=(Output(), Button(button_style='success', description='Pick: Season of Loss', style=ButtonStyle(…"
      ]
     },
     "metadata": {},
     "output_type": "display_data"
    },
    {
     "data": {
      "application/vnd.jupyter.widget-view+json": {
       "model_id": "1360c4616d48456589e78af3892fd822",
       "version_major": 2,
       "version_minor": 0
      },
      "text/plain": [
       "HBox(children=(Output(), Button(button_style='success', description='Pick: Camellia, the Seedmiser', style=But…"
      ]
     },
     "metadata": {},
     "output_type": "display_data"
    },
    {
     "data": {
      "application/vnd.jupyter.widget-view+json": {
       "model_id": "c2d4cf01737e47b1a92c2d816a2f7032",
       "version_major": 2,
       "version_minor": 0
      },
      "text/plain": [
       "HBox(children=(Output(), Button(button_style='success', description=\"Pick: Innkeeper's Talent\", style=ButtonSt…"
      ]
     },
     "metadata": {},
     "output_type": "display_data"
    },
    {
     "data": {
      "application/vnd.jupyter.widget-view+json": {
       "model_id": "237fff63eb7747ae833c64fab09b5ff0",
       "version_major": 2,
       "version_minor": 0
      },
      "text/plain": [
       "HBox(children=(Output(), Button(button_style='success', description='Pick: Rottenmouth Viper', style=ButtonSty…"
      ]
     },
     "metadata": {},
     "output_type": "display_data"
    },
    {
     "data": {
      "application/vnd.jupyter.widget-view+json": {
       "model_id": "415c845ae86e41cfacbe9889e594dbc8",
       "version_major": 2,
       "version_minor": 0
      },
      "text/plain": [
       "HBox(children=(Output(), Button(button_style='success', description='Pick: Fecund Greenshell', style=ButtonSty…"
      ]
     },
     "metadata": {},
     "output_type": "display_data"
    },
    {
     "data": {
      "application/vnd.jupyter.widget-view+json": {
       "model_id": "a4c6c7decfbc4fbc8a8a46c54ed6fae6",
       "version_major": 2,
       "version_minor": 0
      },
      "text/plain": [
       "HBox(children=(Output(), Button(button_style='success', description='Pick: Vinereap Mentor', style=ButtonStyle…"
      ]
     },
     "metadata": {},
     "output_type": "display_data"
    },
    {
     "data": {
      "application/vnd.jupyter.widget-view+json": {
       "model_id": "876dfedca1324d7582045088b8402a47",
       "version_major": 2,
       "version_minor": 0
      },
      "text/plain": [
       "HBox(children=(Output(), Button(button_style='success', description='Pick: Ygra, Eater of All', style=ButtonSt…"
      ]
     },
     "metadata": {},
     "output_type": "display_data"
    },
    {
     "data": {
      "application/vnd.jupyter.widget-view+json": {
       "model_id": "e3e8eaaf69d547c5b31a86d1f4fc8765",
       "version_major": 2,
       "version_minor": 0
      },
      "text/plain": [
       "HBox(children=(Output(), Button(button_style='success', description=\"Pick: Hunter's Talent\", style=ButtonStyle…"
      ]
     },
     "metadata": {},
     "output_type": "display_data"
    },
    {
     "data": {
      "application/vnd.jupyter.widget-view+json": {
       "model_id": "a25bcc93059e404f842688a5fc061890",
       "version_major": 2,
       "version_minor": 0
      },
      "text/plain": [
       "HBox(children=(Output(), Button(button_style='success', description='Pick: Season of Gathering', style=ButtonS…"
      ]
     },
     "metadata": {},
     "output_type": "display_data"
    },
    {
     "data": {
      "application/vnd.jupyter.widget-view+json": {
       "model_id": "55d90c62fb6a4545a75c626419c358f7",
       "version_major": 2,
       "version_minor": 0
      },
      "text/plain": [
       "HBox(children=(Output(), Button(button_style='success', description='Pick: Thornvault Forager', style=ButtonSt…"
      ]
     },
     "metadata": {},
     "output_type": "display_data"
    },
    {
     "data": {
      "application/vnd.jupyter.widget-view+json": {
       "model_id": "3fad42ba44034dce8bce5798b43da60c",
       "version_major": 2,
       "version_minor": 0
      },
      "text/plain": [
       "HBox(children=(Output(), Button(button_style='success', description='Pick: Lumra, Bellow of the Woods', style=…"
      ]
     },
     "metadata": {},
     "output_type": "display_data"
    },
    {
     "data": {
      "application/vnd.jupyter.widget-view+json": {
       "model_id": "e73aa647d9c544c08d60163608971e61",
       "version_major": 2,
       "version_minor": 0
      },
      "text/plain": [
       "HBox(children=(Output(), Button(button_style='success', description='Pick: Tender Wildguide', style=ButtonStyl…"
      ]
     },
     "metadata": {},
     "output_type": "display_data"
    },
    {
     "data": {
      "application/vnd.jupyter.widget-view+json": {
       "model_id": "0bd58779ba98430480c7c165aeea05cc",
       "version_major": 2,
       "version_minor": 0
      },
      "text/plain": [
       "HBox(children=(Output(), Button(button_style='success', description='Pick: Osteomancer Adept', style=ButtonSty…"
      ]
     },
     "metadata": {},
     "output_type": "display_data"
    },
    {
     "data": {
      "application/vnd.jupyter.widget-view+json": {
       "model_id": "cdcf86278e884dcf9fa685fbfc2eefe2",
       "version_major": 2,
       "version_minor": 0
      },
      "text/plain": [
       "HBox(children=(Output(), Button(button_style='success', description='Pick: Sword of Fire and Ice', style=Butto…"
      ]
     },
     "metadata": {},
     "output_type": "display_data"
    },
    {
     "data": {
      "application/vnd.jupyter.widget-view+json": {
       "model_id": "d784d63d8e0249a1850c5ac6b297bb17",
       "version_major": 2,
       "version_minor": 0
      },
      "text/plain": [
       "HBox(children=(Output(), Button(button_style='success', description='Pick: Pawpatch Recruit', style=ButtonStyl…"
      ]
     },
     "metadata": {},
     "output_type": "display_data"
    },
    {
     "data": {
      "application/vnd.jupyter.widget-view+json": {
       "model_id": "39cd797fee6d41a8ab47f6b08d8699c6",
       "version_major": 2,
       "version_minor": 0
      },
      "text/plain": [
       "HBox(children=(Output(), Button(button_style='success', description='Pick: Valley Mightcaller', style=ButtonSt…"
      ]
     },
     "metadata": {},
     "output_type": "display_data"
    },
    {
     "data": {
      "application/vnd.jupyter.widget-view+json": {
       "model_id": "81eb717642ca40ab95180c6ee53dbffc",
       "version_major": 2,
       "version_minor": 0
      },
      "text/plain": [
       "HBox(children=(Output(), Button(button_style='success', description='Pick: Valley Rotcaller', style=ButtonStyl…"
      ]
     },
     "metadata": {},
     "output_type": "display_data"
    },
    {
     "data": {
      "application/vnd.jupyter.widget-view+json": {
       "model_id": "6a7ceac4ccc94860919febcb5803071c",
       "version_major": 2,
       "version_minor": 0
      },
      "text/plain": [
       "HBox(children=(Output(), Button(button_style='success', description='Pick: Warren Warleader', style=ButtonStyl…"
      ]
     },
     "metadata": {},
     "output_type": "display_data"
    },
    {
     "data": {
      "application/vnd.jupyter.widget-view+json": {
       "model_id": "a627839db311434a8165c4f9bae8249b",
       "version_major": 2,
       "version_minor": 0
      },
      "text/plain": [
       "HBox(children=(Output(), Button(button_style='success', description=\"Pick: Glarb, Calamity's Augur\", style=But…"
      ]
     },
     "metadata": {},
     "output_type": "display_data"
    },
    {
     "data": {
      "application/vnd.jupyter.widget-view+json": {
       "model_id": "5813a255414f488390acf5892842396d",
       "version_major": 2,
       "version_minor": 0
      },
      "text/plain": [
       "HBox(children=(Output(), Button(button_style='success', description='Pick: Darkstar Augur', style=ButtonStyle(…"
      ]
     },
     "metadata": {},
     "output_type": "display_data"
    },
    {
     "data": {
      "application/vnd.jupyter.widget-view+json": {
       "model_id": "cc75d318f99d4b4f8b122612e21a52ab",
       "version_major": 2,
       "version_minor": 0
      },
      "text/plain": [
       "HBox(children=(Output(), Button(button_style='success', description='Pick: Toski, Bearer of Secrets', style=Bu…"
      ]
     },
     "metadata": {},
     "output_type": "display_data"
    },
    {
     "data": {
      "application/vnd.jupyter.widget-view+json": {
       "model_id": "35ea6ff7aa974561a6ce071af72fefc9",
       "version_major": 2,
       "version_minor": 0
      },
      "text/plain": [
       "HBox(children=(Output(), Button(button_style='success', description='Pick: Keen-Eyed Curator', style=ButtonSty…"
      ]
     },
     "metadata": {},
     "output_type": "display_data"
    },
    {
     "data": {
      "application/vnd.jupyter.widget-view+json": {
       "model_id": "ad5dd972d16b48ae910f3a70d6effbd9",
       "version_major": 2,
       "version_minor": 0
      },
      "text/plain": [
       "HBox(children=(Output(), Button(button_style='success', description='Pick: Fell', style=ButtonStyle())))"
      ]
     },
     "metadata": {},
     "output_type": "display_data"
    },
    {
     "data": {
      "application/vnd.jupyter.widget-view+json": {
       "model_id": "497bf42c61e7493997d2354e7b0dd6b0",
       "version_major": 2,
       "version_minor": 0
      },
      "text/plain": [
       "HBox(children=(Output(), Button(button_style='success', description='Pick: Thought-Stalker Warlock', style=But…"
      ]
     },
     "metadata": {},
     "output_type": "display_data"
    },
    {
     "data": {
      "application/vnd.jupyter.widget-view+json": {
       "model_id": "59fcff2570f944ecb7c2e7f67b44c512",
       "version_major": 2,
       "version_minor": 0
      },
      "text/plain": [
       "HBox(children=(Output(), Button(button_style='success', description='Pick: Scrapshooter', style=ButtonStyle())…"
      ]
     },
     "metadata": {},
     "output_type": "display_data"
    },
    {
     "data": {
      "application/vnd.jupyter.widget-view+json": {
       "model_id": "1f4fadecb41f4694b3cc92723cc9b3c3",
       "version_major": 2,
       "version_minor": 0
      },
      "text/plain": [
       "HBox(children=(Output(), Button(button_style='success', description=\"Pick: Wick's Patrol\", style=ButtonStyle()…"
      ]
     },
     "metadata": {},
     "output_type": "display_data"
    },
    {
     "data": {
      "application/vnd.jupyter.widget-view+json": {
       "model_id": "e125fd18584140b89cc3f5161f05670c",
       "version_major": 2,
       "version_minor": 0
      },
      "text/plain": [
       "HBox(children=(Output(), Button(button_style='success', description='Pick: Dreamdew Entrancer', style=ButtonSt…"
      ]
     },
     "metadata": {},
     "output_type": "display_data"
    },
    {
     "data": {
      "application/vnd.jupyter.widget-view+json": {
       "model_id": "49732472b2c2414a9f81092bc3723de0",
       "version_major": 2,
       "version_minor": 0
      },
      "text/plain": [
       "HBox(children=(Output(), Button(button_style='success', description='Pick: Feed the Cycle', style=ButtonStyle(…"
      ]
     },
     "metadata": {},
     "output_type": "display_data"
    },
    {
     "data": {
      "application/vnd.jupyter.widget-view+json": {
       "model_id": "ca37ead4a92849f6a7c2b2cfda573764",
       "version_major": 2,
       "version_minor": 0
      },
      "text/plain": [
       "HBox(children=(Output(), Button(button_style='success', description='Pick: Swords to Plowshares', style=Button…"
      ]
     },
     "metadata": {},
     "output_type": "display_data"
    },
    {
     "data": {
      "application/vnd.jupyter.widget-view+json": {
       "model_id": "a19dce14f0b341bcab6489f2d45ccca5",
       "version_major": 2,
       "version_minor": 0
      },
      "text/plain": [
       "HBox(children=(Output(), Button(button_style='success', description='Pick: Honored Dreyleader', style=ButtonSt…"
      ]
     },
     "metadata": {},
     "output_type": "display_data"
    },
    {
     "data": {
      "application/vnd.jupyter.widget-view+json": {
       "model_id": "fb537fabe7094fc5aaeaa4f510eb965e",
       "version_major": 2,
       "version_minor": 0
      },
      "text/plain": [
       "HBox(children=(Output(), Button(button_style='success', description='Pick: Consumed by Greed', style=ButtonSty…"
      ]
     },
     "metadata": {},
     "output_type": "display_data"
    },
    {
     "data": {
      "application/vnd.jupyter.widget-view+json": {
       "model_id": "a2c0a72099cc405093ad2865d65ea07b",
       "version_major": 2,
       "version_minor": 0
      },
      "text/plain": [
       "HBox(children=(Output(), Button(button_style='success', description=\"Pick: Scavenger's Talent\", style=ButtonSt…"
      ]
     },
     "metadata": {},
     "output_type": "display_data"
    },
    {
     "data": {
      "application/vnd.jupyter.widget-view+json": {
       "model_id": "6e7b69cbb0a34e9f9f405df218fb4bd6",
       "version_major": 2,
       "version_minor": 0
      },
      "text/plain": [
       "HBox(children=(Output(), Button(button_style='success', description='Pick: Iridescent Vinelasher', style=Butto…"
      ]
     },
     "metadata": {},
     "output_type": "display_data"
    },
    {
     "data": {
      "application/vnd.jupyter.widget-view+json": {
       "model_id": "3b1e6b764e3340449e324e5653c2e2d0",
       "version_major": 2,
       "version_minor": 0
      },
      "text/plain": [
       "HBox(children=(Output(), Button(button_style='success', description='Pick: Bushy Bodyguard', style=ButtonStyle…"
      ]
     },
     "metadata": {},
     "output_type": "display_data"
    },
    {
     "data": {
      "application/vnd.jupyter.widget-view+json": {
       "model_id": "b0e7cb6eb4904f26a6c2f7443d30f21b",
       "version_major": 2,
       "version_minor": 0
      },
      "text/plain": [
       "HBox(children=(Output(), Button(button_style='success', description='Pick: Savor', style=ButtonStyle())))"
      ]
     },
     "metadata": {},
     "output_type": "display_data"
    },
    {
     "data": {
      "application/vnd.jupyter.widget-view+json": {
       "model_id": "5a3e5218543646edaa23cbb3c95e4a8e",
       "version_major": 2,
       "version_minor": 0
      },
      "text/plain": [
       "HBox(children=(Output(), Button(button_style='success', description='Pick: Vren, the Relentless', style=Button…"
      ]
     },
     "metadata": {},
     "output_type": "display_data"
    },
    {
     "data": {
      "application/vnd.jupyter.widget-view+json": {
       "model_id": "6ce5c222f0d64f45a0ee0cf48a03bafe",
       "version_major": 2,
       "version_minor": 0
      },
      "text/plain": [
       "HBox(children=(Output(), Button(button_style='success', description='Pick: Valley Questcaller', style=ButtonSt…"
      ]
     },
     "metadata": {},
     "output_type": "display_data"
    },
    {
     "data": {
      "application/vnd.jupyter.widget-view+json": {
       "model_id": "3502e85ba9ee46e48c0242758693104c",
       "version_major": 2,
       "version_minor": 0
      },
      "text/plain": [
       "HBox(children=(Output(), Button(button_style='success', description=\"Pick: Dragonhawk, Fate's Tempest\", style=…"
      ]
     },
     "metadata": {},
     "output_type": "display_data"
    },
    {
     "data": {
      "application/vnd.jupyter.widget-view+json": {
       "model_id": "12284722159c4eb0b3596b2c92ef1594",
       "version_major": 2,
       "version_minor": 0
      },
      "text/plain": [
       "HBox(children=(Output(), Button(button_style='success', description='Pick: Downwind Ambusher', style=ButtonSty…"
      ]
     },
     "metadata": {},
     "output_type": "display_data"
    },
    {
     "data": {
      "application/vnd.jupyter.widget-view+json": {
       "model_id": "cba0ae2261fe41b9a913a737f487016e",
       "version_major": 2,
       "version_minor": 0
      },
      "text/plain": [
       "HBox(children=(Output(), Button(button_style='success', description='Pick: Curious Forager', style=ButtonStyle…"
      ]
     },
     "metadata": {},
     "output_type": "display_data"
    },
    {
     "data": {
      "application/vnd.jupyter.widget-view+json": {
       "model_id": "73f685cfda7b448494e53d850ed60a30",
       "version_major": 2,
       "version_minor": 0
      },
      "text/plain": [
       "HBox(children=(Output(), Button(button_style='success', description='Pick: Season of the Burrow', style=Button…"
      ]
     },
     "metadata": {},
     "output_type": "display_data"
    },
    {
     "data": {
      "application/vnd.jupyter.widget-view+json": {
       "model_id": "7dd27fe6d5c94578ba4a12b8899333b0",
       "version_major": 2,
       "version_minor": 0
      },
      "text/plain": [
       "HBox(children=(Output(), Button(button_style='success', description='Pick: Beza, the Bounding Spring', style=B…"
      ]
     },
     "metadata": {},
     "output_type": "display_data"
    },
    {
     "data": {
      "application/vnd.jupyter.widget-view+json": {
       "model_id": "0d70652f926d4c318edba0ac1c51771b",
       "version_major": 2,
       "version_minor": 0
      },
      "text/plain": [
       "HBox(children=(Output(), Button(button_style='success', description='Pick: Bakersbane Duo', style=ButtonStyle(…"
      ]
     },
     "metadata": {},
     "output_type": "display_data"
    },
    {
     "data": {
      "application/vnd.jupyter.widget-view+json": {
       "model_id": "19dafdda50434b7a9bd3653d9ed18091",
       "version_major": 2,
       "version_minor": 0
      },
      "text/plain": [
       "HBox(children=(Output(), Button(button_style='success', description='Pick: Zoraline, Cosmos Caller', style=But…"
      ]
     },
     "metadata": {},
     "output_type": "display_data"
    },
    {
     "data": {
      "application/vnd.jupyter.widget-view+json": {
       "model_id": "9fabdc98e59f43898d81d615b6c2d808",
       "version_major": 2,
       "version_minor": 0
      },
      "text/plain": [
       "HBox(children=(Output(), Button(button_style='success', description='Pick: Cache Grab', style=ButtonStyle())))"
      ]
     },
     "metadata": {},
     "output_type": "display_data"
    },
    {
     "data": {
      "application/vnd.jupyter.widget-view+json": {
       "model_id": "c70feb92f204431d8fae7602932901c7",
       "version_major": 2,
       "version_minor": 0
      },
      "text/plain": [
       "HBox(children=(Output(), Button(button_style='success', description='Pick: Season of Weaving', style=ButtonSty…"
      ]
     },
     "metadata": {},
     "output_type": "display_data"
    },
    {
     "data": {
      "application/vnd.jupyter.widget-view+json": {
       "model_id": "dc1ef538a3e24804a72c73a3dedfa0ae",
       "version_major": 2,
       "version_minor": 0
      },
      "text/plain": [
       "HBox(children=(Output(), Button(button_style='success', description='Pick: Bonecache Overseer', style=ButtonSt…"
      ]
     },
     "metadata": {},
     "output_type": "display_data"
    },
    {
     "data": {
      "application/vnd.jupyter.widget-view+json": {
       "model_id": "770005a3b59b4716aba60890b475d340",
       "version_major": 2,
       "version_minor": 0
      },
      "text/plain": [
       "HBox(children=(Output(), Button(button_style='success', description='Pick: Galewind Moose', style=ButtonStyle(…"
      ]
     },
     "metadata": {},
     "output_type": "display_data"
    },
    {
     "data": {
      "application/vnd.jupyter.widget-view+json": {
       "model_id": "112e84b759ca4e3781292ca79b6c988c",
       "version_major": 2,
       "version_minor": 0
      },
      "text/plain": [
       "HBox(children=(Output(), Button(button_style='success', description='Pick: Nocturnal Hunger', style=ButtonStyl…"
      ]
     },
     "metadata": {},
     "output_type": "display_data"
    },
    {
     "data": {
      "application/vnd.jupyter.widget-view+json": {
       "model_id": "64c5b7e43b494bad8e02573d9a0156f3",
       "version_major": 2,
       "version_minor": 0
      },
      "text/plain": [
       "HBox(children=(Output(), Button(button_style='success', description=\"Pick: Caretaker's Talent\", style=ButtonSt…"
      ]
     },
     "metadata": {},
     "output_type": "display_data"
    },
    {
     "data": {
      "application/vnd.jupyter.widget-view+json": {
       "model_id": "ef93e9afff0840c9acb81ea3a5569823",
       "version_major": 2,
       "version_minor": 0
      },
      "text/plain": [
       "HBox(children=(Output(), Button(button_style='success', description='Pick: Mistbreath Elder', style=ButtonStyl…"
      ]
     },
     "metadata": {},
     "output_type": "display_data"
    },
    {
     "data": {
      "application/vnd.jupyter.widget-view+json": {
       "model_id": "c4a4b9a2a69046f49af9e14d1c515d10",
       "version_major": 2,
       "version_minor": 0
      },
      "text/plain": [
       "HBox(children=(Output(), Button(button_style='success', description='Pick: Overprotect', style=ButtonStyle()))…"
      ]
     },
     "metadata": {},
     "output_type": "display_data"
    },
    {
     "data": {
      "application/vnd.jupyter.widget-view+json": {
       "model_id": "397b418f94c54ccabaad07291aa6847a",
       "version_major": 2,
       "version_minor": 0
      },
      "text/plain": [
       "HBox(children=(Output(), Button(button_style='success', description='Pick: Hivespine Wolverine', style=ButtonS…"
      ]
     },
     "metadata": {},
     "output_type": "display_data"
    },
    {
     "data": {
      "application/vnd.jupyter.widget-view+json": {
       "model_id": "4a1c2d1c90864e37a4aa49f722155ec5",
       "version_major": 2,
       "version_minor": 0
      },
      "text/plain": [
       "HBox(children=(Output(), Button(button_style='success', description='Pick: Gev, Scaled Scorch', style=ButtonSt…"
      ]
     },
     "metadata": {},
     "output_type": "display_data"
    },
    {
     "data": {
      "application/vnd.jupyter.widget-view+json": {
       "model_id": "161dbc4fd48d443ab44392eb34b2b72f",
       "version_major": 2,
       "version_minor": 0
      },
      "text/plain": [
       "HBox(children=(Output(), Button(button_style='success', description='Pick: Manifold Mouse', style=ButtonStyle(…"
      ]
     },
     "metadata": {},
     "output_type": "display_data"
    },
    {
     "data": {
      "application/vnd.jupyter.widget-view+json": {
       "model_id": "aeec2235014a4718b310a8b50b477c38",
       "version_major": 2,
       "version_minor": 0
      },
      "text/plain": [
       "HBox(children=(Output(), Button(button_style='success', description='Pick: Patchwork Banner', style=ButtonStyl…"
      ]
     },
     "metadata": {},
     "output_type": "display_data"
    },
    {
     "data": {
      "application/vnd.jupyter.widget-view+json": {
       "model_id": "7cbba3a835184dc39caadace7ae65d04",
       "version_major": 2,
       "version_minor": 0
      },
      "text/plain": [
       "HBox(children=(Output(), Button(button_style='success', description='Pick: The Infamous Cruelclaw', style=Butt…"
      ]
     },
     "metadata": {},
     "output_type": "display_data"
    },
    {
     "data": {
      "application/vnd.jupyter.widget-view+json": {
       "model_id": "523e3a23fe004b099a68df669c522725",
       "version_major": 2,
       "version_minor": 0
      },
      "text/plain": [
       "HBox(children=(Output(), Button(button_style='success', description='Pick: Starfall Invocation', style=ButtonS…"
      ]
     },
     "metadata": {},
     "output_type": "display_data"
    },
    {
     "data": {
      "application/vnd.jupyter.widget-view+json": {
       "model_id": "2dae4432e1054c71bcc75a0c74286f50",
       "version_major": 2,
       "version_minor": 0
      },
      "text/plain": [
       "HBox(children=(Output(), Button(button_style='success', description='Pick: Mabel, Heir to Cragflame', style=Bu…"
      ]
     },
     "metadata": {},
     "output_type": "display_data"
    },
    {
     "data": {
      "application/vnd.jupyter.widget-view+json": {
       "model_id": "8f96793274f14b6aa52539daea3bba0d",
       "version_major": 2,
       "version_minor": 0
      },
      "text/plain": [
       "HBox(children=(Output(), Button(button_style='success', description='Pick: Finneas, Ace Archer', style=ButtonS…"
      ]
     },
     "metadata": {},
     "output_type": "display_data"
    },
    {
     "data": {
      "application/vnd.jupyter.widget-view+json": {
       "model_id": "65862a7413cd46239c6914bf7f1d0bf9",
       "version_major": 2,
       "version_minor": 0
      },
      "text/plain": [
       "HBox(children=(Output(), Button(button_style='success', description='Pick: Corpseberry Cultivator', style=Butt…"
      ]
     },
     "metadata": {},
     "output_type": "display_data"
    },
    {
     "data": {
      "application/vnd.jupyter.widget-view+json": {
       "model_id": "5e16d018dc494032b24b1edc4c855eda",
       "version_major": 2,
       "version_minor": 0
      },
      "text/plain": [
       "HBox(children=(Output(), Button(button_style='success', description='Pick: Ral, Crackling Wit', style=ButtonSt…"
      ]
     },
     "metadata": {},
     "output_type": "display_data"
    },
    {
     "data": {
      "application/vnd.jupyter.widget-view+json": {
       "model_id": "b03a5e4951a34fb195bfac937b9b4af9",
       "version_major": 2,
       "version_minor": 0
      },
      "text/plain": [
       "HBox(children=(Output(), Button(button_style='success', description='Pick: Dour Port-Mage', style=ButtonStyle(…"
      ]
     },
     "metadata": {},
     "output_type": "display_data"
    },
    {
     "data": {
      "application/vnd.jupyter.widget-view+json": {
       "model_id": "26701d047737411eb6cdbb81d4709bcc",
       "version_major": 2,
       "version_minor": 0
      },
      "text/plain": [
       "HBox(children=(Output(), Button(button_style='success', description='Pick: Clement, the Worrywort', style=Butt…"
      ]
     },
     "metadata": {},
     "output_type": "display_data"
    },
    {
     "data": {
      "application/vnd.jupyter.widget-view+json": {
       "model_id": "8aa02adee4f74a41b707a205659fc712",
       "version_major": 2,
       "version_minor": 0
      },
      "text/plain": [
       "HBox(children=(Output(), Button(button_style='success', description='Pick: Salvation Swan', style=ButtonStyle(…"
      ]
     },
     "metadata": {},
     "output_type": "display_data"
    },
    {
     "data": {
      "application/vnd.jupyter.widget-view+json": {
       "model_id": "fb7d5ee631f541829b1265ce13bd6e84",
       "version_major": 2,
       "version_minor": 0
      },
      "text/plain": [
       "HBox(children=(Output(), Button(button_style='success', description='Pick: Jackdaw Savior', style=ButtonStyle(…"
      ]
     },
     "metadata": {},
     "output_type": "display_data"
    },
    {
     "data": {
      "application/vnd.jupyter.widget-view+json": {
       "model_id": "5cd95601baa04d0b856a757d73b4fb5d",
       "version_major": 2,
       "version_minor": 0
      },
      "text/plain": [
       "HBox(children=(Output(), Button(button_style='success', description='Pick: Hired Claw', style=ButtonStyle())))"
      ]
     },
     "metadata": {},
     "output_type": "display_data"
    },
    {
     "data": {
      "application/vnd.jupyter.widget-view+json": {
       "model_id": "b9a0776cd07c4365afabd78db3d4f0e5",
       "version_major": 2,
       "version_minor": 0
      },
      "text/plain": [
       "HBox(children=(Output(), Button(button_style='success', description='Pick: Whiskervale Forerunner', style=Butt…"
      ]
     },
     "metadata": {},
     "output_type": "display_data"
    },
    {
     "data": {
      "application/vnd.jupyter.widget-view+json": {
       "model_id": "f3d1972e105d46b8a7acd4fe93f335cf",
       "version_major": 2,
       "version_minor": 0
      },
      "text/plain": [
       "HBox(children=(Output(), Button(button_style='success', description='Pick: Hugs, Grisly Guardian', style=Butto…"
      ]
     },
     "metadata": {},
     "output_type": "display_data"
    },
    {
     "data": {
      "application/vnd.jupyter.widget-view+json": {
       "model_id": "0417edc8de8d4f16966c3ff2095ca0bd",
       "version_major": 2,
       "version_minor": 0
      },
      "text/plain": [
       "HBox(children=(Output(), Button(button_style='success', description='Pick: Coiling Rebirth', style=ButtonStyle…"
      ]
     },
     "metadata": {},
     "output_type": "display_data"
    },
    {
     "data": {
      "application/vnd.jupyter.widget-view+json": {
       "model_id": "707805b5a5bf4bdb9b60d7bd85c1c870",
       "version_major": 2,
       "version_minor": 0
      },
      "text/plain": [
       "HBox(children=(Output(), Button(button_style='success', description='Pick: Pawpatch Formation', style=ButtonSt…"
      ]
     },
     "metadata": {},
     "output_type": "display_data"
    },
    {
     "data": {
      "application/vnd.jupyter.widget-view+json": {
       "model_id": "cb9a1d312501485fab70e94b724c0eaa",
       "version_major": 2,
       "version_minor": 0
      },
      "text/plain": [
       "HBox(children=(Output(), Button(button_style='success', description='Pick: Longstalk Brawl', style=ButtonStyle…"
      ]
     },
     "metadata": {},
     "output_type": "display_data"
    },
    {
     "data": {
      "application/vnd.jupyter.widget-view+json": {
       "model_id": "7902ee9bb30e499dbdd55bbd0ee5c736",
       "version_major": 2,
       "version_minor": 0
      },
      "text/plain": [
       "HBox(children=(Output(), Button(button_style='success', description='Pick: Valley Flamecaller', style=ButtonSt…"
      ]
     },
     "metadata": {},
     "output_type": "display_data"
    },
    {
     "data": {
      "application/vnd.jupyter.widget-view+json": {
       "model_id": "49137a10252d41ee825e65fa7bb3d398",
       "version_major": 2,
       "version_minor": 0
      },
      "text/plain": [
       "HBox(children=(Output(), Button(button_style='success', description='Pick: Muerra, Trash Tactician', style=But…"
      ]
     },
     "metadata": {},
     "output_type": "display_data"
    },
    {
     "data": {
      "application/vnd.jupyter.widget-view+json": {
       "model_id": "9506a0bc996d44b8a2a2418e66a31598",
       "version_major": 2,
       "version_minor": 0
      },
      "text/plain": [
       "HBox(children=(Output(), Button(button_style='success', description='Pick: Lilysplash Mentor', style=ButtonSty…"
      ]
     },
     "metadata": {},
     "output_type": "display_data"
    },
    {
     "data": {
      "application/vnd.jupyter.widget-view+json": {
       "model_id": "657edba7e9284df88df81f126562c400",
       "version_major": 2,
       "version_minor": 0
      },
      "text/plain": [
       "HBox(children=(Output(), Button(button_style='success', description='Pick: Essence Channeler', style=ButtonSty…"
      ]
     },
     "metadata": {},
     "output_type": "display_data"
    },
    {
     "data": {
      "application/vnd.jupyter.widget-view+json": {
       "model_id": "9e318eebaec148b3a1542e3918b0f4b4",
       "version_major": 2,
       "version_minor": 0
      },
      "text/plain": [
       "HBox(children=(Output(), Button(button_style='success', description='Pick: Bonebind Orator', style=ButtonStyle…"
      ]
     },
     "metadata": {},
     "output_type": "display_data"
    },
    {
     "data": {
      "application/vnd.jupyter.widget-view+json": {
       "model_id": "62ade4b7ccab46fab14eba9fd56a4d5d",
       "version_major": 2,
       "version_minor": 0
      },
      "text/plain": [
       "HBox(children=(Output(), Button(button_style='success', description=\"Pick: Hazel's Nocturne\", style=ButtonStyl…"
      ]
     },
     "metadata": {},
     "output_type": "display_data"
    },
    {
     "data": {
      "application/vnd.jupyter.widget-view+json": {
       "model_id": "44348e6594314f178e91c8e90aa06568",
       "version_major": 2,
       "version_minor": 0
      },
      "text/plain": [
       "HBox(children=(Output(), Button(button_style='success', description='Pick: Shoreline Looter', style=ButtonStyl…"
      ]
     },
     "metadata": {},
     "output_type": "display_data"
    },
    {
     "data": {
      "application/vnd.jupyter.widget-view+json": {
       "model_id": "6db774a882404759bacbaf89929002bd",
       "version_major": 2,
       "version_minor": 0
      },
      "text/plain": [
       "HBox(children=(Output(), Button(button_style='success', description='Pick: Daggerfang Duo', style=ButtonStyle(…"
      ]
     },
     "metadata": {},
     "output_type": "display_data"
    },
    {
     "data": {
      "application/vnd.jupyter.widget-view+json": {
       "model_id": "306b5b43b67b47d28221e3719ad91fd5",
       "version_major": 2,
       "version_minor": 0
      },
      "text/plain": [
       "HBox(children=(Output(), Button(button_style='success', description='Pick: Byway Barterer', style=ButtonStyle(…"
      ]
     },
     "metadata": {},
     "output_type": "display_data"
    },
    {
     "data": {
      "application/vnd.jupyter.widget-view+json": {
       "model_id": "336ffa2ec9744859803c080c1235e6fb",
       "version_major": 2,
       "version_minor": 0
      },
      "text/plain": [
       "HBox(children=(Output(), Button(button_style='success', description='Pick: Fountainport', style=ButtonStyle())…"
      ]
     },
     "metadata": {},
     "output_type": "display_data"
    },
    {
     "data": {
      "application/vnd.jupyter.widget-view+json": {
       "model_id": "86263b56e1a74fccba498a4c32582fde",
       "version_major": 2,
       "version_minor": 0
      },
      "text/plain": [
       "HBox(children=(Output(), Button(button_style='success', description='Pick: Burrowguard Mentor', style=ButtonSt…"
      ]
     },
     "metadata": {},
     "output_type": "display_data"
    },
    {
     "data": {
      "application/vnd.jupyter.widget-view+json": {
       "model_id": "f59b2906b2ff493c9513b8496dd3244c",
       "version_major": 2,
       "version_minor": 0
      },
      "text/plain": [
       "HBox(children=(Output(), Button(button_style='success', description='Pick: Harvestrite Host', style=ButtonStyl…"
      ]
     },
     "metadata": {},
     "output_type": "display_data"
    },
    {
     "data": {
      "application/vnd.jupyter.widget-view+json": {
       "model_id": "1260785bf8814b909931b63faed7a70f",
       "version_major": 2,
       "version_minor": 0
      },
      "text/plain": [
       "HBox(children=(Output(), Button(button_style='success', description='Pick: Kitsa, Otterball Elite', style=Butt…"
      ]
     },
     "metadata": {},
     "output_type": "display_data"
    },
    {
     "data": {
      "application/vnd.jupyter.widget-view+json": {
       "model_id": "37f9faf798e140108de86a9b7bee03e0",
       "version_major": 2,
       "version_minor": 0
      },
      "text/plain": [
       "HBox(children=(Output(), Button(button_style='success', description='Pick: Treeguard Duo', style=ButtonStyle()…"
      ]
     },
     "metadata": {},
     "output_type": "display_data"
    },
    {
     "data": {
      "application/vnd.jupyter.widget-view+json": {
       "model_id": "b7da5146851a4e40b0b8c05a23272726",
       "version_major": 2,
       "version_minor": 0
      },
      "text/plain": [
       "HBox(children=(Output(), Button(button_style='success', description='Pick: Fabled Passage', style=ButtonStyle(…"
      ]
     },
     "metadata": {},
     "output_type": "display_data"
    },
    {
     "data": {
      "application/vnd.jupyter.widget-view+json": {
       "model_id": "063578a9408549beb58af776940345f3",
       "version_major": 2,
       "version_minor": 0
      },
      "text/plain": [
       "HBox(children=(Output(), Button(button_style='success', description=\"Pick: Stormchaser's Talent\", style=Button…"
      ]
     },
     "metadata": {},
     "output_type": "display_data"
    },
    {
     "data": {
      "application/vnd.jupyter.widget-view+json": {
       "model_id": "338de45f832b4b7a9c3f9ac2a6e57187",
       "version_major": 2,
       "version_minor": 0
      },
      "text/plain": [
       "HBox(children=(Output(), Button(button_style='success', description='Pick: Bark-Knuckle Boxer', style=ButtonSt…"
      ]
     },
     "metadata": {},
     "output_type": "display_data"
    },
    {
     "data": {
      "application/vnd.jupyter.widget-view+json": {
       "model_id": "c34c8e5f47444732b4f0f28668dbde87",
       "version_major": 2,
       "version_minor": 0
      },
      "text/plain": [
       "HBox(children=(Output(), Button(button_style='success', description='Pick: Starscape Cleric', style=ButtonStyl…"
      ]
     },
     "metadata": {},
     "output_type": "display_data"
    },
    {
     "data": {
      "application/vnd.jupyter.widget-view+json": {
       "model_id": "eabf9bca86644991a54e33d231cb0449",
       "version_major": 2,
       "version_minor": 0
      },
      "text/plain": [
       "HBox(children=(Output(), Button(button_style='success', description='Pick: Three Tree Scribe', style=ButtonSty…"
      ]
     },
     "metadata": {},
     "output_type": "display_data"
    },
    {
     "data": {
      "application/vnd.jupyter.widget-view+json": {
       "model_id": "a1593e48e98f42949af0787b77530f02",
       "version_major": 2,
       "version_minor": 0
      },
      "text/plain": [
       "HBox(children=(Output(), Button(button_style='success', description='Pick: Polliwallop', style=ButtonStyle()))…"
      ]
     },
     "metadata": {},
     "output_type": "display_data"
    },
    {
     "data": {
      "application/vnd.jupyter.widget-view+json": {
       "model_id": "46d8f2330edf4c7ca132ebdc2bc7fd27",
       "version_major": 2,
       "version_minor": 0
      },
      "text/plain": [
       "HBox(children=(Output(), Button(button_style='success', description='Pick: Brambleguard Veteran', style=Button…"
      ]
     },
     "metadata": {},
     "output_type": "display_data"
    },
    {
     "data": {
      "application/vnd.jupyter.widget-view+json": {
       "model_id": "8c49fc22ce574545a28b296270462616",
       "version_major": 2,
       "version_minor": 0
      },
      "text/plain": [
       "HBox(children=(Output(), Button(button_style='success', description='Pick: Hop to It', style=ButtonStyle())))"
      ]
     },
     "metadata": {},
     "output_type": "display_data"
    },
    {
     "data": {
      "application/vnd.jupyter.widget-view+json": {
       "model_id": "99f82d3e96e44cb2b29e78bb502564c3",
       "version_major": 2,
       "version_minor": 0
      },
      "text/plain": [
       "HBox(children=(Output(), Button(button_style='success', description='Pick: Ruthless Negotiation', style=Button…"
      ]
     },
     "metadata": {},
     "output_type": "display_data"
    },
    {
     "data": {
      "application/vnd.jupyter.widget-view+json": {
       "model_id": "9ce475ce42d644f9b2cbbb89ab2a9385",
       "version_major": 2,
       "version_minor": 0
      },
      "text/plain": [
       "HBox(children=(Output(), Button(button_style='success', description='Pick: Emberheart Challenger', style=Butto…"
      ]
     },
     "metadata": {},
     "output_type": "display_data"
    },
    {
     "data": {
      "application/vnd.jupyter.widget-view+json": {
       "model_id": "74926f36ffaa4f8ca3733b559560691c",
       "version_major": 2,
       "version_minor": 0
      },
      "text/plain": [
       "HBox(children=(Output(), Button(button_style='success', description='Pick: Mockingbird', style=ButtonStyle()))…"
      ]
     },
     "metadata": {},
     "output_type": "display_data"
    },
    {
     "data": {
      "application/vnd.jupyter.widget-view+json": {
       "model_id": "1a0c1bc130c248d4b021bd1ebda0ff74",
       "version_major": 2,
       "version_minor": 0
      },
      "text/plain": [
       "HBox(children=(Output(), Button(button_style='success', description='Pick: Wick, the Whorled Mind', style=Butt…"
      ]
     },
     "metadata": {},
     "output_type": "display_data"
    },
    {
     "data": {
      "application/vnd.jupyter.widget-view+json": {
       "model_id": "fad9846cb3ea47559a957e6047077a3d",
       "version_major": 2,
       "version_minor": 0
      },
      "text/plain": [
       "HBox(children=(Output(), Button(button_style='success', description='Pick: Persistent Marshstalker', style=But…"
      ]
     },
     "metadata": {},
     "output_type": "display_data"
    },
    {
     "data": {
      "application/vnd.jupyter.widget-view+json": {
       "model_id": "47b37a3e490f462992e77025134b1079",
       "version_major": 2,
       "version_minor": 0
      },
      "text/plain": [
       "HBox(children=(Output(), Button(button_style='success', description=\"Pick: Builder's Talent\", style=ButtonStyl…"
      ]
     },
     "metadata": {},
     "output_type": "display_data"
    },
    {
     "data": {
      "application/vnd.jupyter.widget-view+json": {
       "model_id": "bab85ea99b0a414c981c6e7741ee2560",
       "version_major": 2,
       "version_minor": 0
      },
      "text/plain": [
       "HBox(children=(Output(), Button(button_style='success', description='Pick: Carrot Cake', style=ButtonStyle()))…"
      ]
     },
     "metadata": {},
     "output_type": "display_data"
    },
    {
     "data": {
      "application/vnd.jupyter.widget-view+json": {
       "model_id": "51d408bc74014676942cf876b75e280f",
       "version_major": 2,
       "version_minor": 0
      },
      "text/plain": [
       "HBox(children=(Output(), Button(button_style='success', description=\"Pick: Cruelclaw's Heist\", style=ButtonSty…"
      ]
     },
     "metadata": {},
     "output_type": "display_data"
    },
    {
     "data": {
      "application/vnd.jupyter.widget-view+json": {
       "model_id": "86122ece62cb4222a37c3ad24aba64a1",
       "version_major": 2,
       "version_minor": 0
      },
      "text/plain": [
       "HBox(children=(Output(), Button(button_style='success', description='Pick: Three Tree Rootweaver', style=Butto…"
      ]
     },
     "metadata": {},
     "output_type": "display_data"
    },
    {
     "data": {
      "application/vnd.jupyter.widget-view+json": {
       "model_id": "b5e4a6046eb44abdbf26a0fcc5768f06",
       "version_major": 2,
       "version_minor": 0
      },
      "text/plain": [
       "HBox(children=(Output(), Button(button_style='success', description='Pick: Azure Beastbinder', style=ButtonSty…"
      ]
     },
     "metadata": {},
     "output_type": "display_data"
    },
    {
     "data": {
      "application/vnd.jupyter.widget-view+json": {
       "model_id": "dc7de6f9af27422e83a874056f4994c7",
       "version_major": 2,
       "version_minor": 0
      },
      "text/plain": [
       "HBox(children=(Output(), Button(button_style='success', description='Pick: Sylvan Tutor', style=ButtonStyle())…"
      ]
     },
     "metadata": {},
     "output_type": "display_data"
    },
    {
     "data": {
      "application/vnd.jupyter.widget-view+json": {
       "model_id": "7bded2a697344a0cac8c17acb78b30c3",
       "version_major": 2,
       "version_minor": 0
      },
      "text/plain": [
       "HBox(children=(Output(), Button(button_style='success', description='Pick: Intrepid Rabbit', style=ButtonStyle…"
      ]
     },
     "metadata": {},
     "output_type": "display_data"
    },
    {
     "data": {
      "application/vnd.jupyter.widget-view+json": {
       "model_id": "5c7b10abc51d4a67862e8b978168da82",
       "version_major": 2,
       "version_minor": 0
      },
      "text/plain": [
       "HBox(children=(Output(), Button(button_style='success', description='Pick: Wandertale Mentor', style=ButtonSty…"
      ]
     },
     "metadata": {},
     "output_type": "display_data"
    },
    {
     "data": {
      "application/vnd.jupyter.widget-view+json": {
       "model_id": "7fe776b033e74d3aabcdef5ea676e30c",
       "version_major": 2,
       "version_minor": 0
      },
      "text/plain": [
       "HBox(children=(Output(), Button(button_style='success', description='Pick: Treetop Sentries', style=ButtonStyl…"
      ]
     },
     "metadata": {},
     "output_type": "display_data"
    },
    {
     "data": {
      "application/vnd.jupyter.widget-view+json": {
       "model_id": "a07b1d2c7cc54733bb7a58ba63a32872",
       "version_major": 2,
       "version_minor": 0
      },
      "text/plain": [
       "HBox(children=(Output(), Button(button_style='success', description='Pick: Mudflat Village', style=ButtonStyle…"
      ]
     },
     "metadata": {},
     "output_type": "display_data"
    },
    {
     "data": {
      "application/vnd.jupyter.widget-view+json": {
       "model_id": "43c100eb948d4890ab66a5d0d06dee8d",
       "version_major": 2,
       "version_minor": 0
      },
      "text/plain": [
       "HBox(children=(Output(), Button(button_style='success', description='Pick: Stickytongue Sentinel', style=Butto…"
      ]
     },
     "metadata": {},
     "output_type": "display_data"
    },
    {
     "data": {
      "application/vnd.jupyter.widget-view+json": {
       "model_id": "6d70b71bc04a4d188d7a80fd9921c422",
       "version_major": 2,
       "version_minor": 0
      },
      "text/plain": [
       "HBox(children=(Output(), Button(button_style='success', description='Pick: Brightblade Stoat', style=ButtonSty…"
      ]
     },
     "metadata": {},
     "output_type": "display_data"
    },
    {
     "data": {
      "application/vnd.jupyter.widget-view+json": {
       "model_id": "b4ce01631e794df990667bb0024be18b",
       "version_major": 2,
       "version_minor": 0
      },
      "text/plain": [
       "HBox(children=(Output(), Button(button_style='success', description='Pick: Thundertrap Trainer', style=ButtonS…"
      ]
     },
     "metadata": {},
     "output_type": "display_data"
    },
    {
     "data": {
      "application/vnd.jupyter.widget-view+json": {
       "model_id": "b913907536bc411b953ea378002f6cf8",
       "version_major": 2,
       "version_minor": 0
      },
      "text/plain": [
       "HBox(children=(Output(), Button(button_style='success', description='Pick: Lunar Convocation', style=ButtonSty…"
      ]
     },
     "metadata": {},
     "output_type": "display_data"
    },
    {
     "data": {
      "application/vnd.jupyter.widget-view+json": {
       "model_id": "380c423ae3034a938a6996a79a6bbee8",
       "version_major": 2,
       "version_minor": 0
      },
      "text/plain": [
       "HBox(children=(Output(), Button(button_style='success', description='Pick: Driftgloom Coyote', style=ButtonSty…"
      ]
     },
     "metadata": {},
     "output_type": "display_data"
    },
    {
     "data": {
      "application/vnd.jupyter.widget-view+json": {
       "model_id": "6e314d3a4fd747ad82641b23a6e7a972",
       "version_major": 2,
       "version_minor": 0
      },
      "text/plain": [
       "HBox(children=(Output(), Button(button_style='success', description='Pick: Pond Prophet', style=ButtonStyle())…"
      ]
     },
     "metadata": {},
     "output_type": "display_data"
    },
    {
     "data": {
      "application/vnd.jupyter.widget-view+json": {
       "model_id": "e5a8e12965e84ce1946b6423f9864e0a",
       "version_major": 2,
       "version_minor": 0
      },
      "text/plain": [
       "HBox(children=(Output(), Button(button_style='success', description='Pick: Hearthborn Battler', style=ButtonSt…"
      ]
     },
     "metadata": {},
     "output_type": "display_data"
    },
    {
     "data": {
      "application/vnd.jupyter.widget-view+json": {
       "model_id": "e1ff75195e0b4c31a23877c6bd14dfe6",
       "version_major": 2,
       "version_minor": 0
      },
      "text/plain": [
       "HBox(children=(Output(), Button(button_style='success', description='Pick: Banishing Light', style=ButtonStyle…"
      ]
     },
     "metadata": {},
     "output_type": "display_data"
    },
    {
     "data": {
      "application/vnd.jupyter.widget-view+json": {
       "model_id": "f6ce5007530a43d4ae5a6b55059fa361",
       "version_major": 2,
       "version_minor": 0
      },
      "text/plain": [
       "HBox(children=(Output(), Button(button_style='success', description='Pick: Kitnap', style=ButtonStyle())))"
      ]
     },
     "metadata": {},
     "output_type": "display_data"
    },
    {
     "data": {
      "application/vnd.jupyter.widget-view+json": {
       "model_id": "fd7bbee9f7fe41619e5a5f8cd3367167",
       "version_major": 2,
       "version_minor": 0
      },
      "text/plain": [
       "HBox(children=(Output(), Button(button_style='success', description='Pick: Moonstone Harbinger', style=ButtonS…"
      ]
     },
     "metadata": {},
     "output_type": "display_data"
    },
    {
     "data": {
      "application/vnd.jupyter.widget-view+json": {
       "model_id": "9beea1053cd248539b719ba90d48e20e",
       "version_major": 2,
       "version_minor": 0
      },
      "text/plain": [
       "HBox(children=(Output(), Button(button_style='success', description='Pick: Huskburster Swarm', style=ButtonSty…"
      ]
     },
     "metadata": {},
     "output_type": "display_data"
    },
    {
     "data": {
      "application/vnd.jupyter.widget-view+json": {
       "model_id": "50f1364a19ec4502ad44a20755ce60b7",
       "version_major": 2,
       "version_minor": 0
      },
      "text/plain": [
       "HBox(children=(Output(), Button(button_style='success', description='Pick: Glidedive Duo', style=ButtonStyle()…"
      ]
     },
     "metadata": {},
     "output_type": "display_data"
    },
    {
     "data": {
      "application/vnd.jupyter.widget-view+json": {
       "model_id": "124f5e9020404fa2bf7910d7750a5d16",
       "version_major": 2,
       "version_minor": 0
      },
      "text/plain": [
       "HBox(children=(Output(), Button(button_style='success', description='Pick: Kastral, the Windcrested', style=Bu…"
      ]
     },
     "metadata": {},
     "output_type": "display_data"
    },
    {
     "data": {
      "application/vnd.jupyter.widget-view+json": {
       "model_id": "8dea20cc7a6b44ebb3fcb5e27f09cc7a",
       "version_major": 2,
       "version_minor": 0
      },
      "text/plain": [
       "HBox(children=(Output(), Button(button_style='success', description='Pick: Rabid Gnaw', style=ButtonStyle())))"
      ]
     },
     "metadata": {},
     "output_type": "display_data"
    },
    {
     "data": {
      "application/vnd.jupyter.widget-view+json": {
       "model_id": "691a78a443bf4425a818a00eb3c20573",
       "version_major": 2,
       "version_minor": 0
      },
      "text/plain": [
       "HBox(children=(Output(), Button(button_style='success', description='Pick: Season of the Bold', style=ButtonSt…"
      ]
     },
     "metadata": {},
     "output_type": "display_data"
    },
    {
     "data": {
      "application/vnd.jupyter.widget-view+json": {
       "model_id": "7c76f4850e30467c8a932979453647e6",
       "version_major": 2,
       "version_minor": 0
      },
      "text/plain": [
       "HBox(children=(Output(), Button(button_style='success', description='Pick: Splash Lasher', style=ButtonStyle()…"
      ]
     },
     "metadata": {},
     "output_type": "display_data"
    },
    {
     "data": {
      "application/vnd.jupyter.widget-view+json": {
       "model_id": "65e1a41ac9bf408589b626ad6e27b7cb",
       "version_major": 2,
       "version_minor": 0
      },
      "text/plain": [
       "HBox(children=(Output(), Button(button_style='success', description='Pick: Heaped Harvest', style=ButtonStyle(…"
      ]
     },
     "metadata": {},
     "output_type": "display_data"
    },
    {
     "data": {
      "application/vnd.jupyter.widget-view+json": {
       "model_id": "534525238a0c45298dfc49c86ff4a2f0",
       "version_major": 2,
       "version_minor": 0
      },
      "text/plain": [
       "HBox(children=(Output(), Button(button_style='success', description='Pick: Ledger Shredder', style=ButtonStyle…"
      ]
     },
     "metadata": {},
     "output_type": "display_data"
    },
    {
     "data": {
      "application/vnd.jupyter.widget-view+json": {
       "model_id": "0e87dc7fc7ae4df2a4b8f1adf6d83dc0",
       "version_major": 2,
       "version_minor": 0
      },
      "text/plain": [
       "HBox(children=(Output(), Button(button_style='success', description='Pick: Starseer Mentor', style=ButtonStyle…"
      ]
     },
     "metadata": {},
     "output_type": "display_data"
    },
    {
     "data": {
      "application/vnd.jupyter.widget-view+json": {
       "model_id": "c7be2b2f332743bbb58c3aaa72946252",
       "version_major": 2,
       "version_minor": 0
      },
      "text/plain": [
       "HBox(children=(Output(), Button(button_style='success', description='Pick: Valley Floodcaller', style=ButtonSt…"
      ]
     },
     "metadata": {},
     "output_type": "display_data"
    },
    {
     "data": {
      "application/vnd.jupyter.widget-view+json": {
       "model_id": "6411f85834e34d27abbee246d8090bc7",
       "version_major": 2,
       "version_minor": 0
      },
      "text/plain": [
       "HBox(children=(Output(), Button(button_style='success', description='Pick: Fireglass Mentor', style=ButtonStyl…"
      ]
     },
     "metadata": {},
     "output_type": "display_data"
    },
    {
     "data": {
      "application/vnd.jupyter.widget-view+json": {
       "model_id": "23f873bba9244bcdb46d442e776e3af1",
       "version_major": 2,
       "version_minor": 0
      },
      "text/plain": [
       "HBox(children=(Output(), Button(button_style='success', description=\"Pick: Bandit's Talent\", style=ButtonStyle…"
      ]
     },
     "metadata": {},
     "output_type": "display_data"
    },
    {
     "data": {
      "application/vnd.jupyter.widget-view+json": {
       "model_id": "48ce111c1f424904bbc789452403950d",
       "version_major": 2,
       "version_minor": 0
      },
      "text/plain": [
       "HBox(children=(Output(), Button(button_style='success', description='Pick: Repel Calamity', style=ButtonStyle(…"
      ]
     },
     "metadata": {},
     "output_type": "display_data"
    },
    {
     "data": {
      "application/vnd.jupyter.widget-view+json": {
       "model_id": "c61f7f91a128462a9acb78953d5eec9c",
       "version_major": 2,
       "version_minor": 0
      },
      "text/plain": [
       "HBox(children=(Output(), Button(button_style='success', description='Pick: Alania, Divergent Storm', style=But…"
      ]
     },
     "metadata": {},
     "output_type": "display_data"
    },
    {
     "data": {
      "application/vnd.jupyter.widget-view+json": {
       "model_id": "512bf65d730c4256ab3a926e3d229f38",
       "version_major": 2,
       "version_minor": 0
      },
      "text/plain": [
       "HBox(children=(Output(), Button(button_style='success', description='Pick: Scales of Shale', style=ButtonStyle…"
      ]
     },
     "metadata": {},
     "output_type": "display_data"
    },
    {
     "data": {
      "application/vnd.jupyter.widget-view+json": {
       "model_id": "5172a9f44cc846cbbca8721f7cce0b6e",
       "version_major": 2,
       "version_minor": 0
      },
      "text/plain": [
       "HBox(children=(Output(), Button(button_style='success', description='Pick: Clifftop Lookout', style=ButtonStyl…"
      ]
     },
     "metadata": {},
     "output_type": "display_data"
    },
    {
     "data": {
      "application/vnd.jupyter.widget-view+json": {
       "model_id": "24cff37c560f402ab2664ee49f0de411",
       "version_major": 2,
       "version_minor": 0
      },
      "text/plain": [
       "HBox(children=(Output(), Button(button_style='success', description='Pick: Head of the Homestead', style=Butto…"
      ]
     },
     "metadata": {},
     "output_type": "display_data"
    },
    {
     "data": {
      "application/vnd.jupyter.widget-view+json": {
       "model_id": "33680dd950c442bd94ada3787b52def9",
       "version_major": 2,
       "version_minor": 0
      },
      "text/plain": [
       "HBox(children=(Output(), Button(button_style='success', description='Pick: Heartfire Hero', style=ButtonStyle(…"
      ]
     },
     "metadata": {},
     "output_type": "display_data"
    },
    {
     "data": {
      "application/vnd.jupyter.widget-view+json": {
       "model_id": "0b82edce60af40ca9c999a3c6a29afad",
       "version_major": 2,
       "version_minor": 0
      },
      "text/plain": [
       "HBox(children=(Output(), Button(button_style='success', description='Pick: Long River Lurker', style=ButtonSty…"
      ]
     },
     "metadata": {},
     "output_type": "display_data"
    },
    {
     "data": {
      "application/vnd.jupyter.widget-view+json": {
       "model_id": "1a6a72aeeb3c4eaea75164be9b7381fc",
       "version_major": 2,
       "version_minor": 0
      },
      "text/plain": [
       "HBox(children=(Output(), Button(button_style='success', description='Pick: Quaketusk Boar', style=ButtonStyle(…"
      ]
     },
     "metadata": {},
     "output_type": "display_data"
    },
    {
     "data": {
      "application/vnd.jupyter.widget-view+json": {
       "model_id": "6a1a605df95948369579ea54b068f86d",
       "version_major": 2,
       "version_minor": 0
      },
      "text/plain": [
       "HBox(children=(Output(), Button(button_style='success', description='Pick: Oakhollow Village', style=ButtonSty…"
      ]
     },
     "metadata": {},
     "output_type": "display_data"
    },
    {
     "data": {
      "application/vnd.jupyter.widget-view+json": {
       "model_id": "0cbd665e5900475fb6ac83e5a9b9e6d0",
       "version_major": 2,
       "version_minor": 0
      },
      "text/plain": [
       "HBox(children=(Output(), Button(button_style='success', description='Pick: Mindwhisker', style=ButtonStyle()))…"
      ]
     },
     "metadata": {},
     "output_type": "display_data"
    },
    {
     "data": {
      "application/vnd.jupyter.widget-view+json": {
       "model_id": "89023315ec9b4842b7ce64fd5e1f01b2",
       "version_major": 2,
       "version_minor": 0
      },
      "text/plain": [
       "HBox(children=(Output(), Button(button_style='success', description='Pick: Take Out the Trash', style=ButtonSt…"
      ]
     },
     "metadata": {},
     "output_type": "display_data"
    },
    {
     "data": {
      "application/vnd.jupyter.widget-view+json": {
       "model_id": "0e5165aee0dc4d49877f754046dc1dec",
       "version_major": 2,
       "version_minor": 0
      },
      "text/plain": [
       "HBox(children=(Output(), Button(button_style='success', description=\"Pick: Blacksmith's Talent\", style=ButtonS…"
      ]
     },
     "metadata": {},
     "output_type": "display_data"
    },
    {
     "data": {
      "application/vnd.jupyter.widget-view+json": {
       "model_id": "483ace2fcbc448879cf822e6d60e9809",
       "version_major": 2,
       "version_minor": 0
      },
      "text/plain": [
       "HBox(children=(Output(), Button(button_style='success', description='Pick: Stargaze', style=ButtonStyle())))"
      ]
     },
     "metadata": {},
     "output_type": "display_data"
    },
    {
     "data": {
      "application/vnd.jupyter.widget-view+json": {
       "model_id": "ffdf347ed96a4f5c82ebb0211a9074eb",
       "version_major": 2,
       "version_minor": 0
      },
      "text/plain": [
       "HBox(children=(Output(), Button(button_style='success', description='Pick: Helga, Skittish Seer', style=Button…"
      ]
     },
     "metadata": {},
     "output_type": "display_data"
    },
    {
     "data": {
      "application/vnd.jupyter.widget-view+json": {
       "model_id": "0d22cc47b1dd4db282ce9170d046e3b5",
       "version_major": 2,
       "version_minor": 0
      },
      "text/plain": [
       "HBox(children=(Output(), Button(button_style='success', description='Pick: Tidecaller Mentor', style=ButtonSty…"
      ]
     },
     "metadata": {},
     "output_type": "display_data"
    },
    {
     "data": {
      "application/vnd.jupyter.widget-view+json": {
       "model_id": "b63ef65604b04dc3b1449065ab9f2374",
       "version_major": 2,
       "version_minor": 0
      },
      "text/plain": [
       "HBox(children=(Output(), Button(button_style='success', description='Pick: Baylen, the Haymaker', style=Button…"
      ]
     },
     "metadata": {},
     "output_type": "display_data"
    },
    {
     "data": {
      "application/vnd.jupyter.widget-view+json": {
       "model_id": "89fc3639d8de4ce48d3b72ad89bdd74f",
       "version_major": 2,
       "version_minor": 0
      },
      "text/plain": [
       "HBox(children=(Output(), Button(button_style='success', description='Pick: Eddymurk Crab', style=ButtonStyle()…"
      ]
     },
     "metadata": {},
     "output_type": "display_data"
    },
    {
     "data": {
      "application/vnd.jupyter.widget-view+json": {
       "model_id": "f730a1fa96a54ea7b77da03f48340300",
       "version_major": 2,
       "version_minor": 0
      },
      "text/plain": [
       "HBox(children=(Output(), Button(button_style='success', description='Pick: Shrike Force', style=ButtonStyle())…"
      ]
     },
     "metadata": {},
     "output_type": "display_data"
    },
    {
     "data": {
      "application/vnd.jupyter.widget-view+json": {
       "model_id": "b55078fc942746d88091f5d40dd35833",
       "version_major": 2,
       "version_minor": 0
      },
      "text/plain": [
       "HBox(children=(Output(), Button(button_style='success', description='Pick: Stocking the Pantry', style=ButtonS…"
      ]
     },
     "metadata": {},
     "output_type": "display_data"
    },
    {
     "data": {
      "application/vnd.jupyter.widget-view+json": {
       "model_id": "36b1b5d166254c648e911ec17cfe8473",
       "version_major": 2,
       "version_minor": 0
      },
      "text/plain": [
       "HBox(children=(Output(), Button(button_style='success', description='Pick: Peerless Recycling', style=ButtonSt…"
      ]
     },
     "metadata": {},
     "output_type": "display_data"
    },
    {
     "data": {
      "application/vnd.jupyter.widget-view+json": {
       "model_id": "89ebdfd62f294eb192d9a9977aa0c789",
       "version_major": 2,
       "version_minor": 0
      },
      "text/plain": [
       "HBox(children=(Output(), Button(button_style='success', description='Pick: Uncharted Haven', style=ButtonStyle…"
      ]
     },
     "metadata": {},
     "output_type": "display_data"
    },
    {
     "data": {
      "application/vnd.jupyter.widget-view+json": {
       "model_id": "e46555cba7ff47f7871c8d4b97dda663",
       "version_major": 2,
       "version_minor": 0
      },
      "text/plain": [
       "HBox(children=(Output(), Button(button_style='success', description='Pick: Eluge, the Shoreless Sea', style=Bu…"
      ]
     },
     "metadata": {},
     "output_type": "display_data"
    },
    {
     "data": {
      "application/vnd.jupyter.widget-view+json": {
       "model_id": "154b883feebd4572811d98487d459c0e",
       "version_major": 2,
       "version_minor": 0
      },
      "text/plain": [
       "HBox(children=(Output(), Button(button_style='success', description='Pick: Flamecache Gecko', style=ButtonStyl…"
      ]
     },
     "metadata": {},
     "output_type": "display_data"
    },
    {
     "data": {
      "application/vnd.jupyter.widget-view+json": {
       "model_id": "2057e70e794a4246b37d1b2b67362c8b",
       "version_major": 2,
       "version_minor": 0
      },
      "text/plain": [
       "HBox(children=(Output(), Button(button_style='success', description='Pick: Secluded Courtyard', style=ButtonSt…"
      ]
     },
     "metadata": {},
     "output_type": "display_data"
    },
    {
     "data": {
      "application/vnd.jupyter.widget-view+json": {
       "model_id": "ff5e169fc811475bb8918e72fb412aec",
       "version_major": 2,
       "version_minor": 0
      },
      "text/plain": [
       "HBox(children=(Output(), Button(button_style='success', description='Pick: Early Winter', style=ButtonStyle())…"
      ]
     },
     "metadata": {},
     "output_type": "display_data"
    },
    {
     "data": {
      "application/vnd.jupyter.widget-view+json": {
       "model_id": "38863b63219e4d3da0205916e971be76",
       "version_major": 2,
       "version_minor": 0
      },
      "text/plain": [
       "HBox(children=(Output(), Button(button_style='success', description='Pick: Daring Waverider', style=ButtonStyl…"
      ]
     },
     "metadata": {},
     "output_type": "display_data"
    },
    {
     "data": {
      "application/vnd.jupyter.widget-view+json": {
       "model_id": "3af8e35a24bd4c18b8f30918fbf46601",
       "version_major": 2,
       "version_minor": 0
      },
      "text/plain": [
       "HBox(children=(Output(), Button(button_style='success', description=\"Pick: Artist's Talent\", style=ButtonStyle…"
      ]
     },
     "metadata": {},
     "output_type": "display_data"
    },
    {
     "data": {
      "application/vnd.jupyter.widget-view+json": {
       "model_id": "fdc7276891a94c9c8665055526e14b5a",
       "version_major": 2,
       "version_minor": 0
      },
      "text/plain": [
       "HBox(children=(Output(), Button(button_style='success', description='Pick: Feather of Flight', style=ButtonSty…"
      ]
     },
     "metadata": {},
     "output_type": "display_data"
    },
    {
     "data": {
      "application/vnd.jupyter.widget-view+json": {
       "model_id": "70e292eae9164471b8a91af19d56d32a",
       "version_major": 2,
       "version_minor": 0
      },
      "text/plain": [
       "HBox(children=(Output(), Button(button_style='success', description='Pick: Star Charter', style=ButtonStyle())…"
      ]
     },
     "metadata": {},
     "output_type": "display_data"
    },
    {
     "data": {
      "application/vnd.jupyter.widget-view+json": {
       "model_id": "0fafdab32b7a4aeeba96a72ad3ab7fb3",
       "version_major": 2,
       "version_minor": 0
      },
      "text/plain": [
       "HBox(children=(Output(), Button(button_style='success', description='Pick: Brazen Collector', style=ButtonStyl…"
      ]
     },
     "metadata": {},
     "output_type": "display_data"
    },
    {
     "data": {
      "application/vnd.jupyter.widget-view+json": {
       "model_id": "e27eef586af64ab5895a028345b1a276",
       "version_major": 2,
       "version_minor": 0
      },
      "text/plain": [
       "HBox(children=(Output(), Button(button_style='success', description='Pick: Sinister Monolith', style=ButtonSty…"
      ]
     },
     "metadata": {},
     "output_type": "display_data"
    },
    {
     "data": {
      "application/vnd.jupyter.widget-view+json": {
       "model_id": "9d362b9221f24689ad7505cfa343d49f",
       "version_major": 2,
       "version_minor": 0
      },
      "text/plain": [
       "HBox(children=(Output(), Button(button_style='success', description=\"Pick: Bumbleflower's Sharepot\", style=But…"
      ]
     },
     "metadata": {},
     "output_type": "display_data"
    },
    {
     "data": {
      "application/vnd.jupyter.widget-view+json": {
       "model_id": "cf09304effe54c4a891abc102b140c94",
       "version_major": 2,
       "version_minor": 0
      },
      "text/plain": [
       "HBox(children=(Output(), Button(button_style='success', description='Pick: Plumecreed Escort', style=ButtonSty…"
      ]
     },
     "metadata": {},
     "output_type": "display_data"
    },
    {
     "data": {
      "application/vnd.jupyter.widget-view+json": {
       "model_id": "e00cce4f9c824e1ab0080967e5727473",
       "version_major": 2,
       "version_minor": 0
      },
      "text/plain": [
       "HBox(children=(Output(), Button(button_style='success', description='Pick: Hazardroot Herbalist', style=Button…"
      ]
     },
     "metadata": {},
     "output_type": "display_data"
    },
    {
     "data": {
      "application/vnd.jupyter.widget-view+json": {
       "model_id": "0db19f2a6a8c48868782bd8a19d515dc",
       "version_major": 2,
       "version_minor": 0
      },
      "text/plain": [
       "HBox(children=(Output(), Button(button_style='success', description='Pick: Stormsplitter', style=ButtonStyle()…"
      ]
     },
     "metadata": {},
     "output_type": "display_data"
    },
    {
     "data": {
      "application/vnd.jupyter.widget-view+json": {
       "model_id": "b1ae6a7ace9d429491f3a117d62ea086",
       "version_major": 2,
       "version_minor": 0
      },
      "text/plain": [
       "HBox(children=(Output(), Button(button_style='success', description='Pick: Rust-Shield Rampager', style=Button…"
      ]
     },
     "metadata": {},
     "output_type": "display_data"
    },
    {
     "data": {
      "application/vnd.jupyter.widget-view+json": {
       "model_id": "c3b3b63093f84a0db7627714f21c96c2",
       "version_major": 2,
       "version_minor": 0
      },
      "text/plain": [
       "HBox(children=(Output(), Button(button_style='success', description='Pick: Jolly Gerbils', style=ButtonStyle()…"
      ]
     },
     "metadata": {},
     "output_type": "display_data"
    },
    {
     "data": {
      "application/vnd.jupyter.widget-view+json": {
       "model_id": "08c0eff2876141aba220d1da1e64af0b",
       "version_major": 2,
       "version_minor": 0
      },
      "text/plain": [
       "HBox(children=(Output(), Button(button_style='success', description='Pick: For the Common Good', style=ButtonS…"
      ]
     },
     "metadata": {},
     "output_type": "display_data"
    },
    {
     "data": {
      "application/vnd.jupyter.widget-view+json": {
       "model_id": "e3aeca92bf824fc6a6b50d6102bfe474",
       "version_major": 2,
       "version_minor": 0
      },
      "text/plain": [
       "HBox(children=(Output(), Button(button_style='success', description='Pick: Warren Elder', style=ButtonStyle())…"
      ]
     },
     "metadata": {},
     "output_type": "display_data"
    },
    {
     "data": {
      "application/vnd.jupyter.widget-view+json": {
       "model_id": "103f8f543c3341318daad1cefa7080b2",
       "version_major": 2,
       "version_minor": 0
      },
      "text/plain": [
       "HBox(children=(Output(), Button(button_style='success', description='Pick: Short Bow', style=ButtonStyle())))"
      ]
     },
     "metadata": {},
     "output_type": "display_data"
    },
    {
     "data": {
      "application/vnd.jupyter.widget-view+json": {
       "model_id": "1cb567ce93784092a1ba341e8d0eab67",
       "version_major": 2,
       "version_minor": 0
      },
      "text/plain": [
       "HBox(children=(Output(), Button(button_style='success', description='Pick: Seedglaive Mentor', style=ButtonSty…"
      ]
     },
     "metadata": {},
     "output_type": "display_data"
    },
    {
     "data": {
      "application/vnd.jupyter.widget-view+json": {
       "model_id": "9a19c85b0b624fc490b04a1fc6255eaf",
       "version_major": 2,
       "version_minor": 0
      },
      "text/plain": [
       "HBox(children=(Output(), Button(button_style='success', description='Pick: Coruscation Mage', style=ButtonStyl…"
      ]
     },
     "metadata": {},
     "output_type": "display_data"
    },
    {
     "data": {
      "application/vnd.jupyter.widget-view+json": {
       "model_id": "269b18aef1404d2da7e78903b624ed5b",
       "version_major": 2,
       "version_minor": 0
      },
      "text/plain": [
       "HBox(children=(Output(), Button(button_style='success', description='Pick: Teapot Slinger', style=ButtonStyle(…"
      ]
     },
     "metadata": {},
     "output_type": "display_data"
    },
    {
     "data": {
      "application/vnd.jupyter.widget-view+json": {
       "model_id": "eb6c79cb9a0b434a9e6696b0fedd2b73",
       "version_major": 2,
       "version_minor": 0
      },
      "text/plain": [
       "HBox(children=(Output(), Button(button_style='success', description='Pick: Lifecreed Duo', style=ButtonStyle()…"
      ]
     },
     "metadata": {},
     "output_type": "display_data"
    },
    {
     "data": {
      "application/vnd.jupyter.widget-view+json": {
       "model_id": "cc38ec1e31b549479f72d31b009785ab",
       "version_major": 2,
       "version_minor": 0
      },
      "text/plain": [
       "HBox(children=(Output(), Button(button_style='success', description='Pick: Tangle Tumbler', style=ButtonStyle(…"
      ]
     },
     "metadata": {},
     "output_type": "display_data"
    },
    {
     "data": {
      "application/vnd.jupyter.widget-view+json": {
       "model_id": "baa8fce684984dc0993827e0c97b6b4f",
       "version_major": 2,
       "version_minor": 0
      },
      "text/plain": [
       "HBox(children=(Output(), Button(button_style='success', description='Pick: Parting Gust', style=ButtonStyle())…"
      ]
     },
     "metadata": {},
     "output_type": "display_data"
    },
    {
     "data": {
      "application/vnd.jupyter.widget-view+json": {
       "model_id": "07668648e704412880fd8ad196e478c2",
       "version_major": 2,
       "version_minor": 0
      },
      "text/plain": [
       "HBox(children=(Output(), Button(button_style='success', description='Pick: Sunspine Lynx', style=ButtonStyle()…"
      ]
     },
     "metadata": {},
     "output_type": "display_data"
    },
    {
     "data": {
      "application/vnd.jupyter.widget-view+json": {
       "model_id": "98131f0d35a24bc9b4b25582acc96743",
       "version_major": 2,
       "version_minor": 0
      },
      "text/plain": [
       "HBox(children=(Output(), Button(button_style='success', description='Pick: Sunshower Druid', style=ButtonStyle…"
      ]
     },
     "metadata": {},
     "output_type": "display_data"
    },
    {
     "data": {
      "application/vnd.jupyter.widget-view+json": {
       "model_id": "7299926a63e943809d0ab05d291eee34",
       "version_major": 2,
       "version_minor": 0
      },
      "text/plain": [
       "HBox(children=(Output(), Button(button_style='success', description='Pick: Fountainport Bell', style=ButtonSty…"
      ]
     },
     "metadata": {},
     "output_type": "display_data"
    },
    {
     "data": {
      "application/vnd.jupyter.widget-view+json": {
       "model_id": "a47888b3ecc6442e8596d85d72c46d93",
       "version_major": 2,
       "version_minor": 0
      },
      "text/plain": [
       "HBox(children=(Output(), Button(button_style='success', description='Pick: Plumecreed Mentor', style=ButtonSty…"
      ]
     },
     "metadata": {},
     "output_type": "display_data"
    },
    {
     "data": {
      "application/vnd.jupyter.widget-view+json": {
       "model_id": "82302d479cf04b2382372e70c9a09e27",
       "version_major": 2,
       "version_minor": 0
      },
      "text/plain": [
       "HBox(children=(Output(), Button(button_style='success', description='Pick: Agate Assault', style=ButtonStyle()…"
      ]
     },
     "metadata": {},
     "output_type": "display_data"
    },
    {
     "data": {
      "application/vnd.jupyter.widget-view+json": {
       "model_id": "3c903365e81c4c059378a3c9ea5acf0f",
       "version_major": 2,
       "version_minor": 0
      },
      "text/plain": [
       "HBox(children=(Output(), Button(button_style='success', description='Pick: Agate-Blade Assassin', style=Button…"
      ]
     },
     "metadata": {},
     "output_type": "display_data"
    },
    {
     "data": {
      "application/vnd.jupyter.widget-view+json": {
       "model_id": "4ec5aa84676d4f83845431e59367fa5f",
       "version_major": 2,
       "version_minor": 0
      },
      "text/plain": [
       "HBox(children=(Output(), Button(button_style='success', description='Pick: Brambleguard Captain', style=Button…"
      ]
     },
     "metadata": {},
     "output_type": "display_data"
    },
    {
     "data": {
      "application/vnd.jupyter.widget-view+json": {
       "model_id": "744b29af3f9c49aa911b3a45f3702845",
       "version_major": 2,
       "version_minor": 0
      },
      "text/plain": [
       "HBox(children=(Output(), Button(button_style='success', description='Pick: Blooming Blast', style=ButtonStyle(…"
      ]
     },
     "metadata": {},
     "output_type": "display_data"
    },
    {
     "data": {
      "application/vnd.jupyter.widget-view+json": {
       "model_id": "335e3e7022034338958bac1484c492dd",
       "version_major": 2,
       "version_minor": 0
      },
      "text/plain": [
       "HBox(children=(Output(), Button(button_style='success', description='Pick: Sugar Coat', style=ButtonStyle())))"
      ]
     },
     "metadata": {},
     "output_type": "display_data"
    },
    {
     "data": {
      "application/vnd.jupyter.widget-view+json": {
       "model_id": "5acde81d1d5d4eccaf011cd18c2a2a60",
       "version_major": 2,
       "version_minor": 0
      },
      "text/plain": [
       "HBox(children=(Output(), Button(button_style='success', description='Pick: Diresight', style=ButtonStyle())))"
      ]
     },
     "metadata": {},
     "output_type": "display_data"
    },
    {
     "data": {
      "application/vnd.jupyter.widget-view+json": {
       "model_id": "28f2b93d91b747c6991bd30daa4fbda5",
       "version_major": 2,
       "version_minor": 0
      },
      "text/plain": [
       "HBox(children=(Output(), Button(button_style='success', description='Pick: Calamitous Tide', style=ButtonStyle…"
      ]
     },
     "metadata": {},
     "output_type": "display_data"
    },
    {
     "data": {
      "application/vnd.jupyter.widget-view+json": {
       "model_id": "266591e2bd644520ada53411ba91c208",
       "version_major": 2,
       "version_minor": 0
      },
      "text/plain": [
       "HBox(children=(Output(), Button(button_style='success', description='Pick: Ravine Raider', style=ButtonStyle()…"
      ]
     },
     "metadata": {},
     "output_type": "display_data"
    },
    {
     "data": {
      "application/vnd.jupyter.widget-view+json": {
       "model_id": "b6b7a0007c4244d6abf0604be0f1d704",
       "version_major": 2,
       "version_minor": 0
      },
      "text/plain": [
       "HBox(children=(Output(), Button(button_style='success', description='Pick: Moonrise Cleric', style=ButtonStyle…"
      ]
     },
     "metadata": {},
     "output_type": "display_data"
    },
    {
     "data": {
      "application/vnd.jupyter.widget-view+json": {
       "model_id": "1abca4f630364bad90517327b783bb7d",
       "version_major": 2,
       "version_minor": 0
      },
      "text/plain": [
       "HBox(children=(Output(), Button(button_style='success', description='Pick: Hidden Grotto', style=ButtonStyle()…"
      ]
     },
     "metadata": {},
     "output_type": "display_data"
    },
    {
     "data": {
      "application/vnd.jupyter.widget-view+json": {
       "model_id": "7c8a6b7a30114449839c7319fcb6e479",
       "version_major": 2,
       "version_minor": 0
      },
      "text/plain": [
       "HBox(children=(Output(), Button(button_style='success', description='Pick: Rat Colony', style=ButtonStyle())))"
      ]
     },
     "metadata": {},
     "output_type": "display_data"
    },
    {
     "data": {
      "application/vnd.jupyter.widget-view+json": {
       "model_id": "fd664111d00942ac9a802eafe25def71",
       "version_major": 2,
       "version_minor": 0
      },
      "text/plain": [
       "HBox(children=(Output(), Button(button_style='success', description='Pick: Crumb and Get It', style=ButtonStyl…"
      ]
     },
     "metadata": {},
     "output_type": "display_data"
    },
    {
     "data": {
      "application/vnd.jupyter.widget-view+json": {
       "model_id": "f2d9e865e7d54553ae2fe39cb4c687e8",
       "version_major": 2,
       "version_minor": 0
      },
      "text/plain": [
       "HBox(children=(Output(), Button(button_style='success', description='Pick: Thornplate Intimidator', style=Butt…"
      ]
     },
     "metadata": {},
     "output_type": "display_data"
    },
    {
     "data": {
      "application/vnd.jupyter.widget-view+json": {
       "model_id": "4ec57e2a6f344c9295b6c1b82854d889",
       "version_major": 2,
       "version_minor": 0
      },
      "text/plain": [
       "HBox(children=(Output(), Button(button_style='success', description=\"Pick: Dawn's Truce\", style=ButtonStyle())…"
      ]
     },
     "metadata": {},
     "output_type": "display_data"
    },
    {
     "data": {
      "application/vnd.jupyter.widget-view+json": {
       "model_id": "7d98bc94464e432382f28a40e6c6e9bf",
       "version_major": 2,
       "version_minor": 0
      },
      "text/plain": [
       "HBox(children=(Output(), Button(button_style='success', description='Pick: Sonar Strike', style=ButtonStyle())…"
      ]
     },
     "metadata": {},
     "output_type": "display_data"
    },
    {
     "data": {
      "application/vnd.jupyter.widget-view+json": {
       "model_id": "463d7e2b7b8b4e8b883d6803a0dd2899",
       "version_major": 2,
       "version_minor": 0
      },
      "text/plain": [
       "HBox(children=(Output(), Button(button_style='success', description='Pick: Druid of the Spade', style=ButtonSt…"
      ]
     },
     "metadata": {},
     "output_type": "display_data"
    },
    {
     "data": {
      "application/vnd.jupyter.widget-view+json": {
       "model_id": "a37e5c49991e4c10892e09203942cbb9",
       "version_major": 2,
       "version_minor": 0
      },
      "text/plain": [
       "HBox(children=(Output(), Button(button_style='success', description='Pick: Stormcatch Mentor', style=ButtonSty…"
      ]
     },
     "metadata": {},
     "output_type": "display_data"
    },
    {
     "data": {
      "application/vnd.jupyter.widget-view+json": {
       "model_id": "fe07b31b2438472489d0db4123288258",
       "version_major": 2,
       "version_minor": 0
      },
      "text/plain": [
       "HBox(children=(Output(), Button(button_style='success', description='Pick: High Stride', style=ButtonStyle()))…"
      ]
     },
     "metadata": {},
     "output_type": "display_data"
    },
    {
     "data": {
      "application/vnd.jupyter.widget-view+json": {
       "model_id": "5dd27991fd8b43759610ff600cbb40e5",
       "version_major": 2,
       "version_minor": 0
      },
      "text/plain": [
       "HBox(children=(Output(), Button(button_style='success', description='Pick: Three Tree Mascot', style=ButtonSty…"
      ]
     },
     "metadata": {},
     "output_type": "display_data"
    },
    {
     "data": {
      "application/vnd.jupyter.widget-view+json": {
       "model_id": "fcea5cb139594b358cc4ab8c501155e5",
       "version_major": 2,
       "version_minor": 0
      },
      "text/plain": [
       "HBox(children=(Output(), Button(button_style='success', description='Pick: Kindred Charge', style=ButtonStyle(…"
      ]
     },
     "metadata": {},
     "output_type": "display_data"
    },
    {
     "data": {
      "application/vnd.jupyter.widget-view+json": {
       "model_id": "51842246a4f0404daa5f8e5113e94ad3",
       "version_major": 2,
       "version_minor": 0
      },
      "text/plain": [
       "HBox(children=(Output(), Button(button_style='success', description='Pick: Seasoned Warrenguard', style=Button…"
      ]
     },
     "metadata": {},
     "output_type": "display_data"
    },
    {
     "data": {
      "application/vnd.jupyter.widget-view+json": {
       "model_id": "b73faa6e38b548afbf9e174206806ee8",
       "version_major": 2,
       "version_minor": 0
      },
      "text/plain": [
       "HBox(children=(Output(), Button(button_style='success', description='Pick: Relentless Rats', style=ButtonStyle…"
      ]
     },
     "metadata": {},
     "output_type": "display_data"
    },
    {
     "data": {
      "application/vnd.jupyter.widget-view+json": {
       "model_id": "46b5c222b5a54b37abbaff9f7c622d84",
       "version_major": 2,
       "version_minor": 0
      },
      "text/plain": [
       "HBox(children=(Output(), Button(button_style='success', description='Pick: Otterball Antics', style=ButtonStyl…"
      ]
     },
     "metadata": {},
     "output_type": "display_data"
    },
    {
     "data": {
      "application/vnd.jupyter.widget-view+json": {
       "model_id": "9dacca13acc44c81a5bba558b5667982",
       "version_major": 2,
       "version_minor": 0
      },
      "text/plain": [
       "HBox(children=(Output(), Button(button_style='success', description='Pick: Spellgyre', style=ButtonStyle())))"
      ]
     },
     "metadata": {},
     "output_type": "display_data"
    },
    {
     "data": {
      "application/vnd.jupyter.widget-view+json": {
       "model_id": "01bcf08aae6f43abbe036f272c1f9227",
       "version_major": 2,
       "version_minor": 0
      },
      "text/plain": [
       "HBox(children=(Output(), Button(button_style='success', description='Pick: Heirloom Epic', style=ButtonStyle()…"
      ]
     },
     "metadata": {},
     "output_type": "display_data"
    },
    {
     "data": {
      "application/vnd.jupyter.widget-view+json": {
       "model_id": "4ca906133fcb4c92a1a846b7ac1342fa",
       "version_major": 2,
       "version_minor": 0
      },
      "text/plain": [
       "HBox(children=(Output(), Button(button_style='success', description='Pick: Cindering Cutthroat', style=ButtonS…"
      ]
     },
     "metadata": {},
     "output_type": "display_data"
    },
    {
     "data": {
      "application/vnd.jupyter.widget-view+json": {
       "model_id": "30c05cb4f3f14296bb600ddb1676511d",
       "version_major": 2,
       "version_minor": 0
      },
      "text/plain": [
       "HBox(children=(Output(), Button(button_style='success', description='Pick: Dire Downdraft', style=ButtonStyle(…"
      ]
     },
     "metadata": {},
     "output_type": "display_data"
    },
    {
     "data": {
      "application/vnd.jupyter.widget-view+json": {
       "model_id": "f846149dbb7b40a392cef8ab42879553",
       "version_major": 2,
       "version_minor": 0
      },
      "text/plain": [
       "HBox(children=(Output(), Button(button_style='success', description='Pick: Splash Portal', style=ButtonStyle()…"
      ]
     },
     "metadata": {},
     "output_type": "display_data"
    },
    {
     "data": {
      "application/vnd.jupyter.widget-view+json": {
       "model_id": "de4af0a47a9941a1872a9a0a65f36e9c",
       "version_major": 2,
       "version_minor": 0
      },
      "text/plain": [
       "HBox(children=(Output(), Button(button_style='success', description='Pick: Three Tree City', style=ButtonStyle…"
      ]
     },
     "metadata": {},
     "output_type": "display_data"
    },
    {
     "data": {
      "application/vnd.jupyter.widget-view+json": {
       "model_id": "381b9707d4aa46edbef91ae0463ade8b",
       "version_major": 2,
       "version_minor": 0
      },
      "text/plain": [
       "HBox(children=(Output(), Button(button_style='success', description='Pick: Into the Flood Maw', style=ButtonSt…"
      ]
     },
     "metadata": {},
     "output_type": "display_data"
    },
    {
     "data": {
      "application/vnd.jupyter.widget-view+json": {
       "model_id": "f593f7675c584d37905c6a7a20da5b2f",
       "version_major": 2,
       "version_minor": 0
      },
      "text/plain": [
       "HBox(children=(Output(), Button(button_style='success', description=\"Pick: Gossip's Talent\", style=ButtonStyle…"
      ]
     },
     "metadata": {},
     "output_type": "display_data"
    },
    {
     "data": {
      "application/vnd.jupyter.widget-view+json": {
       "model_id": "2f7d9b80c36c4dd1b451e9103355d6a4",
       "version_major": 2,
       "version_minor": 0
      },
      "text/plain": [
       "HBox(children=(Output(), Button(button_style='success', description='Pick: Wishing Well', style=ButtonStyle())…"
      ]
     },
     "metadata": {},
     "output_type": "display_data"
    },
    {
     "data": {
      "application/vnd.jupyter.widget-view+json": {
       "model_id": "d2d11e997cd146a7b24f5cf1f35419fa",
       "version_major": 2,
       "version_minor": 0
      },
      "text/plain": [
       "HBox(children=(Output(), Button(button_style='success', description='Pick: Wildfire Howl', style=ButtonStyle()…"
      ]
     },
     "metadata": {},
     "output_type": "display_data"
    },
    {
     "data": {
      "application/vnd.jupyter.widget-view+json": {
       "model_id": "a71ab2e8fb1b465ba607412cc5562fa4",
       "version_major": 2,
       "version_minor": 0
      },
      "text/plain": [
       "HBox(children=(Output(), Button(button_style='success', description='Pick: Mouse Trapper', style=ButtonStyle()…"
      ]
     },
     "metadata": {},
     "output_type": "display_data"
    },
    {
     "data": {
      "application/vnd.jupyter.widget-view+json": {
       "model_id": "e60e6ce3e3ea413b80872d09723bc666",
       "version_major": 2,
       "version_minor": 0
      },
      "text/plain": [
       "HBox(children=(Output(), Button(button_style='success', description='Pick: Portent of Calamity', style=ButtonS…"
      ]
     },
     "metadata": {},
     "output_type": "display_data"
    },
    {
     "data": {
      "application/vnd.jupyter.widget-view+json": {
       "model_id": "d48e547f962e47b0844ac3ba39fe0747",
       "version_major": 2,
       "version_minor": 0
      },
      "text/plain": [
       "HBox(children=(Output(), Button(button_style='success', description='Pick: Rabbit Response', style=ButtonStyle…"
      ]
     },
     "metadata": {},
     "output_type": "display_data"
    },
    {
     "data": {
      "application/vnd.jupyter.widget-view+json": {
       "model_id": "57e3670ecd334982ad0c87647bd93543",
       "version_major": 2,
       "version_minor": 0
      },
      "text/plain": [
       "HBox(children=(Output(), Button(button_style='success', description='Pick: Knightfisher', style=ButtonStyle())…"
      ]
     },
     "metadata": {},
     "output_type": "display_data"
    },
    {
     "data": {
      "application/vnd.jupyter.widget-view+json": {
       "model_id": "4b591c8d0e074457955ef1bedea42c7d",
       "version_major": 2,
       "version_minor": 0
      },
      "text/plain": [
       "HBox(children=(Output(), Button(button_style='success', description='Pick: Harnesser of Storms', style=ButtonS…"
      ]
     },
     "metadata": {},
     "output_type": "display_data"
    },
    {
     "data": {
      "application/vnd.jupyter.widget-view+json": {
       "model_id": "7e8ae43996d24801afa652b1ff9fd525",
       "version_major": 2,
       "version_minor": 0
      },
      "text/plain": [
       "HBox(children=(Output(), Button(button_style='success', description='Pick: Flowerfoot Swordmaster', style=Butt…"
      ]
     },
     "metadata": {},
     "output_type": "display_data"
    },
    {
     "data": {
      "application/vnd.jupyter.widget-view+json": {
       "model_id": "506cc3b247b54bc6aedbf8933ba42f3b",
       "version_major": 2,
       "version_minor": 0
      },
      "text/plain": [
       "HBox(children=(Output(), Button(button_style='success', description='Pick: Nettle Guard', style=ButtonStyle())…"
      ]
     },
     "metadata": {},
     "output_type": "display_data"
    },
    {
     "data": {
      "application/vnd.jupyter.widget-view+json": {
       "model_id": "486febec13b543eeb31d44226e44b8d0",
       "version_major": 2,
       "version_minor": 0
      },
      "text/plain": [
       "HBox(children=(Output(), Button(button_style='success', description='Pick: Junkblade Bruiser', style=ButtonSty…"
      ]
     },
     "metadata": {},
     "output_type": "display_data"
    },
    {
     "data": {
      "application/vnd.jupyter.widget-view+json": {
       "model_id": "23b1f82ddda541ac804a5bceb6a6641b",
       "version_major": 2,
       "version_minor": 0
      },
      "text/plain": [
       "HBox(children=(Output(), Button(button_style='success', description=\"Pick: Mabel's Mettle\", style=ButtonStyle(…"
      ]
     },
     "metadata": {},
     "output_type": "display_data"
    },
    {
     "data": {
      "application/vnd.jupyter.widget-view+json": {
       "model_id": "3a4e8174890647aa83db49def0b0cd79",
       "version_major": 2,
       "version_minor": 0
      },
      "text/plain": [
       "HBox(children=(Output(), Button(button_style='success', description='Pick: Starlit Soothsayer', style=ButtonSt…"
      ]
     },
     "metadata": {},
     "output_type": "display_data"
    },
    {
     "data": {
      "application/vnd.jupyter.widget-view+json": {
       "model_id": "9bbeb299c6574740a86190388f0638be",
       "version_major": 2,
       "version_minor": 0
      },
      "text/plain": [
       "HBox(children=(Output(), Button(button_style='success', description='Pick: Barkform Harvester', style=ButtonSt…"
      ]
     },
     "metadata": {},
     "output_type": "display_data"
    },
    {
     "data": {
      "application/vnd.jupyter.widget-view+json": {
       "model_id": "ee67f19a0bd1461b89d7a859f008f7c1",
       "version_major": 2,
       "version_minor": 0
      },
      "text/plain": [
       "HBox(children=(Output(), Button(button_style='success', description='Pick: Playful Shove', style=ButtonStyle()…"
      ]
     },
     "metadata": {},
     "output_type": "display_data"
    },
    {
     "data": {
      "application/vnd.jupyter.widget-view+json": {
       "model_id": "13d97a0e9dc84f2f8526bfaac682766d",
       "version_major": 2,
       "version_minor": 0
      },
      "text/plain": [
       "HBox(children=(Output(), Button(button_style='success', description=\"Pick: Alania's Pathmaker\", style=ButtonSt…"
      ]
     },
     "metadata": {},
     "output_type": "display_data"
    },
    {
     "data": {
      "application/vnd.jupyter.widget-view+json": {
       "model_id": "bfede4b90f83485bb629b6fadad0974e",
       "version_major": 2,
       "version_minor": 0
      },
      "text/plain": [
       "HBox(children=(Output(), Button(button_style='success', description='Pick: Pearl of Wisdom', style=ButtonStyle…"
      ]
     },
     "metadata": {},
     "output_type": "display_data"
    },
    {
     "data": {
      "application/vnd.jupyter.widget-view+json": {
       "model_id": "132b24fd92734b5baeac3d0fb9176db0",
       "version_major": 2,
       "version_minor": 0
      },
      "text/plain": [
       "HBox(children=(Output(), Button(button_style='success', description='Pick: Mind Drill Assailant', style=Button…"
      ]
     },
     "metadata": {},
     "output_type": "display_data"
    },
    {
     "data": {
      "application/vnd.jupyter.widget-view+json": {
       "model_id": "8d038f66191f4ff9a105e83bd9a4437d",
       "version_major": 2,
       "version_minor": 0
      },
      "text/plain": [
       "HBox(children=(Output(), Button(button_style='success', description='Pick: Dazzling Denial', style=ButtonStyle…"
      ]
     },
     "metadata": {},
     "output_type": "display_data"
    },
    {
     "data": {
      "application/vnd.jupyter.widget-view+json": {
       "model_id": "2c06a02a322e45208ea2fac07d547257",
       "version_major": 2,
       "version_minor": 0
      },
      "text/plain": [
       "HBox(children=(Output(), Button(button_style='success', description='Pick: Rockface Village', style=ButtonStyl…"
      ]
     },
     "metadata": {},
     "output_type": "display_data"
    },
    {
     "data": {
      "application/vnd.jupyter.widget-view+json": {
       "model_id": "f655afa4e1634597b3130e4edf940411",
       "version_major": 2,
       "version_minor": 0
      },
      "text/plain": [
       "HBox(children=(Output(), Button(button_style='success', description='Pick: Roughshod Duo', style=ButtonStyle()…"
      ]
     },
     "metadata": {},
     "output_type": "display_data"
    },
    {
     "data": {
      "application/vnd.jupyter.widget-view+json": {
       "model_id": "c61ff9b2ab2b43538b6c30437dd14407",
       "version_major": 2,
       "version_minor": 0
      },
      "text/plain": [
       "HBox(children=(Output(), Button(button_style='success', description='Pick: Shore Up', style=ButtonStyle())))"
      ]
     },
     "metadata": {},
     "output_type": "display_data"
    },
    {
     "data": {
      "application/vnd.jupyter.widget-view+json": {
       "model_id": "4556d5c279ad451ca105937891778003",
       "version_major": 2,
       "version_minor": 0
      },
      "text/plain": [
       "HBox(children=(Output(), Button(button_style='success', description='Pick: Lupinflower Village', style=ButtonS…"
      ]
     },
     "metadata": {},
     "output_type": "display_data"
    },
    {
     "data": {
      "application/vnd.jupyter.widget-view+json": {
       "model_id": "c9388513a8f545e48d175e614575d527",
       "version_major": 2,
       "version_minor": 0
      },
      "text/plain": [
       "HBox(children=(Output(), Button(button_style='success', description='Pick: Frogmite', style=ButtonStyle())))"
      ]
     },
     "metadata": {},
     "output_type": "display_data"
    },
    {
     "data": {
      "application/vnd.jupyter.widget-view+json": {
       "model_id": "1c527f773d5f40349b8676d11908c21b",
       "version_major": 2,
       "version_minor": 0
      },
      "text/plain": [
       "HBox(children=(Output(), Button(button_style='success', description='Pick: Lightshell Duo', style=ButtonStyle(…"
      ]
     },
     "metadata": {},
     "output_type": "display_data"
    },
    {
     "data": {
      "application/vnd.jupyter.widget-view+json": {
       "model_id": "d0823cec8c1745c0a970bb04447c9dc5",
       "version_major": 2,
       "version_minor": 0
      },
      "text/plain": [
       "HBox(children=(Output(), Button(button_style='success', description='Pick: Wear Down', style=ButtonStyle())))"
      ]
     },
     "metadata": {},
     "output_type": "display_data"
    },
    {
     "data": {
      "application/vnd.jupyter.widget-view+json": {
       "model_id": "9933aa27ca2043ceac2c4ed0850a6dbc",
       "version_major": 2,
       "version_minor": 0
      },
      "text/plain": [
       "HBox(children=(Output(), Button(button_style='success', description='Pick: Psychic Whorl', style=ButtonStyle()…"
      ]
     },
     "metadata": {},
     "output_type": "display_data"
    },
    {
     "data": {
      "application/vnd.jupyter.widget-view+json": {
       "model_id": "3cc169a0dc654fb0998a1943e88ec132",
       "version_major": 2,
       "version_minor": 0
      },
      "text/plain": [
       "HBox(children=(Output(), Button(button_style='success', description='Pick: Festival of Embers', style=ButtonSt…"
      ]
     },
     "metadata": {},
     "output_type": "display_data"
    },
    {
     "data": {
      "application/vnd.jupyter.widget-view+json": {
       "model_id": "0f3b9d90005745e38199b7fdf1b02ec5",
       "version_major": 2,
       "version_minor": 0
      },
      "text/plain": [
       "HBox(children=(Output(), Button(button_style='success', description='Pick: Starforged Sword', style=ButtonStyl…"
      ]
     },
     "metadata": {},
     "output_type": "display_data"
    },
    {
     "data": {
      "application/vnd.jupyter.widget-view+json": {
       "model_id": "2c59dee35c7f4c2c934deb8105a737b2",
       "version_major": 2,
       "version_minor": 0
      },
      "text/plain": [
       "HBox(children=(Output(), Button(button_style='success', description='Pick: Wax-Wane Witness', style=ButtonStyl…"
      ]
     },
     "metadata": {},
     "output_type": "display_data"
    },
    {
     "data": {
      "application/vnd.jupyter.widget-view+json": {
       "model_id": "25f63120446841e39b361b75556180c8",
       "version_major": 2,
       "version_minor": 0
      },
      "text/plain": [
       "HBox(children=(Output(), Button(button_style='success', description='Pick: Raccoon Rallier', style=ButtonStyle…"
      ]
     },
     "metadata": {},
     "output_type": "display_data"
    },
    {
     "data": {
      "application/vnd.jupyter.widget-view+json": {
       "model_id": "35b040abb5dd417393532b2727dc2b29",
       "version_major": 2,
       "version_minor": 0
      },
      "text/plain": [
       "HBox(children=(Output(), Button(button_style='success', description='Pick: Skyskipper Duo', style=ButtonStyle(…"
      ]
     },
     "metadata": {},
     "output_type": "display_data"
    },
    {
     "data": {
      "application/vnd.jupyter.widget-view+json": {
       "model_id": "5b90e7fb4f304ac894cdc9bf2fcde8bf",
       "version_major": 2,
       "version_minor": 0
      },
      "text/plain": [
       "HBox(children=(Output(), Button(button_style='success', description=\"Pick: Hoarder's Overflow\", style=ButtonSt…"
      ]
     },
     "metadata": {},
     "output_type": "display_data"
    },
    {
     "data": {
      "application/vnd.jupyter.widget-view+json": {
       "model_id": "1cdaa36275434e24b74de0d246d05357",
       "version_major": 2,
       "version_minor": 0
      },
      "text/plain": [
       "HBox(children=(Output(), Button(button_style='success', description='Pick: Mind Spiral', style=ButtonStyle()))…"
      ]
     },
     "metadata": {},
     "output_type": "display_data"
    },
    {
     "data": {
      "application/vnd.jupyter.widget-view+json": {
       "model_id": "07dd3e407e124949933cffc2353f7d3a",
       "version_major": 2,
       "version_minor": 0
      },
      "text/plain": [
       "HBox(children=(Output(), Button(button_style='success', description='Pick: Thistledown Players', style=ButtonS…"
      ]
     },
     "metadata": {},
     "output_type": "display_data"
    },
    {
     "data": {
      "application/vnd.jupyter.widget-view+json": {
       "model_id": "5b578297c28c4432bacb5485152bab72",
       "version_major": 2,
       "version_minor": 0
      },
      "text/plain": [
       "HBox(children=(Output(), Button(button_style='success', description='Pick: Reptilian Recruiter', style=ButtonS…"
      ]
     },
     "metadata": {},
     "output_type": "display_data"
    },
    {
     "data": {
      "application/vnd.jupyter.widget-view+json": {
       "model_id": "cb081eaa6a4e4bbda0f86e900c060d7f",
       "version_major": 2,
       "version_minor": 0
      },
      "text/plain": [
       "HBox(children=(Output(), Button(button_style='success', description='Pick: Run Away Together', style=ButtonSty…"
      ]
     },
     "metadata": {},
     "output_type": "display_data"
    },
    {
     "data": {
      "application/vnd.jupyter.widget-view+json": {
       "model_id": "16a869db7fe54a7e9aef43ec5705e12c",
       "version_major": 2,
       "version_minor": 0
      },
      "text/plain": [
       "HBox(children=(Output(), Button(button_style='success', description='Pick: Valley Rally', style=ButtonStyle())…"
      ]
     },
     "metadata": {},
     "output_type": "display_data"
    },
    {
     "data": {
      "application/vnd.jupyter.widget-view+json": {
       "model_id": "7e33ab1ac4384a548e41c7fb46b2e46e",
       "version_major": 2,
       "version_minor": 0
      },
      "text/plain": [
       "HBox(children=(Output(), Button(button_style='success', description='Pick: Bellowing Crier', style=ButtonStyle…"
      ]
     },
     "metadata": {},
     "output_type": "display_data"
    },
    {
     "data": {
      "application/vnd.jupyter.widget-view+json": {
       "model_id": "e79f1ce1e8da4b869d9ac3dd6c25846e",
       "version_major": 2,
       "version_minor": 0
      },
      "text/plain": [
       "HBox(children=(Output(), Button(button_style='success', description=\"Pick: Long River's Pull\", style=ButtonSty…"
      ]
     },
     "metadata": {},
     "output_type": "display_data"
    },
    {
     "data": {
      "application/vnd.jupyter.widget-view+json": {
       "model_id": "375fa151d6bb40dcbe98f37cab4eb83a",
       "version_major": 2,
       "version_minor": 0
      },
      "text/plain": [
       "HBox(children=(Output(), Button(button_style='success', description='Pick: Brave-Kin Duo', style=ButtonStyle()…"
      ]
     },
     "metadata": {},
     "output_type": "display_data"
    },
    {
     "data": {
      "application/vnd.jupyter.widget-view+json": {
       "model_id": "0abedfdd976e42019fbadc588bb48752",
       "version_major": 2,
       "version_minor": 0
      },
      "text/plain": [
       "HBox(children=(Output(), Button(button_style='success', description='Pick: Dewdrop Cure', style=ButtonStyle())…"
      ]
     },
     "metadata": {},
     "output_type": "display_data"
    },
    {
     "data": {
      "application/vnd.jupyter.widget-view+json": {
       "model_id": "3751246307604dc983cf638f88a5eb63",
       "version_major": 2,
       "version_minor": 0
      },
      "text/plain": [
       "HBox(children=(Output(), Button(button_style='success', description='Pick: Kindlespark Duo', style=ButtonStyle…"
      ]
     },
     "metadata": {},
     "output_type": "display_data"
    },
    {
     "data": {
      "application/vnd.jupyter.widget-view+json": {
       "model_id": "1bb7060534f1442eb0360072ad440a8e",
       "version_major": 2,
       "version_minor": 0
      },
      "text/plain": [
       "HBox(children=(Output(), Button(button_style='success', description='Pick: Steampath Charger', style=ButtonSty…"
      ]
     },
     "metadata": {},
     "output_type": "display_data"
    },
    {
     "data": {
      "application/vnd.jupyter.widget-view+json": {
       "model_id": "40c0a0196fb0474f86a0779b50484e21",
       "version_major": 2,
       "version_minor": 0
      },
      "text/plain": [
       "HBox(children=(Output(), Button(button_style='success', description='Pick: Conduct Electricity', style=ButtonS…"
      ]
     },
     "metadata": {},
     "output_type": "display_data"
    },
    {
     "data": {
      "application/vnd.jupyter.widget-view+json": {
       "model_id": "c3b5c0aea6944df1acdb9e39af450aa0",
       "version_major": 2,
       "version_minor": 0
      },
      "text/plain": [
       "HBox(children=(Output(), Button(button_style='success', description='Pick: Lilypad Village', style=ButtonStyle…"
      ]
     },
     "metadata": {},
     "output_type": "display_data"
    },
    {
     "data": {
      "application/vnd.jupyter.widget-view+json": {
       "model_id": "6b9d48b5ef82461db9a87de15f1dee95",
       "version_major": 2,
       "version_minor": 0
      },
      "text/plain": [
       "HBox(children=(Output(), Button(button_style='success', description='Pick: Might of the Meek', style=ButtonSty…"
      ]
     },
     "metadata": {},
     "output_type": "display_data"
    },
    {
     "data": {
      "application/vnd.jupyter.widget-view+json": {
       "model_id": "6b2305f1836e49bdb9d8349d5e770a3e",
       "version_major": 2,
       "version_minor": 0
      },
      "text/plain": [
       "HBox(children=(Output(), Button(button_style='success', description='Pick: Veteran Guardmouse', style=ButtonSt…"
      ]
     },
     "metadata": {},
     "output_type": "display_data"
    },
    {
     "data": {
      "application/vnd.jupyter.widget-view+json": {
       "model_id": "98ae0c5e40034add8d0adfc43a6ff3a9",
       "version_major": 2,
       "version_minor": 0
      },
      "text/plain": [
       "HBox(children=(Output(), Button(button_style='success', description='Pick: Tempest Angler', style=ButtonStyle(…"
      ]
     },
     "metadata": {},
     "output_type": "display_data"
    },
    {
     "data": {
      "application/vnd.jupyter.widget-view+json": {
       "model_id": "5199b9f4f7fa4f599191ee1bd868a9a8",
       "version_major": 2,
       "version_minor": 0
      },
      "text/plain": [
       "HBox(children=(Output(), Button(button_style='success', description='Pick: Frilled Sparkshooter', style=Button…"
      ]
     },
     "metadata": {},
     "output_type": "display_data"
    },
    {
     "data": {
      "application/vnd.jupyter.widget-view+json": {
       "model_id": "fd76bb79236f494cb44d91f49bbb2eca",
       "version_major": 2,
       "version_minor": 0
      },
      "text/plain": [
       "HBox(children=(Output(), Button(button_style='success', description='Pick: Thought Shucker', style=ButtonStyle…"
      ]
     },
     "metadata": {},
     "output_type": "display_data"
    },
    {
     "data": {
      "application/vnd.jupyter.widget-view+json": {
       "model_id": "d3f6de2a9fcf4fc8bbf6631542434f50",
       "version_major": 2,
       "version_minor": 0
      },
      "text/plain": [
       "HBox(children=(Output(), Button(button_style='success', description=\"Pick: Sazacap's Brew\", style=ButtonStyle(…"
      ]
     },
     "metadata": {},
     "output_type": "display_data"
    },
    {
     "data": {
      "application/vnd.jupyter.widget-view+json": {
       "model_id": "d243579b0931476bb8803c240818b93d",
       "version_major": 2,
       "version_minor": 0
      },
      "text/plain": [
       "HBox(children=(Output(), Button(button_style='success', description='Pick: Pileated Provisioner', style=Button…"
      ]
     },
     "metadata": {},
     "output_type": "display_data"
    },
    {
     "data": {
      "application/vnd.jupyter.widget-view+json": {
       "model_id": "33ebf4bf79a940318aac2f857155df58",
       "version_major": 2,
       "version_minor": 0
      },
      "text/plain": [
       "HBox(children=(Output(), Button(button_style='success', description='Pick: Whiskerquill Scribe', style=ButtonS…"
      ]
     },
     "metadata": {},
     "output_type": "display_data"
    },
    {
     "data": {
      "application/vnd.jupyter.widget-view+json": {
       "model_id": "72785541f5df44d59dea25ba0c9159e4",
       "version_major": 2,
       "version_minor": 0
      },
      "text/plain": [
       "HBox(children=(Output(), Button(button_style='success', description='Pick: Nightwhorl Hermit', style=ButtonSty…"
      ]
     },
     "metadata": {},
     "output_type": "display_data"
    },
    {
     "data": {
      "application/vnd.jupyter.widget-view+json": {
       "model_id": "c26086254b4644cdbd91ea9a40da6f4e",
       "version_major": 2,
       "version_minor": 0
      },
      "text/plain": [
       "HBox(children=(Output(), Button(button_style='success', description='Pick: Finch Formation', style=ButtonStyle…"
      ]
     },
     "metadata": {},
     "output_type": "display_data"
    },
    {
     "data": {
      "application/vnd.jupyter.widget-view+json": {
       "model_id": "d0a59b942a1e4290b706bd831a8e0d5a",
       "version_major": 2,
       "version_minor": 0
      },
      "text/plain": [
       "HBox(children=(Output(), Button(button_style='success', description='Pick: Waterspout Warden', style=ButtonSty…"
      ]
     },
     "metadata": {},
     "output_type": "display_data"
    },
    {
     "data": {
      "application/vnd.jupyter.widget-view+json": {
       "model_id": "2429f3eb30194b9b9314526ddc6f0387",
       "version_major": 2,
       "version_minor": 0
      },
      "text/plain": [
       "HBox(children=(Output(), Button(button_style='success', description='Pick: Seedpod Squire', style=ButtonStyle(…"
      ]
     },
     "metadata": {},
     "output_type": "display_data"
    },
    {
     "data": {
      "application/vnd.jupyter.widget-view+json": {
       "model_id": "4c935a7066514777971dd0e38cc735c3",
       "version_major": 2,
       "version_minor": 0
      },
      "text/plain": [
       "HBox(children=(Output(), Button(button_style='success', description='Pick: War Squeak', style=ButtonStyle())))"
      ]
     },
     "metadata": {},
     "output_type": "display_data"
    },
    {
     "name": "stdout",
     "output_type": "stream",
     "text": [
      "\n",
      "Collection:\n"
     ]
    },
    {
     "data": {
      "application/vnd.jupyter.widget-view+json": {
       "model_id": "9b6ab6834681422388c639486c639687",
       "version_major": 2,
       "version_minor": 0
      },
      "text/plain": [
       "VBox(children=(HBox(children=(Output(), Button(button_style='danger', description='Remove: Camellia, the Seedm…"
      ]
     },
     "metadata": {},
     "output_type": "display_data"
    }
   ],
   "source": [
    "# Initial display\n",
    "display_tables()"
   ]
  },
  {
   "cell_type": "code",
   "execution_count": null,
   "id": "c00a75b6",
   "metadata": {},
   "outputs": [],
   "source": []
  }
 ],
 "metadata": {
  "kernelspec": {
   "display_name": "Python 3",
   "language": "python",
   "name": "python3"
  },
  "language_info": {
   "codemirror_mode": {
    "name": "ipython",
    "version": 3
   },
   "file_extension": ".py",
   "mimetype": "text/x-python",
   "name": "python",
   "nbconvert_exporter": "python",
   "pygments_lexer": "ipython3",
   "version": "3.11.1 (main, Dec  9 2022, 21:41:59) [Clang 13.1.6 (clang-1316.0.21.2.5)]"
  },
  "vscode": {
   "interpreter": {
    "hash": "9c7136b2c91bc1fca513082e32f0c7047a62fa9e3434df6035b352999d2d7e84"
   }
  }
 },
 "nbformat": 4,
 "nbformat_minor": 5
}

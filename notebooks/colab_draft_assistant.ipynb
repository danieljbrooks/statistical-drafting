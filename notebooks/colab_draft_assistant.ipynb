{
 "cells": [
  {
   "cell_type": "markdown",
   "metadata": {},
   "source": [
    "# Pandas Draft Assistant\n",
    "\n",
    "Click the following link to run this notebook in Colab:  \n",
    "https://colab.research.google.com/github/danieljbrooks/statistical-drafting/blob/main/notebooks/colab_draft_assistant.ipynb"
   ]
  },
  {
   "cell_type": "code",
   "execution_count": null,
   "metadata": {},
   "outputs": [],
   "source": [
    "# Download a stable version of the draft assistant.\n",
    "!rm -rf /content/statistical-drafting/\n",
    "%cd /content/\n",
    "!git clone https://github.com/danieljbrooks/statistical-drafting.git\n",
    "%cd /content/statistical-drafting/\n",
    "import statisticaldrafting as sd\n",
    "%cd /content/statistical-drafting/notebooks/"
   ]
  },
  {
   "cell_type": "code",
   "execution_count": null,
   "metadata": {},
   "outputs": [],
   "source": [
    "# Set up draft assistant.\n",
    "dm = sd.DraftModel(set=\"FDN\")"
   ]
  },
  {
   "cell_type": "code",
   "execution_count": null,
   "metadata": {},
   "outputs": [],
   "source": [
    "# Enter picks.\n",
    "collection = [163, 184] # Enter draft ids or cardnames, example: [\"Vivien Reid\", 52, 91]\n",
    "pick_order = dm.get_pick_order(collection)\n",
    "pick_order"
   ]
  }
 ],
 "metadata": {
  "kernelspec": {
   "display_name": "3.11.1",
   "language": "python",
   "name": "python3"
  },
  "language_info": {
   "codemirror_mode": {
    "name": "ipython",
    "version": 3
   },
   "file_extension": ".py",
   "mimetype": "text/x-python",
   "name": "python",
   "nbconvert_exporter": "python",
   "pygments_lexer": "ipython3",
   "version": "3.11.1"
  }
 },
 "nbformat": 4,
 "nbformat_minor": 2
}

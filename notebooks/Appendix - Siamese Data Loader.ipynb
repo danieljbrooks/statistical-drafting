{
 "cells": [
  {
   "cell_type": "markdown",
   "id": "3cd2e11a",
   "metadata": {},
   "source": [
    "# Siamese Dataloader\n",
    "\n",
    "This is the dataloader that was used for the Siamese neural net (for historical reference). "
   ]
  },
  {
   "cell_type": "code",
   "execution_count": 1,
   "id": "a4f7e04b",
   "metadata": {},
   "outputs": [],
   "source": [
    "# def get_anchor_positive_negative(pack, pick_vector, pool):\n",
    "#     # Returns siamese anchor, positive, and negative examples corresponding to a single pick. \n",
    "\n",
    "#     # Example inputs:\n",
    "#     # pack = packs.values[0, :]\n",
    "#     # pick_vector = pick_vectors[0, :]\n",
    "#     # pool = pools[0, :]\n",
    "    \n",
    "#     pack_indices = np.nonzero(pack)[0]\n",
    "#     pick_index = np.nonzero(pick_vector)[0][0]\n",
    "\n",
    "#     # Check for negative examples. \n",
    "#     negative_indices = pack_indices[pack_indices != pick_index]\n",
    "#     num_neg = len(negative_indices)\n",
    "        \n",
    "#     # Create negative examples. \n",
    "#     negative_examples = np.zeros((num_neg, len(pack)))\n",
    "#     for i, idx in enumerate(negative_indices):\n",
    "#         negative_examples[i, idx] = 1\n",
    "\n",
    "#     # Creative positives examples.\n",
    "#     positive_examples = np.zeros((num_neg, len(pack)))\n",
    "#     positive_examples[:, pick_index] = 1\n",
    "\n",
    "#     # Create anchors.\n",
    "#     anchors = np.tile(pool, (num_neg, 1))\n",
    "#     return anchors.astype(int), positive_examples.astype(bool), negative_examples.astype(bool)\n",
    "\n",
    "# # Generate all data:\n",
    "# ancs, pes, nes = [], [], []\n",
    "# num_picks = pick_vectors.shape[0]\n",
    "# t0 = time.time()\n",
    "# for i in range(num_picks):\n",
    "#     anc, pe, ne = get_anchor_positive_negative(packs.values[i, :], pick_vectors[i, :], pools.values[i, :])\n",
    "#     ancs.append(anc)\n",
    "#     pes.append(pe)\n",
    "#     nes.append(ne)\n",
    "# print(f\"Time to unpack examples:  {round(time.time() - t0, 2)}s\")\n",
    "\n",
    "# # Stack examples - in memory efficient manner. \n",
    "# t0 = time.time()\n",
    "\n",
    "# positives = np.vstack(pes).astype(bool)\n",
    "# del pes\n",
    "\n",
    "# negatives = np.vstack(nes).astype(bool)\n",
    "# del nes\n",
    "\n",
    "# anchors = np.vstack(ancs).astype(int)\n",
    "# del ancs\n",
    "\n",
    "# print(f\"Time to stack: {round(time.time() - t0, 2)}s\") # Just barely avoids memory issues"
   ]
  },
  {
   "cell_type": "code",
   "execution_count": 2,
   "id": "3f76ca7f",
   "metadata": {},
   "outputs": [],
   "source": [
    "# import torch\n",
    "# from torch.utils.data import DataLoader, Dataset\n",
    "\n",
    "# # Here's the MTG dataset class. \n",
    "# class SiameseDataset(Dataset):\n",
    "#     def __init__(self, anchors, positives, negatives, cardnames):\n",
    "#         # Input is numpy arrays\n",
    "#         self.anchors = anchors\n",
    "#         self.positives = positives\n",
    "#         self.negatives = negatives\n",
    "#         self.cardnames = cardnames\n",
    "                            \n",
    "#     def __len__(self):\n",
    "#         return len(self.anchors)\n",
    "\n",
    "#     def __getitem__(self,index):\n",
    "#         return torch.from_numpy(self.anchors[index]), torch.from_numpy(self.positives[index]), torch.from_numpy(self.negatives[index])"
   ]
  },
  {
   "cell_type": "code",
   "execution_count": 3,
   "id": "5b462fbc",
   "metadata": {},
   "outputs": [],
   "source": [
    "# # Determine train-val split. \n",
    "# train_fraction = 0.8\n",
    "# ssize = round(len(anchors) * train_fraction)\n",
    "\n",
    "# siamese_train_dataset = SiameseDataset(anchors[:ssize], positives[:ssize], negatives[:ssize], cardnames)\n",
    "# siamese_train_dataloader = DataLoader(siamese_train_dataset, batch_size=1000, shuffle=False)"
   ]
  },
  {
   "cell_type": "code",
   "execution_count": 4,
   "id": "393e4022",
   "metadata": {},
   "outputs": [],
   "source": [
    "# t0 = time.time()\n",
    "# for batch in siamese_train_dataloader:\n",
    "#     a, p, n = batch\n",
    "# print(f\"Time to load siamese data: {round(time.time() - t0, 2)}s\")"
   ]
  },
  {
   "cell_type": "code",
   "execution_count": null,
   "id": "9ecf3310",
   "metadata": {},
   "outputs": [],
   "source": []
  }
 ],
 "metadata": {
  "kernelspec": {
   "display_name": "Python 3",
   "language": "python",
   "name": "python3"
  },
  "language_info": {
   "codemirror_mode": {
    "name": "ipython",
    "version": 3
   },
   "file_extension": ".py",
   "mimetype": "text/x-python",
   "name": "python",
   "nbconvert_exporter": "python",
   "pygments_lexer": "ipython3",
   "version": "3.11.1 (main, Dec  9 2022, 21:41:59) [Clang 13.1.6 (clang-1316.0.21.2.5)]"
  },
  "vscode": {
   "interpreter": {
    "hash": "9c7136b2c91bc1fca513082e32f0c7047a62fa9e3434df6035b352999d2d7e84"
   }
  }
 },
 "nbformat": 4,
 "nbformat_minor": 5
}

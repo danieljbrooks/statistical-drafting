{
 "cells": [
  {
   "cell_type": "markdown",
   "metadata": {},
   "source": [
    "# Draft Assistant\n",
    "\n",
    "A code-based draft assistant (no UI)."
   ]
  },
  {
   "cell_type": "code",
   "execution_count": null,
   "metadata": {},
   "outputs": [],
   "source": [
    "# Install package\n",
    "%pip install .. -q\n",
    "\n",
    "import pandas as pd\n",
    "import statisticaldrafting as sd"
   ]
  },
  {
   "cell_type": "code",
   "execution_count": null,
   "metadata": {},
   "outputs": [],
   "source": [
    "# Load a model. \n",
    "# sd.list_sets() # Show available sets.\n",
    "dm = sd.DraftModel(set=\"PIO\", draft_mode=\"Premier\")"
   ]
  },
  {
   "cell_type": "code",
   "execution_count": null,
   "metadata": {},
   "outputs": [],
   "source": [
    "# collection = [\"Vivien Reid\", \"Scavenging Ooze\"] # Collection as cardnames\n",
    "# collection = [16, 229, 78, 78, 198] # Collection as card ids\n",
    "collection = []\n",
    "\n",
    "pick_order = dm.get_pick_order(collection)\n",
    "pick_order = pick_order[pick_order[\"rarity\"].isin([\"common\", \"uncommon\"])] # Optional filter. \n",
    "# pick_order = pick_order[pick_order[\"color_identity\"].isin([\"R\"])] # Optional filter. \n",
    "pick_order.head(25)\n",
    "# pick_order.sort_values(by=\"synergy\", ascending=False).head(30)"
   ]
  },
  {
   "cell_type": "code",
   "execution_count": null,
   "metadata": {},
   "outputs": [],
   "source": [
    "# Deckbuild recommendations after draft. \n",
    "# dm.get_deck_recommendation(collection, starting_colors=\"\")"
   ]
  }
 ],
 "metadata": {
  "kernelspec": {
   "display_name": "Python 3",
   "language": "python",
   "name": "python3"
  },
  "language_info": {
   "codemirror_mode": {
    "name": "ipython",
    "version": 3
   },
   "file_extension": ".py",
   "mimetype": "text/x-python",
   "name": "python",
   "nbconvert_exporter": "python",
   "pygments_lexer": "ipython3",
   "version": "3.11.1"
  }
 },
 "nbformat": 4,
 "nbformat_minor": 2
}

{
 "cells": [
  {
   "cell_type": "markdown",
   "metadata": {},
   "source": [
    "# Draft Assistant"
   ]
  },
  {
   "cell_type": "markdown",
   "metadata": {},
   "source": [
    "This notebook trains drafting models based on 17lands data\n",
    "\n",
    "Currently hacked together"
   ]
  },
  {
   "cell_type": "code",
   "execution_count": null,
   "metadata": {},
   "outputs": [],
   "source": [
    "from collections import Counter\n",
    "import functools\n",
    "import time\n",
    "import torch\n",
    "from torch.utils.data import DataLoader, Dataset\n",
    "\n",
    "import warnings\n",
    "warnings.filterwarnings(\"ignore\")\n",
    "\n",
    "import statisticaldrafting as sd"
   ]
  },
  {
   "cell_type": "code",
   "execution_count": 25,
   "metadata": {},
   "outputs": [],
   "source": [
    "train_path = '../data/training_sets/FDN_Premier_diamond_train.pth'\n",
    "\n",
    "train_dataset = torch.load(train_path)\n",
    "train_dataloader = DataLoader(train_dataset, batch_size=10000, shuffle=True)\n",
    "\n",
    "ss = next(iter(train_dataloader))[0].shape[1] # set size"
   ]
  },
  {
   "cell_type": "code",
   "execution_count": 26,
   "metadata": {},
   "outputs": [
    {
     "data": {
      "text/plain": [
       "<All keys matched successfully>"
      ]
     },
     "execution_count": 26,
     "metadata": {},
     "output_type": "execute_result"
    }
   ],
   "source": [
    "# Load model of interest.\n",
    "model_folder = \"../data/models/\"\n",
    "model_path = model_folder + \"test.pt\"\n",
    "\n",
    "mlp_network = sd.DraftMLP(input_dim=ss, hidden_dims=[200, 200], output_dim=ss, dropout=0.5)\n",
    "mlp_network.load_state_dict(torch.load(model_path))"
   ]
  },
  {
   "cell_type": "code",
   "execution_count": 42,
   "metadata": {},
   "outputs": [],
   "source": [
    "def get_card_distances(collection_list, cur_network, is_siamese=True):\n",
    "    \"\"\" Get card distances for current network. Used for visualization \"\"\"\n",
    "    \n",
    "    # Cardnames - for validation. \n",
    "    cardnames = train_dataloader.dataset.cardnames\n",
    "    \n",
    "    # Get collection vector\n",
    "    collection_vector = torch.zeros([1, ss])\n",
    "    cnt = Counter(collection_list)\n",
    "    for card in cnt:\n",
    "        \n",
    "        # Validate cardname. \n",
    "        if card not in cardnames:\n",
    "            raise Exception(f\"{card} not in set. Please correct cardname.\")\n",
    "\n",
    "        # Add to collection vector. \n",
    "        card_index = cardnames.index(card)\n",
    "        collection_vector[0, card_index] = cnt[card]\n",
    "        \n",
    "    # Get card and collection embeddings (support siamese & MLP)\n",
    "    cur_network.eval()\n",
    "    with torch.no_grad():\n",
    "        if is_siamese:\n",
    "            collection_embedding = cur_network(collection_vector)    \n",
    "        else:\n",
    "            # MLP equivalent. \n",
    "            card_distances = cur_network(collection_vector , torch.ones(ss))\n",
    "    if is_siamese:        \n",
    "        card_embeddings = get_card_embeddings(cur_network)\n",
    "        card_distances = get_distance(card_embeddings, collection_embedding)\n",
    "    return card_distances\n",
    "\n",
    "def get_percentile(card_distances, is_siamese=False, top_score=150):\n",
    "    # TODO: omit basic lands. \n",
    "    card_distances = card_distances.reshape(-1) # Ensure correct shape. \n",
    "    min_distance = min(card_distances).item()\n",
    "    max_distance = max(card_distances).item()\n",
    "    if is_siamese:\n",
    "        percentiles = [top_score * (max_distance - cd) / max_distance for cd in card_distances.tolist()]\n",
    "    else:\n",
    "        percentiles = [top_score * (cd - min_distance) / (max_distance - min_distance) for cd in card_distances.tolist()]\n",
    "    return [round(p, 1) for p in percentiles]\n",
    "\n",
    "# Example. \n",
    "# x = get_card_distances([c for c in collection[\"name\"]], cur_network, is_siamese=True)\n",
    "x = get_card_distances([c for c in collection[\"name\"]], mlp_network, is_siamese=False)\n",
    "p = get_percentile(x)\n",
    "\n",
    "# pd.Series(p).describe()"
   ]
  },
  {
   "cell_type": "code",
   "execution_count": null,
   "metadata": {},
   "outputs": [],
   "source": [
    "# Get card data for visualization. \n",
    "pick_table = pd.read_csv(\"../data/cards.csv\")\n",
    "\n",
    "pick_table = pick_table[pick_table[\"expansion\"].isin([\"FDN\", \"SPG\"])]\n",
    "pick_table = pick_table[pick_table[\"name\"].isin(train_dataloader.dataset.cardnames)]\n",
    "pick_table = pick_table.groupby('name').first()\n",
    "pick_table = pick_table.sort_values(by=[\"name\"]).reset_index()\n",
    "pick_table = pick_table[[\"name\", \"rarity\", \"color_identity\"]]\n",
    "\n",
    "# Fix color identity\n",
    "pick_table[\"color_identity\"] = pick_table[\"color_identity\"].fillna(\"Colorless\")\n",
    "pick_table[\"color_identity\"] = pick_table[\"color_identity\"].apply(lambda x: \"Multicolor\" if (len(x) > 1 and x!=\"Colorless\") else x)\n",
    "\n",
    "# Dummy distance. \n",
    "pick_table[\"distance\"] = [1] * len(pick_table)\n",
    "\n",
    "# Initialize an empty collection DataFrame\n",
    "collection = pd.DataFrame(columns=pick_table.columns)"
   ]
  },
  {
   "cell_type": "code",
   "execution_count": null,
   "metadata": {},
   "outputs": [
    {
     "data": {
      "application/vnd.jupyter.widget-view+json": {
       "model_id": "e8becddb63034eaa90557b5ce0bf0376",
       "version_major": 2,
       "version_minor": 0
      },
      "text/plain": [
       "Button(button_style='warning', description='New Draft', style=ButtonStyle())"
      ]
     },
     "metadata": {},
     "output_type": "display_data"
    },
    {
     "data": {
      "application/vnd.jupyter.widget-view+json": {
       "model_id": "11c71ef4b8e6455d99c367fef4c5e6d4",
       "version_major": 2,
       "version_minor": 0
      },
      "text/plain": [
       "HBox(children=(Dropdown(description='Rarity:', index=1, options=('All', 'common', 'uncommon', 'common+uncommon…"
      ]
     },
     "metadata": {},
     "output_type": "display_data"
    },
    {
     "name": "stdout",
     "output_type": "stream",
     "text": [
      " Card Name              | Rarity    | Color        | Synergy| Rating\n"
     ]
    },
    {
     "data": {
      "application/vnd.jupyter.widget-view+json": {
       "model_id": "34d55944f36d47f7bf9a2889ede69ea5",
       "version_major": 2,
       "version_minor": 0
      },
      "text/plain": [
       "HBox(children=(Output(), Button(button_style='success', description='Pick: Bake into a Pie', style=ButtonStyle…"
      ]
     },
     "metadata": {},
     "output_type": "display_data"
    },
    {
     "data": {
      "application/vnd.jupyter.widget-view+json": {
       "model_id": "9c3aa9481d924693bcb5020102cdd769",
       "version_major": 2,
       "version_minor": 0
      },
      "text/plain": [
       "HBox(children=(Output(), Button(button_style='success', description='Pick: Stab', style=ButtonStyle())))"
      ]
     },
     "metadata": {},
     "output_type": "display_data"
    },
    {
     "data": {
      "application/vnd.jupyter.widget-view+json": {
       "model_id": "22b83f064e234e64a9a75de0cabaffe3",
       "version_major": 2,
       "version_minor": 0
      },
      "text/plain": [
       "HBox(children=(Output(), Button(button_style='success', description='Pick: Eaten Alive', style=ButtonStyle()))…"
      ]
     },
     "metadata": {},
     "output_type": "display_data"
    },
    {
     "data": {
      "application/vnd.jupyter.widget-view+json": {
       "model_id": "ecdf441acd364e23a49eb8cc499a4913",
       "version_major": 2,
       "version_minor": 0
      },
      "text/plain": [
       "HBox(children=(Output(), Button(button_style='success', description='Pick: Burglar Rat', style=ButtonStyle()))…"
      ]
     },
     "metadata": {},
     "output_type": "display_data"
    },
    {
     "data": {
      "application/vnd.jupyter.widget-view+json": {
       "model_id": "16cc18fc7f094769abe93b04bcdd7c85",
       "version_major": 2,
       "version_minor": 0
      },
      "text/plain": [
       "HBox(children=(Output(), Button(button_style='success', description='Pick: Infestation Sage', style=ButtonStyl…"
      ]
     },
     "metadata": {},
     "output_type": "display_data"
    },
    {
     "data": {
      "application/vnd.jupyter.widget-view+json": {
       "model_id": "8700be53a3e24bafbbc891af33be9d25",
       "version_major": 2,
       "version_minor": 0
      },
      "text/plain": [
       "HBox(children=(Output(), Button(button_style='success', description='Pick: Hungry Ghoul', style=ButtonStyle())…"
      ]
     },
     "metadata": {},
     "output_type": "display_data"
    },
    {
     "data": {
      "application/vnd.jupyter.widget-view+json": {
       "model_id": "9b229809cc554327aff45736b692e6f7",
       "version_major": 2,
       "version_minor": 0
      },
      "text/plain": [
       "HBox(children=(Output(), Button(button_style='success', description='Pick: Fake Your Own Death', style=ButtonS…"
      ]
     },
     "metadata": {},
     "output_type": "display_data"
    },
    {
     "data": {
      "application/vnd.jupyter.widget-view+json": {
       "model_id": "e41f0b72d3d94f2cb45a7b882cfc5a52",
       "version_major": 2,
       "version_minor": 0
      },
      "text/plain": [
       "HBox(children=(Output(), Button(button_style='success', description='Pick: Vampire Soulcaller', style=ButtonSt…"
      ]
     },
     "metadata": {},
     "output_type": "display_data"
    },
    {
     "data": {
      "application/vnd.jupyter.widget-view+json": {
       "model_id": "d86e0f33329e4196aa85a0c6d8e23258",
       "version_major": 2,
       "version_minor": 0
      },
      "text/plain": [
       "HBox(children=(Output(), Button(button_style='success', description='Pick: Soul-Shackled Zombie', style=Button…"
      ]
     },
     "metadata": {},
     "output_type": "display_data"
    },
    {
     "data": {
      "application/vnd.jupyter.widget-view+json": {
       "model_id": "9a0d09fb822043458a79f08117cb9551",
       "version_major": 2,
       "version_minor": 0
      },
      "text/plain": [
       "HBox(children=(Output(), Button(button_style='success', description='Pick: Pilfer', style=ButtonStyle())))"
      ]
     },
     "metadata": {},
     "output_type": "display_data"
    },
    {
     "data": {
      "application/vnd.jupyter.widget-view+json": {
       "model_id": "15287dad08c64dbcad336de22e869bfa",
       "version_major": 2,
       "version_minor": 0
      },
      "text/plain": [
       "HBox(children=(Output(), Button(button_style='success', description='Pick: Gutless Plunderer', style=ButtonSty…"
      ]
     },
     "metadata": {},
     "output_type": "display_data"
    },
    {
     "data": {
      "application/vnd.jupyter.widget-view+json": {
       "model_id": "d4174014f9154eda87d11d58651768e9",
       "version_major": 2,
       "version_minor": 0
      },
      "text/plain": [
       "HBox(children=(Output(), Button(button_style='success', description='Pick: Macabre Waltz', style=ButtonStyle()…"
      ]
     },
     "metadata": {},
     "output_type": "display_data"
    },
    {
     "data": {
      "application/vnd.jupyter.widget-view+json": {
       "model_id": "acf5ba46e9474e4ba6b78d56756a8bf7",
       "version_major": 2,
       "version_minor": 0
      },
      "text/plain": [
       "HBox(children=(Output(), Button(button_style='success', description='Pick: Sanguine Syphoner', style=ButtonSty…"
      ]
     },
     "metadata": {},
     "output_type": "display_data"
    },
    {
     "data": {
      "application/vnd.jupyter.widget-view+json": {
       "model_id": "6829137f403b4fd5b6dafbf1df7d1820",
       "version_major": 2,
       "version_minor": 0
      },
      "text/plain": [
       "HBox(children=(Output(), Button(button_style='success', description='Pick: Marauding Blight-Priest', style=But…"
      ]
     },
     "metadata": {},
     "output_type": "display_data"
    },
    {
     "data": {
      "application/vnd.jupyter.widget-view+json": {
       "model_id": "c64f009697e54673aa06820fc066afa1",
       "version_major": 2,
       "version_minor": 0
      },
      "text/plain": [
       "HBox(children=(Output(), Button(button_style='success', description='Pick: Crypt Feaster', style=ButtonStyle()…"
      ]
     },
     "metadata": {},
     "output_type": "display_data"
    },
    {
     "name": "stdout",
     "output_type": "stream",
     "text": [
      "\n",
      "Collection:\n",
      "Collection is empty.\n"
     ]
    }
   ],
   "source": [
    "# UI elements. \n",
    "import pandas as pd\n",
    "from IPython.display import display, clear_output\n",
    "import ipywidgets as widgets\n",
    "\n",
    "# State variables for filters\n",
    "rarity_options = [\"All\", \"common\", \"uncommon\", \"common+uncommon\", \"rare\", \"mythic\"]\n",
    "color_options = [\"All\", \"W\", \"G\", \"U\", \"R\", \"B\", \"Multicolor\", \"Colorless\"]\n",
    "\n",
    "rarity_filter = widgets.Dropdown(\n",
    "    options=rarity_options,\n",
    "    value=\"rare\",\n",
    "    description=\"Rarity:\",\n",
    ")\n",
    "\n",
    "color_filter = widgets.Dropdown(\n",
    "    options=color_options,\n",
    "    value=\"All\",\n",
    "    description=\"Color:\",\n",
    ")\n",
    "\n",
    "def update_table():\n",
    "    \"\"\"Re-render the pick table and collection.\"\"\"\n",
    "    clear_output(wait=True)\n",
    "    display_tables()\n",
    "\n",
    "def make_pick(card):\n",
    "    \"\"\"Add card to the collection and update tables.\"\"\"\n",
    "    global collection\n",
    "    collection = pd.concat([collection, pd.DataFrame([card])], ignore_index=True)\n",
    "    update_table()\n",
    "\n",
    "def remove_card(index):\n",
    "    \"\"\"Remove a card from the collection by index and update tables.\"\"\"\n",
    "    global collection\n",
    "    collection = collection.drop(index).reset_index(drop=True)\n",
    "    update_table()\n",
    "    \n",
    "# Function to reset the collection\n",
    "def reset_collection(change=None):\n",
    "    \"\"\"Reset the collection (clear all cards).\"\"\"\n",
    "    global collection\n",
    "    collection = pd.DataFrame(columns=pick_table.columns)  # Empty collection\n",
    "    update_table()\n",
    "\n",
    "def display_tables():\n",
    "    \"\"\"Display pick table and collection with interactive buttons.\"\"\"\n",
    "    global pick_table\n",
    "\n",
    "    # Update distances pick table.  \n",
    "    collection_list = [n for n in collection[\"name\"]]\n",
    "    # cur_distances = get_card_distances(collection_list, cur_network) # Siamese\n",
    "    # percentiles = get_percentile(cur_distances) Siamese\n",
    "    cur_distances = get_card_distances(collection_list, mlp_network, is_siamese=False) # MLP\n",
    "    percentiles = get_percentile(cur_distances, is_siamese=False) # MLP\n",
    "    pick_table[\"distance\"] = percentiles # Use percentiles for now. \n",
    "    \n",
    "    if \"p1p1_distance\" not in pick_table.columns:\n",
    "        p1p1_distances = get_card_distances([], mlp_network, is_siamese=False)\n",
    "        p1p1_percentiles = get_percentile(p1p1_distances, is_siamese=False)\n",
    "        pick_table[\"p1p1_distance\"] = p1p1_percentiles\n",
    "        \n",
    "    pick_table[\"synergy\"] = (pick_table[\"distance\"] - pick_table[\"p1p1_distance\"]).round(1)\n",
    "        \n",
    "    \n",
    "    # Hide distances in collection table. \n",
    "    collection[\"distance\"] = [\"\"] * len(collection)\n",
    "    \n",
    "    # Apply filters to the pick table\n",
    "    filtered_table = pick_table.copy()\n",
    "\n",
    "    # If the rarity filter is \"All\", exclude cards with \"Basic\" rarity\n",
    "    if rarity_filter.value == \"All\":\n",
    "        filtered_table = filtered_table[filtered_table['rarity'] != \"basic\"]\n",
    "    elif rarity_filter.value == \"common+uncommon\":\n",
    "        filtered_table = filtered_table[filtered_table['rarity'].isin([\"common\", \"uncommon\"])]\n",
    "    else:\n",
    "        filtered_table = filtered_table[filtered_table['rarity'] == rarity_filter.value]\n",
    "    \n",
    "    if color_filter.value != \"All\":\n",
    "        filtered_table = filtered_table[filtered_table['color_identity'] == color_filter.value]\n",
    "\n",
    "    # Sort the filtered pick table by distance (ascending order)\n",
    "    filtered_table = filtered_table.sort_values(by=\"distance\", ascending=False)\n",
    "    \n",
    "    # Add the \"New Draft\" button to reset the collection\n",
    "    new_draft_button = widgets.Button(description=\"New Draft\", button_style=\"warning\")\n",
    "    new_draft_button.on_click(reset_collection)\n",
    "    display(new_draft_button)\n",
    "    \n",
    "    # Display the filters\n",
    "    filter_box = widgets.HBox([rarity_filter, color_filter])\n",
    "    display(filter_box)\n",
    "\n",
    "    # Get the maximum length of card names to align them\n",
    "    max_name_length = filtered_table['name'].apply(len).max()\n",
    "    max_name_length = max(max_name_length, 12)  # Minimum width for the name column is 12\n",
    "\n",
    "    # Formatting function to align columns and display as text\n",
    "    def format_row(row):\n",
    "        return f\"{row['name']:<{max_name_length}} | {row['rarity']:<9} | {row['color_identity']:<12} | {row['synergy']:>+7}| {row['distance']:>6}\"\n",
    "\n",
    "    # Display the filtered pick table with buttons\n",
    "    print(f'{\" Card Name\":<{max_name_length}} | {\"Rarity\":<9} | {\"Color\":<12} | {\"Synergy\":>7}| {\"Rating\":>6}')\n",
    "    for _, row in filtered_table.iterrows():\n",
    "        row_widget = widgets.Output()\n",
    "        with row_widget:\n",
    "            print(format_row(row))\n",
    "\n",
    "        pick_button = widgets.Button(description=f\"Pick: {row['name']}\", button_style=\"success\")\n",
    "        pick_button.on_click(lambda btn, card=row: make_pick(card.to_dict()))\n",
    "\n",
    "        display(widgets.HBox([row_widget, pick_button]))\n",
    "\n",
    "    # Display the collection with remove buttons (same format as pick table)\n",
    "    print(\"\\nCollection:\")\n",
    "    if not collection.empty:\n",
    "        collection_widget = widgets.Output()\n",
    "        with collection_widget:\n",
    "            # Use the same format_row for collection as for pick table\n",
    "            for _, row in collection.iterrows():\n",
    "                print(format_row(row))\n",
    "\n",
    "        remove_buttons = []\n",
    "        for idx, row in collection.iterrows():\n",
    "            remove_button = widgets.Button(description=f\"Remove: {row['name']}\", button_style=\"danger\")\n",
    "            remove_button.on_click(lambda btn, index=idx: remove_card(index))\n",
    "\n",
    "            # Align text and remove button together in the same layout\n",
    "            row_widget = widgets.Output()\n",
    "            with row_widget:\n",
    "                print(format_row(row))\n",
    "            \n",
    "            remove_buttons.append(widgets.HBox([row_widget, remove_button]))\n",
    "\n",
    "        remove_buttons_box = widgets.VBox(remove_buttons)\n",
    "        display(remove_buttons_box)\n",
    "    else:\n",
    "        print(\"Collection is empty.\")\n",
    "\n",
    "# Add observers to filters to trigger table updates\n",
    "rarity_filter.observe(lambda change: update_table(), names='value')\n",
    "color_filter.observe(lambda change: update_table(), names='value')\n",
    "\n",
    "# Initial display\n",
    "display_tables()"
   ]
  }
 ],
 "metadata": {
  "kernelspec": {
   "display_name": "3.11.1",
   "language": "python",
   "name": "python3"
  },
  "language_info": {
   "codemirror_mode": {
    "name": "ipython",
    "version": 3
   },
   "file_extension": ".py",
   "mimetype": "text/x-python",
   "name": "python",
   "nbconvert_exporter": "python",
   "pygments_lexer": "ipython3",
   "version": "3.11.1"
  }
 },
 "nbformat": 4,
 "nbformat_minor": 2
}

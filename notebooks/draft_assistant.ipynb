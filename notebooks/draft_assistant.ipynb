{
 "cells": [
  {
   "cell_type": "markdown",
   "metadata": {},
   "source": [
    "# Draft Assistant"
   ]
  },
  {
   "cell_type": "markdown",
   "metadata": {},
   "source": [
    "This notebook trains drafting models based on 17lands data\n",
    "\n",
    "Currently hacked together"
   ]
  },
  {
   "cell_type": "code",
   "execution_count": 9,
   "metadata": {},
   "outputs": [],
   "source": [
    "from collections import Counter\n",
    "import pandas as pd\n",
    "import torch\n",
    "\n",
    "import warnings\n",
    "warnings.filterwarnings(\"ignore\")\n",
    "\n",
    "# These are for the display. \n",
    "from IPython.display import display, clear_output\n",
    "import ipywidgets as widgets\n",
    "\n",
    "import statisticaldrafting as sd"
   ]
  },
  {
   "cell_type": "code",
   "execution_count": null,
   "metadata": {},
   "outputs": [
    {
     "data": {
      "text/plain": [
       "<All keys matched successfully>"
      ]
     },
     "execution_count": 2,
     "metadata": {},
     "output_type": "execute_result"
    }
   ],
   "source": [
    "target_set = \"FDN\"\n",
    "\n",
    "# Pull data. \n",
    "model_path = f\"../data/models/{target_set}.pt\"\n",
    "card_path = f\"../data/cards/{target_set}.csv\"\n",
    "pick_table = pd.read_csv(card_path)\n",
    "pick_table[\"rating\"] = [1] * len(pick_table)\n",
    "\n",
    "\n",
    "# Load model. \n",
    "mlp_network = sd.DraftMLP(cardnames=pick_table[\"name\"].tolist(), hidden_dims=[300, 300, 300])\n",
    "mlp_network.load_state_dict(torch.load(model_path))"
   ]
  },
  {
   "cell_type": "code",
   "execution_count": 10,
   "metadata": {},
   "outputs": [],
   "source": [
    "def get_card_scores(collection_list, cur_network):\n",
    "    \"\"\" Get card scores (unnormalized) for current network. Used for visualization \"\"\"\n",
    "\n",
    "    # Cardnames - for validation. \n",
    "    # TODO: take cardnames as input.\n",
    "    cardnames = pick_table[\"name\"].tolist()\n",
    "    ss = len(cardnames)\n",
    "\n",
    "    # Get collection vector\n",
    "    collection_vector = torch.zeros([1, ss])\n",
    "    cnt = Counter(collection_list)\n",
    "    for card in cnt:\n",
    "        \n",
    "        # Validate cardname. \n",
    "        if card not in cardnames:\n",
    "            raise Exception(f\"{card} not in set. Please correct cardname.\")\n",
    "\n",
    "        # Add to collection vector. \n",
    "        card_index = cardnames.index(card)\n",
    "        collection_vector[0, card_index] = cnt[card]\n",
    "        \n",
    "    # Get card and collection embeddings. \n",
    "    cur_network.eval()\n",
    "    with torch.no_grad():\n",
    "        card_scores = cur_network(collection_vector, torch.ones(ss))\n",
    "    return card_scores\n",
    "\n",
    "def get_card_ratings(card_scores, top_rating=150):\n",
    "    \"\"\"\n",
    "    Produces a set of normalized card ratings from raw card scores. \n",
    "    \"\"\"\n",
    "    card_scores = card_scores.reshape(-1) # Ensure correct shape. \n",
    "    min_score = min(card_scores).item()\n",
    "    max_score = max(card_scores).item()\n",
    "    card_ratings = [top_rating * (cs - min_score) / (max_score - min_score) for cs in card_scores.tolist()]\n",
    "    return [round(cr, 1) for cr in card_ratings]"
   ]
  },
  {
   "cell_type": "code",
   "execution_count": 11,
   "metadata": {},
   "outputs": [],
   "source": [
    "# raw\n",
    "# Card ranking"
   ]
  },
  {
   "cell_type": "code",
   "execution_count": 12,
   "metadata": {},
   "outputs": [],
   "source": [
    "# Initialize an empty collection DataFrame\n",
    "collection = pd.DataFrame(columns=pick_table.columns)"
   ]
  },
  {
   "cell_type": "code",
   "execution_count": null,
   "metadata": {},
   "outputs": [
    {
     "data": {
      "application/vnd.jupyter.widget-view+json": {
       "model_id": "d6a7476c5cb14ddeab6d5363fd58a8d8",
       "version_major": 2,
       "version_minor": 0
      },
      "text/plain": [
       "Button(button_style='warning', description='New Draft', style=ButtonStyle())"
      ]
     },
     "metadata": {},
     "output_type": "display_data"
    },
    {
     "data": {
      "application/vnd.jupyter.widget-view+json": {
       "model_id": "f052faef15fb4515bc1f1142bdcf74ee",
       "version_major": 2,
       "version_minor": 0
      },
      "text/plain": [
       "HBox(children=(Dropdown(description='Rarity:', index=3, options=('All', 'common', 'uncommon', 'common+uncommon…"
      ]
     },
     "metadata": {},
     "output_type": "display_data"
    },
    {
     "name": "stdout",
     "output_type": "stream",
     "text": [
      " Card Name              | Rarity    | Color        | Synergy| Rating\n"
     ]
    },
    {
     "data": {
      "application/vnd.jupyter.widget-view+json": {
       "model_id": "1aab048adb4242e0b7d20cd79fbb97d8",
       "version_major": 2,
       "version_minor": 0
      },
      "text/plain": [
       "HBox(children=(Output(), Button(button_style='success', description='Pick: Felling Blow', style=ButtonStyle())…"
      ]
     },
     "metadata": {},
     "output_type": "display_data"
    },
    {
     "data": {
      "application/vnd.jupyter.widget-view+json": {
       "model_id": "767620f0328944f59bd69941626d8850",
       "version_major": 2,
       "version_minor": 0
      },
      "text/plain": [
       "HBox(children=(Output(), Button(button_style='success', description='Pick: Elvish Regrower', style=ButtonStyle…"
      ]
     },
     "metadata": {},
     "output_type": "display_data"
    },
    {
     "data": {
      "application/vnd.jupyter.widget-view+json": {
       "model_id": "be661ac7a471489c89f33f882c51289f",
       "version_major": 2,
       "version_minor": 0
      },
      "text/plain": [
       "HBox(children=(Output(), Button(button_style='success', description='Pick: Llanowar Elves', style=ButtonStyle(…"
      ]
     },
     "metadata": {},
     "output_type": "display_data"
    },
    {
     "data": {
      "application/vnd.jupyter.widget-view+json": {
       "model_id": "3635e0497acd4ba889a09717ffc25972",
       "version_major": 2,
       "version_minor": 0
      },
      "text/plain": [
       "HBox(children=(Output(), Button(button_style='success', description='Pick: Nessian Hornbeetle', style=ButtonSt…"
      ]
     },
     "metadata": {},
     "output_type": "display_data"
    },
    {
     "data": {
      "application/vnd.jupyter.widget-view+json": {
       "model_id": "383736e1cb194c8c845b31614ea6d706",
       "version_major": 2,
       "version_minor": 0
      },
      "text/plain": [
       "HBox(children=(Output(), Button(button_style='success', description='Pick: Mild-Mannered Librarian', style=But…"
      ]
     },
     "metadata": {},
     "output_type": "display_data"
    },
    {
     "data": {
      "application/vnd.jupyter.widget-view+json": {
       "model_id": "2efde92de57d4315b6e0763c807d8fa9",
       "version_major": 2,
       "version_minor": 0
      },
      "text/plain": [
       "HBox(children=(Output(), Button(button_style='success', description='Pick: Affectionate Indrik', style=ButtonS…"
      ]
     },
     "metadata": {},
     "output_type": "display_data"
    },
    {
     "data": {
      "application/vnd.jupyter.widget-view+json": {
       "model_id": "0d7c914078a4473cac8f44ce0ad22868",
       "version_major": 2,
       "version_minor": 0
      },
      "text/plain": [
       "HBox(children=(Output(), Button(button_style='success', description='Pick: Needletooth Pack', style=ButtonStyl…"
      ]
     },
     "metadata": {},
     "output_type": "display_data"
    },
    {
     "data": {
      "application/vnd.jupyter.widget-view+json": {
       "model_id": "f378a9559e25409ca728a20011dcd835",
       "version_major": 2,
       "version_minor": 0
      },
      "text/plain": [
       "HBox(children=(Output(), Button(button_style='success', description='Pick: Eager Trufflesnout', style=ButtonSt…"
      ]
     },
     "metadata": {},
     "output_type": "display_data"
    },
    {
     "data": {
      "application/vnd.jupyter.widget-view+json": {
       "model_id": "040f99ffc34848f7ab8ad67b13fdad85",
       "version_major": 2,
       "version_minor": 0
      },
      "text/plain": [
       "HBox(children=(Output(), Button(button_style='success', description='Pick: Bite Down', style=ButtonStyle())))"
      ]
     },
     "metadata": {},
     "output_type": "display_data"
    },
    {
     "data": {
      "application/vnd.jupyter.widget-view+json": {
       "model_id": "afd1aa0c00eb435f99d6ed40cb44ee04",
       "version_major": 2,
       "version_minor": 0
      },
      "text/plain": [
       "HBox(children=(Output(), Button(button_style='success', description='Pick: Overrun', style=ButtonStyle())))"
      ]
     },
     "metadata": {},
     "output_type": "display_data"
    },
    {
     "data": {
      "application/vnd.jupyter.widget-view+json": {
       "model_id": "7502cd4188bc44649798772a2a24699c",
       "version_major": 2,
       "version_minor": 0
      },
      "text/plain": [
       "HBox(children=(Output(), Button(button_style='success', description='Pick: Dwynen, Gilt-Leaf Daen', style=Butt…"
      ]
     },
     "metadata": {},
     "output_type": "display_data"
    },
    {
     "name": "stdout",
     "output_type": "stream",
     "text": [
      "\n",
      "Collection:\n",
      "in collection\n"
     ]
    },
    {
     "data": {
      "application/vnd.jupyter.widget-view+json": {
       "model_id": "e9d6006a633f4fb9a9a0f73e9608f4be",
       "version_major": 2,
       "version_minor": 0
      },
      "text/plain": [
       "VBox(children=(HBox(children=(Output(), Button(button_style='danger', description='Remove: Curator of Destinie…"
      ]
     },
     "metadata": {},
     "output_type": "display_data"
    }
   ],
   "source": [
    "# This UI works now. \n",
    "\n",
    "# State variables for filters\n",
    "rarity_options = [\"All\", \"common\", \"uncommon\", \"common+uncommon\", \"rare\", \"mythic\", \"special\"]\n",
    "color_options = [\"All\", \"W\", \"G\", \"U\", \"R\", \"B\", \"Multicolor\", \"Colorless\"]\n",
    "\n",
    "rarity_filter = widgets.Dropdown(\n",
    "    options=rarity_options,\n",
    "    value=\"rare\",\n",
    "    description=\"Rarity:\",\n",
    ")\n",
    "\n",
    "color_filter = widgets.Dropdown(\n",
    "    options=color_options,\n",
    "    value=\"All\",\n",
    "    description=\"Color:\",\n",
    ")\n",
    "\n",
    "def update_table():\n",
    "    \"\"\"Re-render the pick table and collection.\"\"\"\n",
    "    clear_output(wait=True)\n",
    "    display_tables()\n",
    "\n",
    "def make_pick(card):\n",
    "    \"\"\"Add card to the collection and update tables.\"\"\"\n",
    "    global collection\n",
    "    collection = pd.concat([collection, pd.DataFrame([card])], ignore_index=True)\n",
    "    update_table()\n",
    "\n",
    "def remove_card(index):\n",
    "    \"\"\"Remove a card from the collection by index and update tables.\"\"\"\n",
    "    global collection\n",
    "    collection = collection.drop(index).reset_index(drop=True)\n",
    "    update_table()\n",
    "    \n",
    "# Function to reset the collection\n",
    "def reset_collection(change=None):\n",
    "    \"\"\"Reset the collection (clear all cards).\"\"\"\n",
    "    global collection\n",
    "    collection = pd.DataFrame(columns=pick_table.columns)  # Empty collection\n",
    "    update_table()\n",
    "\n",
    "def notebook_draft_assistant():\n",
    "    \"\"\"Display pick table and collection with interactive buttons.\"\"\"\n",
    "    global pick_table\n",
    "\n",
    "    # Update distances pick table.  \n",
    "    collection_list = [n for n in collection[\"name\"]]\n",
    "    card_scores = get_card_scores(collection_list, mlp_network)\n",
    "    ratings = get_card_ratings(card_scores) \n",
    "    pick_table[\"rating\"] = ratings # Use percentiles for now. \n",
    "    \n",
    "    if \"p1p1_rating\" not in pick_table.columns:\n",
    "        p1p1_scores = get_card_scores([], mlp_network)\n",
    "        p1p1_ratings = get_card_ratings(p1p1_scores)\n",
    "        pick_table[\"p1p1_rating\"] = p1p1_ratings\n",
    "        \n",
    "    pick_table[\"synergy\"] = (pick_table[\"rating\"] - pick_table[\"p1p1_rating\"]).round(1)\n",
    "        \n",
    "    \n",
    "    # Hide distances in collection table. \n",
    "    collection[\"distance\"] = [\"\"] * len(collection)\n",
    "    \n",
    "    # Apply filters to the pick table\n",
    "    filtered_table = pick_table.copy()\n",
    "\n",
    "    # If the rarity filter is \"All\", exclude cards with \"Basic\" rarity\n",
    "    if rarity_filter.value == \"All\":\n",
    "        filtered_table = filtered_table[filtered_table['rarity'] != \"basic\"]\n",
    "    elif rarity_filter.value == \"common+uncommon\":\n",
    "        filtered_table = filtered_table[filtered_table['rarity'].isin([\"common\", \"uncommon\"])]\n",
    "    else:\n",
    "        filtered_table = filtered_table[filtered_table['rarity'] == rarity_filter.value]\n",
    "    \n",
    "    if color_filter.value != \"All\":\n",
    "        filtered_table = filtered_table[filtered_table['color_identity'] == color_filter.value]\n",
    "\n",
    "    # Sort the filtered pick table by distance (ascending order)\n",
    "    filtered_table = filtered_table.sort_values(by=\"distance\", ascending=False)\n",
    "    \n",
    "    # Add the \"New Draft\" button to reset the collection\n",
    "    new_draft_button = widgets.Button(description=\"New Draft\", button_style=\"warning\")\n",
    "    new_draft_button.on_click(reset_collection)\n",
    "    display(new_draft_button)\n",
    "    \n",
    "    # Display the filters\n",
    "    filter_box = widgets.HBox([rarity_filter, color_filter])\n",
    "    display(filter_box)\n",
    "\n",
    "    # Get the maximum length of card names to align them\n",
    "    max_name_length = filtered_table['name'].apply(len).max()\n",
    "    max_name_length = max(max_name_length, 15)  # Minimum width for the name column is 12\n",
    "    \n",
    "    # Formatting function to align columns and display as text\n",
    "    def format_row(row):\n",
    "        return f\"{row['name']:<{max_name_length}} | {row['rarity']:<9} | {row['color_identity']:<12} | {row['synergy']:>+7}| {row['distance']:>6}\"\n",
    "\n",
    "    # Display the filtered pick table with buttons\n",
    "    print(f'{\" Card Name\":<{max_name_length}} | {\"Rarity\":<9} | {\"Color\":<12} | {\"Synergy\":>7}| {\"Rating\":>6}')\n",
    "    for row_count, (index, row) in enumerate(filtered_table.iterrows()):\n",
    "        # print(\"This is called once\", row[\"name\"])\n",
    "        row_widget = widgets.Output()\n",
    "        with row_widget:\n",
    "            print(format_row(row))\n",
    "        pick_button = widgets.Button(description=f\"Pick: {row['name']}\", button_style=\"success\")\n",
    "        pick_button.on_click(lambda btn, card=row: make_pick(card.to_dict()))\n",
    "        display(widgets.HBox([row_widget, pick_button]))\n",
    "\n",
    "        MAX_CARDS_TO_SHOW = 10\n",
    "        if row_count >= MAX_CARDS_TO_SHOW:\n",
    "          break\n",
    "\n",
    "    # Display the collection with remove buttons (same format as pick table)\n",
    "    print(\"\\nCollection:\")\n",
    "    if not collection.empty:\n",
    "        print(\"in collection\")\n",
    "        collection_widget = widgets.Output()\n",
    "        with collection_widget:\n",
    "            # Use the same format_row for collection as for pick table\n",
    "            for _, row in collection.iterrows():\n",
    "                print(format_row(row))\n",
    "\n",
    "        remove_buttons = []\n",
    "        for idx, row in collection.iterrows():\n",
    "            remove_button = widgets.Button(description=f\"Remove: {row['name']}\", button_style=\"danger\")\n",
    "            remove_button.on_click(lambda btn, index=idx: remove_card(index))\n",
    "\n",
    "            # Align text and remove button together in the same layout\n",
    "            row_widget = widgets.Output()\n",
    "            with row_widget:\n",
    "                print(format_row(row))\n",
    "            \n",
    "            remove_buttons.append(widgets.HBox([row_widget, remove_button]))\n",
    "\n",
    "        remove_buttons_box = widgets.VBox(remove_buttons)\n",
    "        display(remove_buttons_box)\n",
    "    else:\n",
    "        print(\"Collection is empty.\")\n",
    "\n",
    "# Add observers to filters to trigger table updates\n",
    "rarity_filter.observe(lambda change: update_table(), names='value')\n",
    "color_filter.observe(lambda change: update_table(), names='value')\n",
    "\n",
    "# Note: restarting the notebook fixes most visual bugs.\n",
    "\n",
    "notebook_draft_assistant()"
   ]
  },
  {
   "cell_type": "code",
   "execution_count": null,
   "metadata": {},
   "outputs": [],
   "source": []
  }
 ],
 "metadata": {
  "kernelspec": {
   "display_name": "3.11.1",
   "language": "python",
   "name": "python3"
  },
  "language_info": {
   "codemirror_mode": {
    "name": "ipython",
    "version": 3
   },
   "file_extension": ".py",
   "mimetype": "text/x-python",
   "name": "python",
   "nbconvert_exporter": "python",
   "pygments_lexer": "ipython3",
   "version": "3.11.1"
  }
 },
 "nbformat": 4,
 "nbformat_minor": 2
}
